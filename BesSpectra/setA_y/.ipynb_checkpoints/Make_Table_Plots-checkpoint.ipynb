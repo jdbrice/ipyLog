{
 "cells": [
  {
   "cell_type": "code",
   "execution_count": 1,
   "metadata": {
    "collapsed": false
   },
   "outputs": [
    {
     "name": "stderr",
     "output_type": "stream",
     "text": [
      "/opt/local/Library/Frameworks/Python.framework/Versions/2.7/lib/python2.7/site-packages/IPython/kernel/__init__.py:13: ShimWarning: The `IPython.kernel` package has been deprecated. You should import from ipykernel or jupyter_client instead.\n",
      "  \"You should import from ipykernel or jupyter_client instead.\", ShimWarning)\n"
     ]
    }
   ],
   "source": [
    "%matplotlib inline\n",
    "import rootpy.ROOT as R\n",
    "R.gROOT.SetBatch(True)\n",
    "from rootpy.io import root_open, DoesNotExist\n",
    "from rootpy.plotting import Canvas, Hist, Legend\n",
    "import rootpy.plotting.root2matplotlib as rplt\n",
    "import matplotlib.pyplot as plt"
   ]
  },
  {
   "cell_type": "code",
   "execution_count": 2,
   "metadata": {
    "collapsed": true
   },
   "outputs": [],
   "source": [
    "f1 = root_open( \"daniel.root\" )\n",
    "f2 = root_open( \"deepti.root\" )\n",
    "c1 = Canvas( width=800, height=500 )"
   ]
  },
  {
   "cell_type": "code",
   "execution_count": 18,
   "metadata": {
    "collapsed": false
   },
   "outputs": [],
   "source": [
    "def print_keyword_args(**kwargs):\n",
    "    for key, value in kwargs.iteritems():\n",
    "        print \"%s = %s\" % (key, value)\n",
    "\n",
    "def single( h, **kwargs ):\n",
    "#     print_keyword_args( **kwargs )\n",
    "    h.SetLineWidth( 2 )\n",
    "    h.SetFillStyle( 0 )\n",
    "    \n",
    "    if \"xr\" in kwargs :\n",
    "        h.GetXaxis().SetRangeUser( kwargs[\"xr\"][0], kwargs[\"xr\"][1] )\n",
    "    \n",
    "    if \"x\" in kwargs :\n",
    "        h.GetXaxis().SetTitle( kwargs[\"x\"] )\n",
    "    if \"y\" in kwargs :\n",
    "        h.GetYaxis().SetTitle( kwargs[\"y\"] )\n",
    "    \n",
    "    if \"optstat\" in kwargs :\n",
    "        R.gStyle.SetOptStat( kwargs[\"optstat\"] )\n",
    "    else :\n",
    "        R.gStyle.SetOptStat( 111 )\n",
    "    \n",
    "    if \"title\" in kwargs :\n",
    "        h.SetTitle( kwargs[ \"title\" ] )\n",
    "    else :\n",
    "        h.SetTitle( \"\" )\n",
    "    \n",
    "    if \"rebinx\" in kwargs :\n",
    "        h.RebinX( kwargs[\"rebinx\"] )\n",
    "    \n",
    "    if \"logy\" in kwargs :\n",
    "        c1.SetLogy( kwargs[\"logy\"] )\n",
    "    else :\n",
    "        c1.SetLogy( 0 )\n",
    "    \n",
    "    if \"logz\" in kwargs :\n",
    "        c1.SetLogz( kwargs[\"logz\"] )\n",
    "    else :\n",
    "        c1.SetLogz( 0 )\n",
    "        \n",
    "    if \"logx\" in kwargs :\n",
    "        c1.SetLogx( kwargs[\"logx\"] )\n",
    "    else :\n",
    "        c1.SetLogx( 0 )\n",
    "        \n",
    "    if \"color\" in kwargs :\n",
    "        h.SetLineColor( kwargs[ \"color\" ] )\n",
    "    else : \n",
    "        h.SetLineColor( R.kBlack )\n",
    "    \n",
    "    draw = \"\"\n",
    "    if \"draw\" in kwargs :\n",
    "        draw = kwargs[ \"draw\" ]\n",
    "    h.Draw(draw)\n",
    "    if \"name\" in kwargs :\n",
    "        c1.Print( kwargs[\"name\"] )\n",
    "        \n",
    "\n",
    "def compare( h1, h2, **kwargs ) :\n",
    "    single( h2, color=R.kBlue, title=\"Daniel(Red), Debadeepti(Blue)\", optstat=0, **kwargs )\n",
    "    single( h1, color=R.kRed, draw=\"SAME\", optstat=0, **kwargs )\n",
    "    \n",
    "def ratio( h1, h2, **kwargs ) :\n",
    "    hn = h1.Clone( h1.name + \"_num\" )\n",
    "    hn.GetYaxis().SetRangeUser( 0.8, 1.2 )\n",
    "    hn.Sumw2()\n",
    "    hd = h2.Clone( h2.name + \"_den\" )\n",
    "    hd.Sumw2()\n",
    "    hn.Divide( hd )\n",
    "\n",
    "    hn.Draw()\n",
    "    if \"name\" in kwargs :\n",
    "        c1.Print( kwargs[\"name\"] )\n",
    "\n",
    "def compare_entries( dan, deb ):\n",
    "    print '\"notes\" : \"diff =', dan.GetEntries() - deb.GetEntries(), ' <br/>%diff = ', ((dan.GetEntries() - deb.GetEntries()) / dan.GetEntries()) * 100, '\"'"
   ]
  },
  {
   "cell_type": "markdown",
   "metadata": {},
   "source": [
    "## Event Level Plots"
   ]
  },
  {
   "cell_type": "code",
   "execution_count": 4,
   "metadata": {
    "collapsed": false
   },
   "outputs": [],
   "source": [
    "\n",
    "single( f1.event_vZ, name=\"img/daniel_vz.png\", x=\"vertex Z [cm]\", color=R.kRed )\n",
    "single( f2.VertexZ, name=\"img/deb_vz.png\", x=\"vertex Z [cm]\", color=R.kBlue )\n",
    "compare( f1.event_vZ, f2.VertexZ, name=\"img/vz.png\", x=\"vertex Z [cm]\" )\n",
    "\n",
    "single( f1.event_vR, name=\"img/daniel_vr.png\", x=\"vertex R [cm]\", color=R.kRed, logy=1 )\n",
    "single( f2.Vr, logy=1, name=\"img/deb_vr.png\", x=\"vertex R [cm]\", color=R.kBlue )\n",
    "compare( f1.event_vR, f2.Vr, name=\"img/vr.png\", x=\"vertex R [cm]\", logy=1 )\n",
    "\n",
    "single( f1.event_refMult, name=\"img/daniel_rm.png\", x=\"Corr RefMult wo EventWeight\", color=R.kRed, logy=1 )\n",
    "single( f2.href, name=\"img/deb_rm.png\", x=\"Corr RefMult wo EventWeight\", color=R.kBlue, logy=1, logx=1 )\n",
    "compare( f1.event_refMult, f2.href, name=\"img/rm.png\", x=\"Corr RefMult wo EventWeight\", logy=1, logx=1 )\n",
    "\n",
    "single( f1.event_corrRefMult, name=\"img/daniel_crm.png\", x=\"CorrRefMult\", color=R.kRed, logy=1 )\n"
   ]
  },
  {
   "cell_type": "code",
   "execution_count": 4,
   "metadata": {
    "collapsed": false
   },
   "outputs": [],
   "source": [
    "#daniel\n",
    "single( f1.track_nHitsFit, name=\"img/daniel_nhitsfit.png\", x=\"nHitsFit(kTpcId)\", color=R.kRed )\n",
    "single( f1.track_nHitsDedx, name=\"img/daniel_nhitsdedx.png\", x=\"nHitsDedx\", color=R.kRed )\n",
    "single( f1.track_nHitsFitOverPoss, name=\"img/daniel_nhitsfitoverposs.png\", x=\"nHitsFit(kTpcId) / nHitsPoss(kTpcId)\", color=R.kRed )\n",
    "single( f1.track_dca, logy=1, name=\"img/daniel_dca.png\", x=\"DCA [cm]\", color=R.kRed)\n",
    "single( f1.track_ptRatio, name=\"img/daniel_ptratio.png\", x=\"gloabl pT / primary pT\", color=R.kRed)\n",
    "single( f1.track_yLocal, name=\"img/daniel_ylocal.png\", x=\"TOF yLocal [cm]\", color=R.kRed)\n",
    "single( f1.track_zLocal, name=\"img/daniel_zlocal.png\", x=\"TOF zLocal [cm]\", color=R.kRed)\n",
    "\n",
    "single( f1.track_rapidity, name=\"img/daniel_rapidity.png\", x=\"rapidity\", color=R.kRed)\n",
    "single( f1.track_eta, name=\"img/daniel_eta.png\", x=\"pseudorapidity\", color=R.kRed)\n",
    "\n",
    "c1 = Canvas( width=800, height=500 )\n",
    "single( f1.track_beta_p, name=\"img/daniel_beta.png\", draw=\"colz\", x=\"P [GeV/c]\", logz=1, y=\"1/#beta\")\n",
    "single( f1.pt_spectra_0, name=\"img/daniel_pt_spectra_0.png\", x=\"cent9_bin=0  pT [GeV/c]\", logy=1, color=R.kRed )\n",
    "single( f1.pt_spectra_1, name=\"img/daniel_pt_spectra_1.png\", x=\"cent9_bin=1  pT [GeV/c]\", logy=1, color=R.kRed )\n",
    "single( f1.pt_spectra_2, name=\"img/daniel_pt_spectra_2.png\", x=\"cent9_bin=2  pT [GeV/c]\", logy=1, color=R.kRed )\n",
    "single( f1.pt_spectra_3, name=\"img/daniel_pt_spectra_3.png\", x=\"cent9_bin=3  pT [GeV/c]\", logy=1, color=R.kRed )\n",
    "single( f1.pt_spectra_4, name=\"img/daniel_pt_spectra_4.png\", x=\"cent9_bin=4  pT [GeV/c]\", logy=1, color=R.kRed )\n",
    "single( f1.pt_spectra_5, name=\"img/daniel_pt_spectra_5.png\", x=\"cent9_bin=5  pT [GeV/c]\", logy=1, color=R.kRed )\n",
    "single( f1.pt_spectra_6, name=\"img/daniel_pt_spectra_6.png\", x=\"cent9_bin=6  pT [GeV/c]\", logy=1, color=R.kRed )\n",
    "single( f1.pt_spectra_7, name=\"img/daniel_pt_spectra_7.png\", x=\"cent9_bin=7  pT [GeV/c]\", logy=1, color=R.kRed )\n",
    "single( f1.pt_spectra_8, name=\"img/daniel_pt_spectra_8.png\", x=\"cent9_bin=8  pT [GeV/c]\", logy=1, color=R.kRed )\n",
    "\n",
    "\n",
    "\n",
    "single( f2.hpt_1, name=\"img/deb_pt_spectra_0.png\", x=\"cent9_bin=0  pT [GeV/c]\", logy=1, color=R.kBlue )\n",
    "single( f2.hpt_2, name=\"img/deb_pt_spectra_1.png\", x=\"cent9_bin=1  pT [GeV/c]\", logy=1, color=R.kBlue )\n",
    "single( f2.hpt_3, name=\"img/deb_pt_spectra_2.png\", x=\"cent9_bin=2  pT [GeV/c]\", logy=1, color=R.kBlue )\n",
    "single( f2.hpt_4, name=\"img/deb_pt_spectra_3.png\", x=\"cent9_bin=3  pT [GeV/c]\", logy=1, color=R.kBlue )\n",
    "single( f2.hpt_5, name=\"img/deb_pt_spectra_4.png\", x=\"cent9_bin=4  pT [GeV/c]\", logy=1, color=R.kBlue )\n",
    "single( f2.hpt_6, name=\"img/deb_pt_spectra_5.png\", x=\"cent9_bin=5  pT [GeV/c]\", logy=1, color=R.kBlue )\n",
    "single( f2.hpt_7, name=\"img/deb_pt_spectra_6.png\", x=\"cent9_bin=6  pT [GeV/c]\", logy=1, color=R.kBlue )\n",
    "single( f2.hpt_8, name=\"img/deb_pt_spectra_7.png\", x=\"cent9_bin=7  pT [GeV/c]\", logy=1, color=R.kBlue )\n",
    "single( f2.hpt_9, name=\"img/deb_pt_spectra_8.png\", x=\"cent9_bin=8  pT [GeV/c]\", logy=1, color=R.kBlue )\n",
    "\n"
   ]
  },
  {
   "cell_type": "code",
   "execution_count": 5,
   "metadata": {
    "collapsed": false
   },
   "outputs": [],
   "source": [
    "c1 = Canvas( width=800, height=500 )\n",
    "single( f2.hnhits, name=\"img/deb_nhitsfit.png\", x=\"nHitsFit\", color=R.kBlue )\n",
    "single( f2.hndedx, name=\"img/deb_nhitsdedx.png\", x=\"nHitsDedx\", color=R.kBlue )\n",
    "single( f2.hnfit_nfitposs, name=\"img/deb_nhitsfitoverposs.png\", x=\"nHitsFit / nHitsPoss\", color=R.kBlue )\n",
    "single( f2.hdca, logy=1, name=\"img/deb_dca.png\", x=\"DCA [cm]\", color=R.kBlue )\n",
    "single( f2.heta, name=\"img/deb_eta.png\", x=\"pseudorapidity\", color=R.kBlue, xr=(-1.5, 1.5) )\n",
    "single( f2.hbeta, name=\"img/deb_beta.png\", x=\"P [GeV/c]\", y=\"1/#beta\", logz=1, draw=\"colz\" )"
   ]
  },
  {
   "cell_type": "code",
   "execution_count": 6,
   "metadata": {
    "collapsed": true
   },
   "outputs": [],
   "source": [
    "compare( f1.track_nHitsFit, f2.hnhits, name=\"img/nhitsfit.png\", x=\"nHitsFit\" )\n",
    "compare( f1.track_nHitsDedx, f2.hndedx, name=\"img/nhitsdedx.png\", x=\"nHitsDedx\" )\n",
    "compare( f1.track_nHitsFitOverPoss, f2.hnfit_nfitposs, name=\"img/nhitsfitoverposs.png\", x=\"nHitsFit / nHitsPoss\" )\n",
    "compare( f1.track_dca, f2.hdca, logy=1, name=\"img/dca.png\", x=\"DCA [cm]\" )\n",
    "\n",
    "compare( f1.track_eta, f2.heta, name=\"img/eta.png\", x=\"pseudorapidity\" )\n"
   ]
  },
  {
   "cell_type": "code",
   "execution_count": 7,
   "metadata": {
    "collapsed": false
   },
   "outputs": [],
   "source": [
    "c1 = Canvas( width=800, height=500 )\n",
    "\n",
    "compare(  f1.pt_spectra_0, f2.hpt_1, name=\"img/pt_spectra_0.png\", x=\"cent9_bin=0  pT [GeV/c]\", logy=1 )\n",
    "compare(  f1.pt_spectra_1, f2.hpt_2, name=\"img/pt_spectra_1.png\", x=\"cent9_bin=1  pT [GeV/c]\", logy=1 )\n",
    "compare(  f1.pt_spectra_2, f2.hpt_3, name=\"img/pt_spectra_2.png\", x=\"cent9_bin=2  pT [GeV/c]\", logy=1 )\n",
    "compare(  f1.pt_spectra_3, f2.hpt_4, name=\"img/pt_spectra_3.png\", x=\"cent9_bin=3  pT [GeV/c]\", logy=1 )\n",
    "compare(  f1.pt_spectra_4, f2.hpt_5, name=\"img/pt_spectra_4.png\", x=\"cent9_bin=4  pT [GeV/c]\", logy=1 )\n",
    "compare(  f1.pt_spectra_5, f2.hpt_6, name=\"img/pt_spectra_5.png\", x=\"cent9_bin=5  pT [GeV/c]\", logy=1 )\n",
    "compare(  f1.pt_spectra_6, f2.hpt_7, name=\"img/pt_spectra_6.png\", x=\"cent9_bin=6  pT [GeV/c]\", logy=1 )\n",
    "compare(  f1.pt_spectra_7, f2.hpt_8, name=\"img/pt_spectra_7.png\", x=\"cent9_bin=7  pT [GeV/c]\", logy=1 )\n",
    "compare(  f1.pt_spectra_8, f2.hpt_9, name=\"img/pt_spectra_8.png\", x=\"cent9_bin=8  pT [GeV/c]\", logy=1 )"
   ]
  },
  {
   "cell_type": "code",
   "execution_count": 23,
   "metadata": {
    "collapsed": false
   },
   "outputs": [],
   "source": [
    "ratio(  f1.pt_spectra_0, f2.hpt_1, name=\"img/ratio_pt_spectra_0.png\", x=\"cent9_bin=0  pT [GeV/c]\", logy=1 )\n",
    "ratio(  f1.pt_spectra_1, f2.hpt_2, name=\"img/ratio_pt_spectra_1.png\", x=\"cent9_bin=1  pT [GeV/c]\", logy=1 )\n",
    "ratio(  f1.pt_spectra_2, f2.hpt_3, name=\"img/ratio_pt_spectra_2.png\", x=\"cent9_bin=2  pT [GeV/c]\", logy=1 )\n",
    "ratio(  f1.pt_spectra_3, f2.hpt_4, name=\"img/ratio_pt_spectra_3.png\", x=\"cent9_bin=3  pT [GeV/c]\", logy=1 )\n",
    "ratio(  f1.pt_spectra_4, f2.hpt_5, name=\"img/ratio_pt_spectra_4.png\", x=\"cent9_bin=4  pT [GeV/c]\", logy=1 )\n",
    "ratio(  f1.pt_spectra_5, f2.hpt_6, name=\"img/ratio_pt_spectra_5.png\", x=\"cent9_bin=5  pT [GeV/c]\", logy=1 )\n",
    "ratio(  f1.pt_spectra_6, f2.hpt_7, name=\"img/ratio_pt_spectra_6.png\", x=\"cent9_bin=6  pT [GeV/c]\", logy=1 )\n",
    "ratio(  f1.pt_spectra_7, f2.hpt_8, name=\"img/ratio_pt_spectra_7.png\", x=\"cent9_bin=7  pT [GeV/c]\", logy=1 )\n",
    "ratio(  f1.pt_spectra_8, f2.hpt_9, name=\"img/ratio_pt_spectra_8.png\", x=\"cent9_bin=8  pT [GeV/c]\", logy=1 )"
   ]
  },
  {
   "cell_type": "code",
   "execution_count": 19,
   "metadata": {
    "collapsed": false
   },
   "outputs": [
    {
     "name": "stdout",
     "output_type": "stream",
     "text": [
      "\"notes\" : \"diff =\" -9.0  <br/>%diff =  -0.0643500643501 \"\n",
      "\"notes\" : \"diff =\" 30.0  <br/>%diff =  0.101423307076 \"\n",
      "\"notes\" : \"diff =\" -25.0  <br/>%diff =  -0.0381149852876 \"\n",
      "\"notes\" : \"diff =\" 46.0  <br/>%diff =  0.0415759076653 \"\n",
      "\"notes\" : \"diff =\" -75.0  <br/>%diff =  -0.0402777554012 \"\n",
      "\"notes\" : \"diff =\" 13.0  <br/>%diff =  0.00488979161965 \"\n",
      "\"notes\" : \"diff =\" 155.0  <br/>%diff =  0.0420242113682 \"\n",
      "\"notes\" : \"diff =\" -440.0  <br/>%diff =  -0.204791182809 \"\n",
      "\"notes\" : \"diff =\" 312.0  <br/>%diff =  0.127235802197 \"\n"
     ]
    }
   ],
   "source": [
    "# compare the number of events in each\n",
    "compare_entries(  f1.pt_spectra_0, f2.hpt_1 )\n",
    "compare_entries(  f1.pt_spectra_1, f2.hpt_2 )\n",
    "compare_entries(  f1.pt_spectra_2, f2.hpt_3 )\n",
    "compare_entries(  f1.pt_spectra_3, f2.hpt_4 )\n",
    "compare_entries(  f1.pt_spectra_4, f2.hpt_5 )\n",
    "compare_entries(  f1.pt_spectra_5, f2.hpt_6 )\n",
    "compare_entries(  f1.pt_spectra_6, f2.hpt_7 )\n",
    "compare_entries(  f1.pt_spectra_7, f2.hpt_8 )\n",
    "compare_entries(  f1.pt_spectra_8, f2.hpt_9 )"
   ]
  },
  {
   "cell_type": "code",
   "execution_count": 9,
   "metadata": {
    "collapsed": false
   },
   "outputs": [
    {
     "data": {
      "text/plain": [
       "False"
      ]
     },
     "execution_count": 9,
     "metadata": {},
     "output_type": "execute_result"
    }
   ],
   "source": [
    "f1.close()\n",
    "f2.close()"
   ]
  },
  {
   "cell_type": "code",
   "execution_count": null,
   "metadata": {
    "collapsed": true
   },
   "outputs": [],
   "source": [
    "TrackCount;1\tTrackCount\n",
    "  KEY: TH1D\thnhits_pre;1\tNHits distribution\n",
    "  KEY: TH1D\thnfit_nfitposs_pre;1\tNfit_nfitposs distribution\n",
    "  KEY: TH1D\thndedx_pre;1\tNhitsdEdx distribution\n",
    "  KEY: TH1D\thdca_pre;1\tDCA distribution\n",
    "  KEY: TH1D\theta_pre;1\t#eta distribution\n",
    "  KEY: TH1D\thnhits;1\tNHits distribution\n",
    "  KEY: TH1D\thnfit_nfitposs;1\tNfit_nfitposs distribution\n",
    "  KEY: TH1D\thndedx;1\tNhitsdEdx distribution\n",
    "  KEY: TH1D\thdca;1\tDCA distribution\n",
    "  KEY: TH1D\theta;1\t#eta distribution\n",
    "  KEY: TH1D\thphi;1\t#phi distribution\n",
    "  KEY: TH1F\thref;1\tRefMult \n",
    "  KEY: TH1D\tRefm_cent_1;1\tRefmult\n",
    "  KEY: TH1D\tRefm_cent_2;1\tRefmult\n",
    "  KEY: TH1D\tRefm_cent_3;1\tRefmult\n",
    "  KEY: TH1D\tRefm_cent_4;1\tRefmult\n",
    "  KEY: TH1D\tRefm_cent_5;1\tRefmult\n",
    "  KEY: TH1D\tRefm_cent_6;1\tRefmult\n",
    "  KEY: TH1D\tRefm_cent_7;1\tRefmult\n",
    "  KEY: TH1D\tRefm_cent_8;1\tRefmult\n",
    "  KEY: TH1D\tRefm_cent_9;1\tRefmult\n",
    "  KEY: TH2D\thdEdxp;1\t  dEdx-vs-p   \n",
    "  KEY: TH2D\thbeta;1\t1/#beta vs p*q\n",
    "  KEY: TH2D\thptdca;1\tDCA Distribution"
   ]
  },
  {
   "cell_type": "code",
   "execution_count": null,
   "metadata": {
    "collapsed": true
   },
   "outputs": [],
   "source": [
    "track_cuts;1\tTrack Cuts\n",
    "  KEY: TH1F\ttrack_pre_nHitsFit;1\t\n",
    "  KEY: TH1F\ttrack_nHitsFit;1\t\n",
    "  KEY: TH1F\ttrack_pre_nHitsDedx;1\t\n",
    "  KEY: TH1F\ttrack_nHitsDedx;1\t\n",
    "  KEY: TH1F\ttrack_pre_nHitsFitOverPoss;1\t\n",
    "  KEY: TH1F\ttrack_nHitsFitOverPoss;1\t\n",
    "  KEY: TH1F\ttrack_pre_ptRatio;1\t\n",
    "  KEY: TH1F\ttrack_ptRatio;1\t\n",
    "  KEY: TH2F\ttrack_pre_ptRatio2D;1\tGlobal vs. Primary\n",
    "  KEY: TH2F\ttrack_ptRatio2D;1\tGlobal vs. Primary\n",
    "  KEY: TH1F\ttrack_pre_dca;1\t\n",
    "  KEY: TH1F\ttrack_dca;1\t\n",
    "  KEY: TH1F\ttrack_pre_yLocal;1\t\n",
    "  KEY: TH1F\ttrack_yLocal;1\t\n",
    "  KEY: TH1F\ttrack_pre_zLocal;1\t\n",
    "  KEY: TH1F\ttrack_zLocal;1\t\n",
    "track_pre_eta;1\tpre #eta\n",
    "  KEY: TH1F\ttrack_eta;1\t#eta\n",
    "  KEY: TH1F\ttrack_pre_rapidity;1\tpre rapidity\n",
    "  KEY: TH1F\ttrack_rapidity;1\trapidity\n",
    "  KEY: TH2F\ttrack_pre_eta_phi;1\tpre #eta\n",
    "  KEY: TH2F\ttrack_eta_phi;1\t#eta\n",
    "  KEY: TH2F\ttrackBeta;1\tbeta\n",
    "  KEY: TH1F\tpt_spectra_0;1\tp_T Spectra\n",
    "  KEY: TH1F\tpt_spectra_1;1\tp_T Spectra\n",
    "  KEY: TH1F\tpt_spectra_2;1\tp_T Spectra\n",
    "  KEY: TH1F\tpt_spectra_3;1\tp_T Spectra\n",
    "  KEY: TH1F\tpt_spectra_4;1\tp_T Spectra\n",
    "  KEY: TH1F\tpt_spectra_5;1\tp_T Spectra\n",
    "  KEY: TH1F\tpt_spectra_6;1\tp_T Spectra\n",
    "  KEY: TH1F\tpt_spectra_7;1\tp_T Spectra\n",
    "  KEY: TH1F\tpt_spectra_8;1\tp_T Spectra"
   ]
  },
  {
   "cell_type": "code",
   "execution_count": null,
   "metadata": {
    "collapsed": true
   },
   "outputs": [],
   "source": [
    "TrackCount;1\tTrackCount\n",
    "  KEY: TH1D\thnhits_pre;1\tNHits distribution\n",
    "  KEY: TH1D\thnfit_nfitposs_pre;1\tNfit_nfitposs distribution\n",
    "  KEY: TH1D\thndedx_pre;1\tNhitsdEdx distribution\n",
    "  KEY: TH1D\thdca_pre;1\tDCA distribution\n",
    "  KEY: TH1D\theta_pre;1\t#eta distribution\n",
    "  KEY: TH1D\thnhits;1\tNHits distribution\n",
    "  KEY: TH1D\thnfit_nfitposs;1\tNfit_nfitposs distribution\n",
    "  KEY: TH1D\thndedx;1\tNhitsdEdx distribution\n",
    "  KEY: TH1D\thdca;1\tDCA distribution\n",
    "  KEY: TH1D\theta;1\t#eta distribution\n",
    "  KEY: TH1D\thphi;1\t#phi distribution\n",
    "  KEY: TH1F\thref;1\tRefMult \n",
    "  KEY: TH1D\tRefm_cent_1;1\tRefmult\n",
    "  KEY: TH1D\tRefm_cent_2;1\tRefmult\n",
    "  KEY: TH1D\tRefm_cent_3;1\tRefmult\n",
    "  KEY: TH1D\tRefm_cent_4;1\tRefmult\n",
    "  KEY: TH1D\tRefm_cent_5;1\tRefmult\n",
    "  KEY: TH1D\tRefm_cent_6;1\tRefmult\n",
    "  KEY: TH1D\tRefm_cent_7;1\tRefmult\n",
    "  KEY: TH1D\tRefm_cent_8;1\tRefmult\n",
    "  KEY: TH1D\tRefm_cent_9;1\tRefmult\n",
    "  KEY: TH2D\thdEdxp;1\t  dEdx-vs-p   \n",
    "  KEY: TH2D\thbeta;1\t1/#beta vs p*q\n",
    "  KEY: TH2D\thptdca;1\tDCA Distribution"
   ]
  }
 ],
 "metadata": {
  "kernelspec": {
   "display_name": "Python 2",
   "language": "python",
   "name": "python2"
  },
  "language_info": {
   "codemirror_mode": {
    "name": "ipython",
    "version": 2
   },
   "file_extension": ".py",
   "mimetype": "text/x-python",
   "name": "python",
   "nbconvert_exporter": "python",
   "pygments_lexer": "ipython2",
   "version": "2.7.11"
  }
 },
 "nbformat": 4,
 "nbformat_minor": 0
}
