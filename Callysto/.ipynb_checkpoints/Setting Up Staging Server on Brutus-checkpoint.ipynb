{
 "cells": [
  {
   "cell_type": "markdown",
   "metadata": {},
   "source": [
    "## Ubuntu 14.04 LTS server setup for staging"
   ]
  },
  {
   "cell_type": "markdown",
   "metadata": {},
   "source": [
    "Mostly based on [Setting Up Server](http://vladigleba.com/blog/2014/03/14/deploying-rails-apps-part-2-setting-up-the-server/)\n",
    "```bash\n",
    "sudo apt-get update\n",
    "sudo apt-get -y install curl\n",
    "sudo apt-get -y install git\n",
    "sudo curl -L https://raw.github.com/fesplugas/rbenv-installer/master/bin/rbenv-installer | bash\n",
    "```\n",
    "Then add rbenv to path in .bash_profile\n",
    "```bash\n",
    "sudo apt-get install zlib1g-dev build-essential libssl-dev libreadline-dev libyaml-dev libsqlite3-dev sqlite3 libxml2-dev libxslt1-dev\n",
    "```\n",
    "Setting up NGINX\n",
    "```bash\n",
    "sudo add-apt-repository ppa:nginx/stable\n",
    "sudo apt-get -y update\n",
    "sudo apt-get -y install nginx\n",
    "```\n",
    "setting up nodejs\n",
    "```bash\n",
    "sudo apt-get install -y nodejs &&\n",
    "sudo ln -sf /usr/bin/nodejs /usr/local/bin/node\n",
    "```\n",
    "Setting up Passenger with NGINX\n",
    "```bash\n",
    "sudo apt-key adv --keyserver hkp://keyserver.ubuntu.com:80 --recv-keys 561F9B9CAC40B2F7\n",
    "sudo apt-get install -y apt-transport-https ca-certificates\n",
    "sudo sh -c 'echo deb https://oss-binaries.phusionpassenger.com/apt/passenger trusty main > /etc/apt/sources.list.d/passenger.list'\n",
    "sudo apt-get update\n",
    "sudo apt-get install -y nginx-extras passenger\n",
    "```\n",
    "edit the /etc/nginx/nginx.conf --> uncomment \n",
    "```bash\n",
    "# passenger_root /some-filename/locations.ini;\n",
    "# passenger_ruby /usr/bin/passenger_free_ruby;\n",
    "```\n",
    "Restart NGINX and validate\n",
    "```bash\n",
    "sudo service nginx restart\n",
    "sudo passenger-config validate-install\n",
    "sudo passenger-memory-stats\n",
    "```\n",
    "\n",
    "Setting up Postgresql\n",
    "```bash\n",
    "sudo apt-get install postgresql postgresql-contrib libpq-dev\n",
    "sudo -u postgres psql\n",
    "\\password\n",
    "danhead99\n",
    "create user admin with password 'danhead99';\n",
    "create database callysto owner admin;\n",
    "```\n",
    "Now Ruby\n",
    "```bash\n",
    "rbenv install --list\n",
    "rbenv install 2.2.0\n",
    "rbenv global 2.2.0\n",
    "gem install bundler --no-ri --no-rdoc\n",
    "rbenv rehash\n",
    "echo \"gem: --no-rdoc --no-ri\" >> ~/.gemrc\n",
    "bundle install\n",
    "rake rails:update:bin\n",
    "rake db:schema:load\n",
    "bundle exec passenger start -a 0.0.0.0\n",
    "\n",
    "```\n",
    "\n",
    "\n",
    "```bash\n",
    "bundle exec rake assets:precompile db:migrate RAILS_ENV=production\n",
    "```"
   ]
  },
  {
   "cell_type": "markdown",
   "metadata": {
    "collapsed": true
   },
   "source": [
    "#### Setting up the syncer on ubuntu\n",
    "\n",
    "sudo add-apt-repository ppa:fkrull/deadsnakes\n",
    "sudo apt-get update\n",
    "sudo apt-get install python3.5\n",
    "apt-get install python-dev\n",
    "apt-get install python3-dev\n",
    "\n",
    "pip install virtualenv\n"
   ]
  }
 ],
 "metadata": {
  "kernelspec": {
   "display_name": "Python 2",
   "language": "python",
   "name": "python2"
  },
  "language_info": {
   "codemirror_mode": {
    "name": "ipython",
    "version": 2
   },
   "file_extension": ".py",
   "mimetype": "text/x-python",
   "name": "python",
   "nbconvert_exporter": "python",
   "pygments_lexer": "ipython2",
   "version": "2.7.10"
  }
 },
 "nbformat": 4,
 "nbformat_minor": 0
}
