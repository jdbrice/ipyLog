{
 "cells": [
  {
   "cell_type": "markdown",
   "metadata": {},
   "source": [
    "### Environment setup"
   ]
  },
  {
   "cell_type": "markdown",
   "metadata": {},
   "source": [
    "``` bash\n",
    "rails new tut-api -T\n",
    "cd tut-api\n",
    "bundle install\n",
    "# setup pow for local development\n",
    "curl get.pow.cx | sh\n",
    "# To uninstall Pow, `curl get.pow.cx/uninstall.sh | sh`\n",
    "# installed rvm to get my ruby version in order\n",
    "#installing nokogiri with macports libraries sucks\n",
    "gem install nokogiri -- --use-system-libraries --with-iconv-dir=/opt/local --with-xml2-dir=/opt/local --with-xslt-dir=/opt/local\n",
    "\n",
    "rvm use ruby-2.2\n",
    "rvm rvmrc create\n",
    "rvm rvmrc trust\n",
    "\n",
    "# then pow gave me a warning about the .powrc file and i followed its directions to fix it\n",
    "\n",
    "```"
   ]
  },
  {
   "cell_type": "code",
   "execution_count": null,
   "metadata": {
    "collapsed": true
   },
   "outputs": [],
   "source": []
  }
 ],
 "metadata": {
  "kernelspec": {
   "display_name": "Python 2",
   "language": "python",
   "name": "python2"
  },
  "language_info": {
   "codemirror_mode": {
    "name": "ipython",
    "version": 2
   },
   "file_extension": ".py",
   "mimetype": "text/x-python",
   "name": "python",
   "nbconvert_exporter": "python",
   "pygments_lexer": "ipython2",
   "version": "2.7.6"
  }
 },
 "nbformat": 4,
 "nbformat_minor": 0
}
