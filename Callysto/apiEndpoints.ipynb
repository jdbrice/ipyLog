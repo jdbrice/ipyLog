{
 "cells": [
  {
   "cell_type": "markdown",
   "metadata": {},
   "source": [
    "### Session\n",
    "- GET /sessions : lists sessions ? (do I want this )\n",
    "- POST /sessions : create a session ( login )\n",
    "- DELETE /sessions : destroy session (logout )\n",
    "\n",
    "### User\n",
    "- GET /users : lists users\n",
    "- POST /users : creates a user ( sign up )\n",
    "- PATCH /users/:id : updates a user\n",
    "- DELETE /users/:id : deletes a user\n",
    "\n",
    "### Notebooks\n",
    "- GET /notebooks \n",
    "- GET /notebooks/path\n",
    "- POST /notebooks\n",
    "- PATCH /notebooks/:id\n",
    "- DELETE /notebooks/:id\n",
    "\n",
    "\n"
   ]
  },
  {
   "cell_type": "markdown",
   "metadata": {
    "collapsed": true
   },
   "source": [
    "## Accessing Notebooks\n",
    "- All notebooks are owned by a user (or group in future)\n",
    "- I want to be able to organize notebooks into groups or books\n",
    "- Paths need to be preserved so that notebook relative links work - so that multi page documents can be made\n",
    "- Loca Nb Server\n",
    "    - Notebooks : host:port/notebooks/*path{.ipynb, etc. }\n",
    "    - Tree : host:port/tree/*path/\n",
    "\n",
    "- Hub Server : host:port"
   ]
  },
  {
   "cell_type": "code",
   "execution_count": null,
   "metadata": {
    "collapsed": true
   },
   "outputs": [],
   "source": []
  }
 ],
 "metadata": {
  "kernelspec": {
   "display_name": "Python 2",
   "language": "python",
   "name": "python2"
  },
  "language_info": {
   "codemirror_mode": {
    "name": "ipython",
    "version": 2
   },
   "file_extension": ".py",
   "mimetype": "text/x-python",
   "name": "python",
   "nbconvert_exporter": "python",
   "pygments_lexer": "ipython2",
   "version": "2.7.11"
  }
 },
 "nbformat": 4,
 "nbformat_minor": 0
}
