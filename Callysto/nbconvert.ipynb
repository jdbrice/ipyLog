{
 "cells": [
  {
   "cell_type": "markdown",
   "metadata": {},
   "source": [
    "## Getting nb convert to standalone\n",
    "\n",
    "nbconvert needs \n",
    "- [jupyter_core](https://github.com/jupyter/jupyter_core)\n",
    "- [nbformat](https://github.com/jupyter/nbformat)\n",
    "- jsonschema (pip install jsonschema)\n",
    "- jinja2 (pip install jinja2)\n",
    "- pygments (pip install pygments)\n",
    "- ipython (pip install ipython)"
   ]
  },
  {
   "cell_type": "code",
   "execution_count": null,
   "metadata": {
    "collapsed": true
   },
   "outputs": [],
   "source": []
  }
 ],
 "metadata": {
  "kernelspec": {
   "display_name": "Python 2",
   "language": "python",
   "name": "python2"
  },
  "language_info": {
   "codemirror_mode": {
    "name": "ipython",
    "version": 2
   },
   "file_extension": ".py",
   "mimetype": "text/x-python",
   "name": "python",
   "nbconvert_exporter": "python",
   "pygments_lexer": "ipython2",
   "version": "2.7.10"
  }
 },
 "nbformat": 4,
 "nbformat_minor": 0
}
