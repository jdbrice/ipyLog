{
 "cells": [
  {
   "cell_type": "markdown",
   "metadata": {},
   "source": [
    "# <img style='float: left' src=\"http://lightning-viz.github.io/images/logo.png\"> <br> <br> &nbsp;&nbsp;&nbsp;&nbsp;&nbsp;Map plots in <a href='http://lightning-viz.github.io/'><font color='#9175f0'>Lightning</font></a>"
   ]
  },
  {
   "cell_type": "markdown",
   "metadata": {},
   "source": [
    "## <hr> Setup"
   ]
  },
  {
   "cell_type": "code",
   "execution_count": 1,
   "metadata": {
    "collapsed": false
   },
   "outputs": [
    {
     "ename": "ImportError",
     "evalue": "No module named lightning",
     "output_type": "error",
     "traceback": [
      "\u001b[0;31m---------------------------------------------------------------------------\u001b[0m",
      "\u001b[0;31mImportError\u001b[0m                               Traceback (most recent call last)",
      "\u001b[0;32m<ipython-input-1-a66369a2b7bd>\u001b[0m in \u001b[0;36m<module>\u001b[0;34m()\u001b[0m\n\u001b[0;32m----> 1\u001b[0;31m \u001b[0;32mfrom\u001b[0m \u001b[0mlightning\u001b[0m \u001b[0;32mimport\u001b[0m \u001b[0mLightning\u001b[0m\u001b[0;34m\u001b[0m\u001b[0m\n\u001b[0m\u001b[1;32m      2\u001b[0m \u001b[0;34m\u001b[0m\u001b[0m\n\u001b[1;32m      3\u001b[0m \u001b[0;32mfrom\u001b[0m \u001b[0mnumpy\u001b[0m \u001b[0;32mimport\u001b[0m \u001b[0mrandom\u001b[0m\u001b[0;34m\u001b[0m\u001b[0m\n",
      "\u001b[0;31mImportError\u001b[0m: No module named lightning"
     ]
    }
   ],
   "source": [
    "from lightning import Lightning\n",
    "\n",
    "from numpy import random"
   ]
  },
  {
   "cell_type": "markdown",
   "metadata": {},
   "source": [
    "## Connect to server"
   ]
  },
  {
   "cell_type": "code",
   "execution_count": 2,
   "metadata": {
    "collapsed": false
   },
   "outputs": [
    {
     "data": {
      "text/html": [
       "<div style='margin-top:8px'><img src='data:image/png;base64,iVBORw0KGgoAAAANSUhEUgAAAKUAAAEPCAYAAAAj2wTmAAAACXBIWXMAAC4jAAAuIwF4pT92AAAAGXRFWHRTb2Z0d2FyZQBBZG9iZSBJbWFnZVJlYWR5ccllPAAACv1JREFUeNrsnUtyU0cYhRtVpim8A7QDmxUgVoC8AsvjDCxPM8GeZGp7kDHyChAriFgBeAUxKwhUFkBuhysQtmRfXfXjf3ynyqUCv/T4OOceuvvXk69fvwbkV3/+/u9BczP+7Y9fz6TcpwEvi2sg95qbWfMxl3S/gNK3Iox7jUt+BEokwSUvm5sX0lwSKP0COWluTto/Xkq7f08oOi6LzYf2jzdNdB/glKh2sVms/NVM4v0ESn9APr1TdIASVVO8dtxf+XOM7lugRLVc8qy5Obrz1zOp9xco7QM5bm5er/nUHChRraa9zhHfSY1uoLRfbOZ3io14lwRK24rgPXvgc0CJirpkjOwXGz4do/szUKKSQE7WNG01LgmU9oAcNTdvOsQ6UKIiQA47AHctPbqB0kfTVuWSQGlHsdjsP/I1XxqXBEpUxCXPmptXHb50ruUxAaX+pv2645ergZJNvnqBjEuIiw7Xkcvo3sMpUe5i0xVIVS4JlHq1DZDLIqRGxLc+l4yAHW3xLZ+a6B7ilCgXkNMtgVQX3UCpC8i4Wfeix7fOtD1W4tte01Yd3TilnqY96wGkyugGSh2KYO33/N4ZUKLULrmc99NHN9IGVwGlfiAn4ce8HzcuCZSyi82bHX/MXOvjp33LAzK25Y89i81qdB9ofQ5wSnlNe74jkKqjGyjl6XKHpm0iuoFSlkuehe2XENfpveTpF0CpB8hN837cRTdQymnaKUGaAyWSUGyWeqfhCC1QytYibJ7349IlgbKuS84SNW2gREmAnCRq2uaiGyjrADkKuy8hmnXJKJYZywI5DLsvIa6TqiO0OKXdpm3SJYGyrHIUG5NQEt9lXDKuaZ9k+vGmohunLNe0TzL+irm15wwo8wIZlxBzv0usOSiJ77zF5jZTsVlK5RFanLKeFpmBNOmSQJnPJXM27buN3pyI7/RAxnk/FwV+lcnoxinTAzkuBKTZ6AbK9E27ZJzOrD6XxHe6pr0odB1pOrpxyrRRul/w911afjKBcneX3GXeD9eTxHdyICchz97Ih6R6+gVOmb/YvKnwq2fWn1ug7AfksC02ta5fgRLda9q5Nut2ie5boETrmu9+xd8dgBKtuuRZSH8KkeimffcGMi4hvq14F+IR2jFOiVabdu3WO/fyfAOl7GIDlGitFiHtvJ++0f0ZKFHJzbq4JFB2AnJSuWkv9QUoUc55P71c0lN0A+V6IIfCnGnu7TXg/ynvN+2FkOvI/6Pb2vQLnHJ7zQQB6dIlgfJnl4zryq+E3S2XUBLfodpmXaIbp9wIZIl5P30vJQJQ+i02T4GS+KZpPyzTR2hxys26FAqk24LjGsp23s+R4Ls48wylu/gWsFmX6MYp7zVt6S7k2iVdQdkWm5nQpg2UTp2y9LyfPnJxhBYow/fNui8U3FX3LukCSkGbdbu6uXuZbt9tsfmg5O6aH1zl3ikrz/shuoFybdOWcCyW6AbK75K8hLhO72jdhqEUMO8HlwTKe037tcK7DpQWoRS8WbdLdH8GRWNQKi02uKRxp1yE+vN+gBIov7vkTFnTXtU10W0MSmVLiLhkR6ldZmzn/fyl+Ll3e4TWpFO2TVu7y+CSVqBUtFkXKB05peZisxrdQGkBSqHzfnBJr1C2TfvEyPN+CXrK23dbbBYGriOj3B+hVe+Uwuf9EN3eoDQI5LKoIcVOqW2zbpfo/gh2SqFUMO+H6PYEZTvv58Lg803r1ti+jTXtVXGEViOUwgeZIqfxPQdI9zoV45TtZt0jXhPXipueJyKgFPqWIajSNfdAAJAHAOle8Z16RyKuKRXO+0GZgFw9qzSoCKTmY7EonaZ3V7lqOqW1JUS0va4aIGd3/7JK0Wnn/bzmNXGtOBlkvO4TgwpATgCSpt18TDZ9sqhTGl5CRNsVm4OHRh8Wg7ItNvGC9hmvi2u9bIBcPPQFJeN7AZDudfwYkMWgVD7vB6XR9bqmXSW+2826F7wmvovNNtv2BpmBHAGke30KK0uIVZ2Spo3CjyXEj9WhZLMuanXYZzxNrvim2KDzvvOSkjtlO+/nhNfEfdOe9P3mQWIgJwBJ024+prv8gGROqezNOVG+YnOw67unJYGyLTa3NG33ep5iAsggEZALgHSv41QjaVJcU7JZF111XULMHt8sIaJG7xsgRyl/4GAHIMcASdNuPsapf2gvp2QJEYWeS4hZoGSzLmp1mOsdLvrE9xwg3es051uubOWUzPtBYcclxKRQMu8HhUIzNgcdgWTeD/pp3k9VKJn3g8KaeT/VoGTeD2o1LfmuFo85ZSw2LCH6VtIlxJ2KDvN+UHhg3k9xp2TeDwqPzPsp6pQsIaKQaLNuEihZQkStXnYZr1IqvhcA6V7HNYH8CUrm/aCwxbyf7PHNZl0UMmzW7e2UzPtB4du8n7GUO/NL+HZG9z2vy6PaM3p5E5v2uNQS4tbtG22W4Uucw5x7I1O0b7RZE4OP6VwakDhld5ccNjd/G2zaIv+h4ZTdNDX2eG4kPyag7KaxocdSdG8kUOaJ7rgXwNIql2gggdJfwTkuuVkXKInux3QlYQmR9p0mui3M3BSzhIhTEt3Lpq3K7YHSNpSxaU+kFxug7B7d0V20774fayg2QOmn4JzW3qwLlEC5qriEeKn1ztO+N0f3W63FpsS8H5wSl9ym2Iy0P/k45X2X1Pr2K9km6+KUMlxSY+ueWgASKO1E97mWJUTiu190/6PsbleZ94NT4pIbm3YweEwDKPVCKe4UIvFNdL/UumKDU3aXphg8tgokUOqE8tpS0ya+N0f3MOg4Qqtqsy5Oab/gfAq2TlUCpfLoNtu0iW+90X0ocbwKTunXJc89AQmU8qGMTfvM2wviGkrh0y9Ez/sBSn8uKX7eD1Dmk9T/YnELpGsoBUf3sZXNukBpI7qvrC8hAqUuKONm3WlAPqEUOP3C5GZdoNRbcFTO+wFK21COvRcb91AKi+5Ty5t1gVKfS6qe9wOU9qC8kfoeNkBZPronAqI7btYdgR5QSnFJV5t1+8rNJl8hR2iPWbHBKSW55DlAAqUkKN953KwLlI9H96taTTuwhAiUglySYgOUG1Vr903crHsLZkB5N7qHzc1+pabNmjZQionua5o2UD6k0iXjPUuIQCkput3M+wFKHdFN0wZKca17QrEByseiu+QR2lNv836AUnbBYbMuUIq6nnQ77yenTG5da6P7Q4FiM6TY4JSSonsEkEApKbpZQgTKraJ7nLl1M+8HKEW5JPN+gFIUlGzWBcre0Z3jCC3zfoBSnEsy7wcoRUHJvB+gFBXdLCEC5U5KXUKY9wOUO7lk6iO0zPsBSlHXkmzWBUpxUE5p2nWlfpdQ4sFV54xXwSkluSTzfoBSVOtmCZH4Thbdw7D7G8jHYnPAeBWcUlJ0M+8HKEVFN5t1iW9R0X3Nig1OKSm6mfcDlKKi+yYw74f4zhDdfY/QfmmLDdeROKUYl2TeD1CKup5k3g/xLSq6ado4pajoZt4PUIqK7mWxYW8kUGaL7lHoPv0CIIFSXHSzWRcoRUU3836Askh0dz1Cy7wfoBTlkmzWBUpRUDLvByjFRTfzfoBSVOs+Zt6PHYlfZuxwhJYlRJxS1LUk836AUhSUzPshvkVFN5t1cUpxLskSIlCKgvKcJUTiu1Z0D8P9I7Q0bZxSlEuyWRcoq2typ9gwyJT4FhXdzyk2OKWk6GbeD1CKiu5rmjbxLSm647yfES8RTilB08C8H6AUpuiObNYlvkVF9wHjVXzrPwEGALbMqg0caTxkAAAAAElFTkSuQmCC' width='30px' height='35px' style='display: inline-block; padding-right: 10px'></img><span>Lightning initialized</span></div>"
      ],
      "text/plain": [
       "<IPython.core.display.HTML object>"
      ]
     },
     "metadata": {},
     "output_type": "display_data"
    },
    {
     "name": "stdout",
     "output_type": "stream",
     "text": [
      "Connected to server at http://public.lightning-viz.org\n"
     ]
    },
    {
     "data": {
      "application/javascript": [
       "(function e(t,n,r){function s(o,u){if(!n[o]){if(!t[o]){var a=typeof require==\"function\"&&require;if(!u&&a)return a(o,!0);if(i)return i(o,!0);throw new Error(\"Cannot find module '\"+o+\"'\")}var f=n[o]={exports:{}};t[o][0].call(f.exports,function(e){var n=t[o][1][e];return s(n?n:e)},f,f.exports,e,t,n,r)}return n[o].exports}var i=typeof require==\"function\"&&require;for(var o=0;o<r.length;o++)s(r[o]);return s})({1:[function(require,module,exports){\n",
       "window.lightning = window.lightning || {};\n",
       "var lightningCommMap = {};\n",
       "\n",
       "var readCommData = function(commData, field) {\n",
       "    try {\n",
       "        return commData.content.data[field];\n",
       "    } catch (err) {\n",
       "        return;\n",
       "    }\n",
       "};\n",
       "\n",
       "\n",
       "var init_comm = function() {\n",
       "    IPython.notebook.kernel.comm_manager.register_target('lightning', function(comm, data) {\n",
       "        var id = readCommData(data, 'id');\n",
       "        lightningCommMap[id] = comm;\n",
       "    });\n",
       "\n",
       "    window.lightning.comm_map = lightningCommMap;\n",
       "}\n",
       "\n",
       "\n",
       "if(IPython && IPython.notebook) {\n",
       "\n",
       "    if(IPython.notebook.kernel) {\n",
       "        init_comm();\n",
       "    }\n",
       "\n",
       "    IPython.notebook.events.on('kernel_connected.Kernel', init_comm);\n",
       "\n",
       "}\n",
       "\n",
       "\n",
       "},{}]},{},[1])\n",
       "//# sourceMappingURL=data:application/json;base64,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\n"
      ],
      "text/plain": [
       "<IPython.core.display.Javascript object>"
      ]
     },
     "metadata": {},
     "output_type": "display_data"
    }
   ],
   "source": [
    "lgn = Lightning(ipython=True, host='http://public.lightning-viz.org')"
   ]
  },
  {
   "cell_type": "markdown",
   "metadata": {},
   "source": [
    "## <hr> US Map"
   ]
  },
  {
   "cell_type": "markdown",
   "metadata": {},
   "source": [
    "To make a US map with states colored by value, just pass a list of states, a list of values, and a colormap."
   ]
  },
  {
   "cell_type": "code",
   "execution_count": 3,
   "metadata": {
    "collapsed": false
   },
   "outputs": [],
   "source": [
    "states = [\"NA\", \"AK\", \"AL\", \"AR\", \"AZ\", \"CA\", \"CO\",\"CT\",\n",
    "          \"DC\",\"DE\",\"FL\",\"GA\",\"HI\",\"IA\",\"ID\",\"IL\",\"IN\",\n",
    "          \"KS\",\"KY\",\"LA\",\"MA\",\"MD\",\"ME\",\"MI\",\"MN\",\"MO\",\n",
    "          \"MS\",\"MT\",\"NC\",\"ND\",\"NE\",\"NH\",\"NJ\",\"NM\",\"NV\",\n",
    "          \"NY\",\"OH\",\"OK\",\"OR\",\"PA\",\"RI\",\"SC\",\"SD\",\"TN\",\n",
    "          \"TX\",\"UT\",\"VA\",\"VI\",\"VT\",\"WA\",\"WI\",\"WV\",\"WY\"]"
   ]
  },
  {
   "cell_type": "code",
   "execution_count": 4,
   "metadata": {
    "collapsed": false
   },
   "outputs": [
    {
     "data": {
      "text/html": [
       "<meta name=\"viewport\" content=\"width=device-width, initial-scale=1, maximum-scale=1\"/><meta http-equiv=\"X-UA-Compatible\" content=\"IE=10; IE=9; IE=8; IE=7; IE=EDGE\"/><meta charset=\"UTF-8\"/><link href=\"//fonts.googleapis.com/css?family=Open+Sans:400,700\" rel=\"stylesheet\" type=\"text/css\"/><link rel=\"stylesheet\" href=\"http://public.lightning-viz.org/css/app.css\"/><link rel=\"stylesheet\" href=\"http://public.lightning-viz.org/css/dynamic/viz/?visualizations[]=map\"/><div id=\"lightning-body\" class=\"container content wrap push\"><div class=\"feed-container\"><div data-model=\"visualization\" data-model-id=\"6e9c4c64-1c7d-4d60-9f84-cbf6fe230931\" class=\"feed-item-container\"><div data-type=\"lightning-map\" data-data=\"{&quot;regions&quot;:[&quot;NA&quot;,&quot;AK&quot;,&quot;AL&quot;,&quot;AR&quot;,&quot;AZ&quot;,&quot;CA&quot;,&quot;CO&quot;,&quot;CT&quot;,&quot;DC&quot;,&quot;DE&quot;,&quot;FL&quot;,&quot;GA&quot;,&quot;HI&quot;,&quot;IA&quot;,&quot;ID&quot;,&quot;IL&quot;,&quot;IN&quot;,&quot;KS&quot;,&quot;KY&quot;,&quot;LA&quot;,&quot;MA&quot;,&quot;MD&quot;,&quot;ME&quot;,&quot;MI&quot;,&quot;MN&quot;,&quot;MO&quot;,&quot;MS&quot;,&quot;MT&quot;,&quot;NC&quot;,&quot;ND&quot;,&quot;NE&quot;,&quot;NH&quot;,&quot;NJ&quot;,&quot;NM&quot;,&quot;NV&quot;,&quot;NY&quot;,&quot;OH&quot;,&quot;OK&quot;,&quot;OR&quot;,&quot;PA&quot;,&quot;RI&quot;,&quot;SC&quot;,&quot;SD&quot;,&quot;TN&quot;,&quot;TX&quot;,&quot;UT&quot;,&quot;VA&quot;,&quot;VI&quot;,&quot;VT&quot;,&quot;WA&quot;,&quot;WI&quot;,&quot;WV&quot;,&quot;WY&quot;],&quot;values&quot;:[0.7077243514960793,-0.08480262419124401,0.3470779638191239,-0.23288566990532208,0.48301132310860956,1.5349329286831803,-0.683936163370076,-0.6591756926415097,0.06610977371159746,0.5291775338210907,2.2671918897678665,1.8849594729611303,0.9290687397336558,0.32671339781203906,0.0618506695015512,0.15568592641510973,-0.41869040556248943,-1.1881458308157722,-1.4266130692828192,0.3170787933273567,0.9022911725041949,-0.20294542243603908,-0.1881802583197469,-0.8500528595528397,-1.345508323199141,-1.5584848128372537,1.1845572700425309,-0.30486230039802464,-1.684769555995327,1.0784064575631758,1.0783331896369561,0.7436947765247627,1.629860778196029,0.5840109579603213,1.162491218196678,0.056450896591557984,-0.9694547555273214,-1.4390181938589601,-0.48268013332817483,-1.3650593825187876,-1.9600534004794703,0.7388028111949512,-0.8358919269902227,0.33465000986063836,0.4397302427145509,-0.7473658879012726,-0.963534563925083,0.25570169862280046,0.026811484858738254,-1.8578916297695758,0.5766289377996499,0.5202567523272302,0.2988419716553014],&quot;colormap&quot;:&quot;Purples&quot;}\" data-images=\"null\" data-options=\"{&quot;width&quot;:600,&quot;description&quot;:null,&quot;height&quot;:null}\" id=\"viz-6e9c4c64-1c7d-4d60-9f84-cbf6fe230931\" data-initialized=\"false\" class=\"feed-item\"></div></div></div></div><script>window.lightning = window.lightning || {};\n",
       "window.lightning.host = \"http://public.lightning-viz.org/\" || 'http://127.0.0.1:3000/';\n",
       "window.lightning.vizCount = (window.lightning.vizCount + 1) || 1;\n",
       "window.lightning.requiredVizTypes = window.lightning.requiredVizTypes || [];\n",
       "if(window.lightning.requiredVizTypes.indexOf(\"map\") === -1) {\n",
       "    window.lightning.requiredVizTypes.push(\"map\");\n",
       "}\n",
       "window._require = window.require;\n",
       "window.require = undefined;\n",
       "window._define = window.define;\n",
       "window.define = undefined;</script><script src=\"http://public.lightning-viz.org/js/embed.js\"></script>"
      ],
      "text/plain": [
       "<lightning.types.plots.Map at 0x105524f90>"
      ]
     },
     "execution_count": 4,
     "metadata": {},
     "output_type": "execute_result"
    }
   ],
   "source": [
    "values = random.randn(len(states))\n",
    "lgn.map(states, values, colormap='Purples')"
   ]
  },
  {
   "cell_type": "markdown",
   "metadata": {},
   "source": [
    "Discrete values are automatically handled for appriopriate colormaps"
   ]
  },
  {
   "cell_type": "code",
   "execution_count": 5,
   "metadata": {
    "collapsed": false
   },
   "outputs": [
    {
     "data": {
      "text/html": [
       "<meta name=\"viewport\" content=\"width=device-width, initial-scale=1, maximum-scale=1\"/><meta http-equiv=\"X-UA-Compatible\" content=\"IE=10; IE=9; IE=8; IE=7; IE=EDGE\"/><meta charset=\"UTF-8\"/><link href=\"//fonts.googleapis.com/css?family=Open+Sans:400,700\" rel=\"stylesheet\" type=\"text/css\"/><link rel=\"stylesheet\" href=\"http://public.lightning-viz.org/css/app.css\"/><link rel=\"stylesheet\" href=\"http://public.lightning-viz.org/css/dynamic/viz/?visualizations[]=map\"/><div id=\"lightning-body\" class=\"container content wrap push\"><div class=\"feed-container\"><div data-model=\"visualization\" data-model-id=\"bdb2a2ac-9459-46f4-a246-df65e06642b2\" class=\"feed-item-container\"><div data-type=\"lightning-map\" data-data=\"{&quot;regions&quot;:[&quot;NA&quot;,&quot;AK&quot;,&quot;AL&quot;,&quot;AR&quot;,&quot;AZ&quot;,&quot;CA&quot;,&quot;CO&quot;,&quot;CT&quot;,&quot;DC&quot;,&quot;DE&quot;,&quot;FL&quot;,&quot;GA&quot;,&quot;HI&quot;,&quot;IA&quot;,&quot;ID&quot;,&quot;IL&quot;,&quot;IN&quot;,&quot;KS&quot;,&quot;KY&quot;,&quot;LA&quot;,&quot;MA&quot;,&quot;MD&quot;,&quot;ME&quot;,&quot;MI&quot;,&quot;MN&quot;,&quot;MO&quot;,&quot;MS&quot;,&quot;MT&quot;,&quot;NC&quot;,&quot;ND&quot;,&quot;NE&quot;,&quot;NH&quot;,&quot;NJ&quot;,&quot;NM&quot;,&quot;NV&quot;,&quot;NY&quot;,&quot;OH&quot;,&quot;OK&quot;,&quot;OR&quot;,&quot;PA&quot;,&quot;RI&quot;,&quot;SC&quot;,&quot;SD&quot;,&quot;TN&quot;,&quot;TX&quot;,&quot;UT&quot;,&quot;VA&quot;,&quot;VI&quot;,&quot;VT&quot;,&quot;WA&quot;,&quot;WI&quot;,&quot;WV&quot;,&quot;WY&quot;],&quot;values&quot;:[4,0,4,1,3,0,2,3,0,2,2,3,3,2,4,4,2,1,3,1,0,2,1,4,2,4,2,1,3,1,4,2,0,3,4,4,4,0,3,4,0,4,1,1,1,1,3,4,0,2,0,2,2],&quot;colormap&quot;:&quot;Pastel1&quot;}\" data-images=\"null\" data-options=\"{&quot;width&quot;:600,&quot;description&quot;:null,&quot;height&quot;:null}\" id=\"viz-bdb2a2ac-9459-46f4-a246-df65e06642b2\" data-initialized=\"false\" class=\"feed-item\"></div></div></div></div><script>window.lightning = window.lightning || {};\n",
       "window.lightning.host = \"http://public.lightning-viz.org/\" || 'http://127.0.0.1:3000/';\n",
       "window.lightning.vizCount = (window.lightning.vizCount + 1) || 1;\n",
       "window.lightning.requiredVizTypes = window.lightning.requiredVizTypes || [];\n",
       "if(window.lightning.requiredVizTypes.indexOf(\"map\") === -1) {\n",
       "    window.lightning.requiredVizTypes.push(\"map\");\n",
       "}\n",
       "window._require = window.require;\n",
       "window.require = undefined;\n",
       "window._define = window.define;\n",
       "window.define = undefined;</script><script src=\"http://public.lightning-viz.org/js/embed.js\"></script>"
      ],
      "text/plain": [
       "<lightning.types.plots.Map at 0x1054a5490>"
      ]
     },
     "execution_count": 5,
     "metadata": {},
     "output_type": "execute_result"
    }
   ],
   "source": [
    "values = (random.rand(len(states)) * 5).astype('int')\n",
    "lgn.map(states, values, colormap='Pastel1')"
   ]
  },
  {
   "cell_type": "markdown",
   "metadata": {},
   "source": [
    "Including our custom Lightning colormap"
   ]
  },
  {
   "cell_type": "code",
   "execution_count": 6,
   "metadata": {
    "collapsed": false
   },
   "outputs": [
    {
     "data": {
      "text/html": [
       "<meta name=\"viewport\" content=\"width=device-width, initial-scale=1, maximum-scale=1\"/><meta http-equiv=\"X-UA-Compatible\" content=\"IE=10; IE=9; IE=8; IE=7; IE=EDGE\"/><meta charset=\"UTF-8\"/><link href=\"//fonts.googleapis.com/css?family=Open+Sans:400,700\" rel=\"stylesheet\" type=\"text/css\"/><link rel=\"stylesheet\" href=\"http://public.lightning-viz.org/css/app.css\"/><link rel=\"stylesheet\" href=\"http://public.lightning-viz.org/css/dynamic/viz/?visualizations[]=map\"/><div id=\"lightning-body\" class=\"container content wrap push\"><div class=\"feed-container\"><div data-model=\"visualization\" data-model-id=\"6ff6a819-eaa0-4788-bdaa-8ca18b4c7521\" class=\"feed-item-container\"><div data-type=\"lightning-map\" data-data=\"{&quot;regions&quot;:[&quot;NA&quot;,&quot;AK&quot;,&quot;AL&quot;,&quot;AR&quot;,&quot;AZ&quot;,&quot;CA&quot;,&quot;CO&quot;,&quot;CT&quot;,&quot;DC&quot;,&quot;DE&quot;,&quot;FL&quot;,&quot;GA&quot;,&quot;HI&quot;,&quot;IA&quot;,&quot;ID&quot;,&quot;IL&quot;,&quot;IN&quot;,&quot;KS&quot;,&quot;KY&quot;,&quot;LA&quot;,&quot;MA&quot;,&quot;MD&quot;,&quot;ME&quot;,&quot;MI&quot;,&quot;MN&quot;,&quot;MO&quot;,&quot;MS&quot;,&quot;MT&quot;,&quot;NC&quot;,&quot;ND&quot;,&quot;NE&quot;,&quot;NH&quot;,&quot;NJ&quot;,&quot;NM&quot;,&quot;NV&quot;,&quot;NY&quot;,&quot;OH&quot;,&quot;OK&quot;,&quot;OR&quot;,&quot;PA&quot;,&quot;RI&quot;,&quot;SC&quot;,&quot;SD&quot;,&quot;TN&quot;,&quot;TX&quot;,&quot;UT&quot;,&quot;VA&quot;,&quot;VI&quot;,&quot;VT&quot;,&quot;WA&quot;,&quot;WI&quot;,&quot;WV&quot;,&quot;WY&quot;],&quot;values&quot;:[2,4,0,4,4,4,0,1,3,4,0,4,2,4,3,1,3,1,1,3,4,0,0,0,1,1,4,1,0,4,2,4,1,1,0,4,2,1,4,3,2,0,2,4,4,2,0,4,1,3,0,0,2],&quot;colormap&quot;:&quot;Lightning&quot;}\" data-images=\"null\" data-options=\"{&quot;width&quot;:600,&quot;description&quot;:null,&quot;height&quot;:null}\" id=\"viz-6ff6a819-eaa0-4788-bdaa-8ca18b4c7521\" data-initialized=\"false\" class=\"feed-item\"></div></div></div></div><script>window.lightning = window.lightning || {};\n",
       "window.lightning.host = \"http://public.lightning-viz.org/\" || 'http://127.0.0.1:3000/';\n",
       "window.lightning.vizCount = (window.lightning.vizCount + 1) || 1;\n",
       "window.lightning.requiredVizTypes = window.lightning.requiredVizTypes || [];\n",
       "if(window.lightning.requiredVizTypes.indexOf(\"map\") === -1) {\n",
       "    window.lightning.requiredVizTypes.push(\"map\");\n",
       "}\n",
       "window._require = window.require;\n",
       "window.require = undefined;\n",
       "window._define = window.define;\n",
       "window.define = undefined;</script><script src=\"http://public.lightning-viz.org/js/embed.js\"></script>"
      ],
      "text/plain": [
       "<lightning.types.plots.Map at 0x1054a53d0>"
      ]
     },
     "execution_count": 6,
     "metadata": {},
     "output_type": "execute_result"
    }
   ],
   "source": [
    "values = (random.rand(len(states)) * 5).astype('int')\n",
    "lgn.map(states, values, colormap='Lightning')"
   ]
  },
  {
   "cell_type": "markdown",
   "metadata": {},
   "source": [
    "## <hr> World Map"
   ]
  },
  {
   "cell_type": "markdown",
   "metadata": {},
   "source": [
    "World maps are generated similarity, just use three-letter country codes instead of states"
   ]
  },
  {
   "cell_type": "code",
   "execution_count": 7,
   "metadata": {
    "collapsed": true
   },
   "outputs": [],
   "source": [
    "countries = ['ISO', 'SLE', 'COD', 'CAF', 'TCD', 'AGO', 'GNB', 'GNQ', 'MLI', 'MWI', \n",
    "             'BDI', 'NGA', 'SOM', 'SSD', 'MOZ', 'CIV', 'CMR', 'GIN', 'BFA', 'AFG', \n",
    "             'ZMB', 'MRT', 'SWZ', 'LSO', 'TGO', 'BEN', 'COG', 'COM', 'LBR', 'PAK', \n",
    "             'UGA', 'NER', 'DJI', 'YEM', 'TZA', 'GMB', 'RWA', 'ETH', 'KEN', 'TJK', \n",
    "             'GHA', 'SEN', 'ERI', 'MMR', 'ZWE', 'ZAF', 'GAB', 'KHM', 'TLS', 'IND', \n",
    "             'TKM', 'PNG', 'HTI', 'LAO', 'UZB', 'STP', 'BOL', 'MDG', 'NPL', 'ESH', \n",
    "             'BGD', 'NAM', 'SLB', 'AZE', 'BTN', 'KIR', 'BWA', 'KGZ', 'FSM', 'IRQ', \n",
    "             'MAR', 'PRY', 'GUY', 'MNG', 'GTM', 'DZA', 'DOM', 'IDN', 'VUT', 'HND', \n",
    "             'PRK', 'KAZ', 'TTO', 'JAM', 'BRA', 'EGY', 'PHL', 'WSM', 'PSE', 'SUR', \n",
    "             'TON', 'GEO', 'CPV', 'NIC', 'ECU', 'ARM', 'PER', 'IRN', 'SLV', 'JOR', \n",
    "             'COL', 'TUN', 'VCT', 'CHN', 'FJI', 'PAN', 'VEN', 'LBY', 'MEX', 'TUR', \n",
    "             'ALB', 'ABW', 'VNM', 'BLZ', 'MDA', 'MDV', 'NCL', 'SYR', 'GUF', 'SAU', \n",
    "             'ARG', 'MUS', 'URY', 'UKR', 'ROU', 'MKD', 'LCA', 'THA', 'BRB', 'GUM', \n",
    "             'MNE', 'VIR', 'LKA', 'GRD', 'SYC', 'BHS', 'ATG', 'LBN', 'CRI', 'BGR', \n",
    "             'OMN', 'KWT', 'BIH', 'PYF', 'BHR', 'LVA', 'MTQ', 'QAT', 'CHL', 'PRI', \n",
    "             'GLP', 'ARE', 'USA', 'BLR', 'SVK', 'POL', 'LTU', 'MLT', 'HRV', 'MYT', \n",
    "             'REU', 'HUN', 'CAN', 'TWN', 'BRN', 'CUB', 'MAC', 'NZL', 'GBR', 'MYS', \n",
    "             'EST', 'KOR', 'AUS', 'CYP', 'GRC', 'CHE', 'NLD', 'ISR', 'DNK', 'BEL', \n",
    "             'AUT', 'IRL', 'DEU', 'FRA', 'ESP', 'ITA', 'PRT', 'CZE', 'NOR', 'SVN', \n",
    "             'FIN', 'JPN', 'SWE', 'LUX', 'SGP', 'ISL', 'HKG', 'FLK', 'SMR', 'TCA', \n",
    "             'VAT', 'RUS', 'GRL']"
   ]
  },
  {
   "cell_type": "markdown",
   "metadata": {},
   "source": [
    "Now plot random values. We'll also make it bigger so it's easier to see."
   ]
  },
  {
   "cell_type": "code",
   "execution_count": 8,
   "metadata": {
    "collapsed": false
   },
   "outputs": [
    {
     "data": {
      "text/html": [
       "<meta name=\"viewport\" content=\"width=device-width, initial-scale=1, maximum-scale=1\"/><meta http-equiv=\"X-UA-Compatible\" content=\"IE=10; IE=9; IE=8; IE=7; IE=EDGE\"/><meta charset=\"UTF-8\"/><link href=\"//fonts.googleapis.com/css?family=Open+Sans:400,700\" rel=\"stylesheet\" type=\"text/css\"/><link rel=\"stylesheet\" href=\"http://public.lightning-viz.org/css/app.css\"/><link rel=\"stylesheet\" href=\"http://public.lightning-viz.org/css/dynamic/viz/?visualizations[]=map\"/><div id=\"lightning-body\" class=\"container content wrap push\"><div class=\"feed-container\"><div data-model=\"visualization\" data-model-id=\"43adb029-a8eb-435d-a4c9-657b33b93ec8\" class=\"feed-item-container\"><div data-type=\"lightning-map\" data-data=\"{&quot;regions&quot;:[&quot;ISO&quot;,&quot;SLE&quot;,&quot;COD&quot;,&quot;CAF&quot;,&quot;TCD&quot;,&quot;AGO&quot;,&quot;GNB&quot;,&quot;GNQ&quot;,&quot;MLI&quot;,&quot;MWI&quot;,&quot;BDI&quot;,&quot;NGA&quot;,&quot;SOM&quot;,&quot;SSD&quot;,&quot;MOZ&quot;,&quot;CIV&quot;,&quot;CMR&quot;,&quot;GIN&quot;,&quot;BFA&quot;,&quot;AFG&quot;,&quot;ZMB&quot;,&quot;MRT&quot;,&quot;SWZ&quot;,&quot;LSO&quot;,&quot;TGO&quot;,&quot;BEN&quot;,&quot;COG&quot;,&quot;COM&quot;,&quot;LBR&quot;,&quot;PAK&quot;,&quot;UGA&quot;,&quot;NER&quot;,&quot;DJI&quot;,&quot;YEM&quot;,&quot;TZA&quot;,&quot;GMB&quot;,&quot;RWA&quot;,&quot;ETH&quot;,&quot;KEN&quot;,&quot;TJK&quot;,&quot;GHA&quot;,&quot;SEN&quot;,&quot;ERI&quot;,&quot;MMR&quot;,&quot;ZWE&quot;,&quot;ZAF&quot;,&quot;GAB&quot;,&quot;KHM&quot;,&quot;TLS&quot;,&quot;IND&quot;,&quot;TKM&quot;,&quot;PNG&quot;,&quot;HTI&quot;,&quot;LAO&quot;,&quot;UZB&quot;,&quot;STP&quot;,&quot;BOL&quot;,&quot;MDG&quot;,&quot;NPL&quot;,&quot;ESH&quot;,&quot;BGD&quot;,&quot;NAM&quot;,&quot;SLB&quot;,&quot;AZE&quot;,&quot;BTN&quot;,&quot;KIR&quot;,&quot;BWA&quot;,&quot;KGZ&quot;,&quot;FSM&quot;,&quot;IRQ&quot;,&quot;MAR&quot;,&quot;PRY&quot;,&quot;GUY&quot;,&quot;MNG&quot;,&quot;GTM&quot;,&quot;DZA&quot;,&quot;DOM&quot;,&quot;IDN&quot;,&quot;VUT&quot;,&quot;HND&quot;,&quot;PRK&quot;,&quot;KAZ&quot;,&quot;TTO&quot;,&quot;JAM&quot;,&quot;BRA&quot;,&quot;EGY&quot;,&quot;PHL&quot;,&quot;WSM&quot;,&quot;PSE&quot;,&quot;SUR&quot;,&quot;TON&quot;,&quot;GEO&quot;,&quot;CPV&quot;,&quot;NIC&quot;,&quot;ECU&quot;,&quot;ARM&quot;,&quot;PER&quot;,&quot;IRN&quot;,&quot;SLV&quot;,&quot;JOR&quot;,&quot;COL&quot;,&quot;TUN&quot;,&quot;VCT&quot;,&quot;CHN&quot;,&quot;FJI&quot;,&quot;PAN&quot;,&quot;VEN&quot;,&quot;LBY&quot;,&quot;MEX&quot;,&quot;TUR&quot;,&quot;ALB&quot;,&quot;ABW&quot;,&quot;VNM&quot;,&quot;BLZ&quot;,&quot;MDA&quot;,&quot;MDV&quot;,&quot;NCL&quot;,&quot;SYR&quot;,&quot;GUF&quot;,&quot;SAU&quot;,&quot;ARG&quot;,&quot;MUS&quot;,&quot;URY&quot;,&quot;UKR&quot;,&quot;ROU&quot;,&quot;MKD&quot;,&quot;LCA&quot;,&quot;THA&quot;,&quot;BRB&quot;,&quot;GUM&quot;,&quot;MNE&quot;,&quot;VIR&quot;,&quot;LKA&quot;,&quot;GRD&quot;,&quot;SYC&quot;,&quot;BHS&quot;,&quot;ATG&quot;,&quot;LBN&quot;,&quot;CRI&quot;,&quot;BGR&quot;,&quot;OMN&quot;,&quot;KWT&quot;,&quot;BIH&quot;,&quot;PYF&quot;,&quot;BHR&quot;,&quot;LVA&quot;,&quot;MTQ&quot;,&quot;QAT&quot;,&quot;CHL&quot;,&quot;PRI&quot;,&quot;GLP&quot;,&quot;ARE&quot;,&quot;USA&quot;,&quot;BLR&quot;,&quot;SVK&quot;,&quot;POL&quot;,&quot;LTU&quot;,&quot;MLT&quot;,&quot;HRV&quot;,&quot;MYT&quot;,&quot;REU&quot;,&quot;HUN&quot;,&quot;CAN&quot;,&quot;TWN&quot;,&quot;BRN&quot;,&quot;CUB&quot;,&quot;MAC&quot;,&quot;NZL&quot;,&quot;GBR&quot;,&quot;MYS&quot;,&quot;EST&quot;,&quot;KOR&quot;,&quot;AUS&quot;,&quot;CYP&quot;,&quot;GRC&quot;,&quot;CHE&quot;,&quot;NLD&quot;,&quot;ISR&quot;,&quot;DNK&quot;,&quot;BEL&quot;,&quot;AUT&quot;,&quot;IRL&quot;,&quot;DEU&quot;,&quot;FRA&quot;,&quot;ESP&quot;,&quot;ITA&quot;,&quot;PRT&quot;,&quot;CZE&quot;,&quot;NOR&quot;,&quot;SVN&quot;,&quot;FIN&quot;,&quot;JPN&quot;,&quot;SWE&quot;,&quot;LUX&quot;,&quot;SGP&quot;,&quot;ISL&quot;,&quot;HKG&quot;,&quot;FLK&quot;,&quot;SMR&quot;,&quot;TCA&quot;,&quot;VAT&quot;,&quot;RUS&quot;,&quot;GRL&quot;],&quot;values&quot;:[0,3,3,2,1,3,0,0,1,3,4,4,1,1,4,4,0,4,1,3,1,0,3,4,0,2,4,1,2,1,0,2,3,3,0,3,0,0,3,3,3,1,2,2,2,4,3,0,0,3,4,3,3,0,4,4,2,4,2,1,4,4,3,1,3,3,2,0,1,4,1,2,4,0,3,4,0,4,4,4,3,3,2,2,2,1,1,0,3,0,2,4,3,3,1,1,3,1,4,3,2,1,4,2,1,3,0,3,0,2,0,2,1,4,1,1,4,2,1,3,4,0,1,4,0,3,1,1,0,3,2,0,0,0,2,2,2,3,0,2,3,3,3,1,2,4,4,4,1,2,1,1,1,4,2,1,3,1,1,4,4,1,3,1,4,4,4,4,0,0,4,1,3,4,0,2,3,3,2,3,0,1,3,1,1,1,3,1,3,1,3,2,3,0,4,4,3,1,0,3,2,4,4],&quot;colormap&quot;:&quot;Pastel1&quot;}\" data-images=\"null\" data-options=\"{&quot;width&quot;:900,&quot;description&quot;:null,&quot;height&quot;:null}\" id=\"viz-43adb029-a8eb-435d-a4c9-657b33b93ec8\" data-initialized=\"false\" class=\"feed-item\"></div></div></div></div><script>window.lightning = window.lightning || {};\n",
       "window.lightning.host = \"http://public.lightning-viz.org/\" || 'http://127.0.0.1:3000/';\n",
       "window.lightning.vizCount = (window.lightning.vizCount + 1) || 1;\n",
       "window.lightning.requiredVizTypes = window.lightning.requiredVizTypes || [];\n",
       "if(window.lightning.requiredVizTypes.indexOf(\"map\") === -1) {\n",
       "    window.lightning.requiredVizTypes.push(\"map\");\n",
       "}\n",
       "window._require = window.require;\n",
       "window.require = undefined;\n",
       "window._define = window.define;\n",
       "window.define = undefined;</script><script src=\"http://public.lightning-viz.org/js/embed.js\"></script>"
      ],
      "text/plain": [
       "<lightning.types.plots.Map at 0x107787f90>"
      ]
     },
     "execution_count": 8,
     "metadata": {},
     "output_type": "execute_result"
    }
   ],
   "source": [
    "values = (random.rand(len(countries)) * 5).astype('int')\n",
    "lgn.map(countries, values, colormap='Pastel1', width=900)"
   ]
  }
 ],
 "metadata": {
  "kernelspec": {
   "display_name": "Python 2",
   "language": "python",
   "name": "python2"
  },
  "language_info": {
   "codemirror_mode": {
    "name": "ipython",
    "version": 2
   },
   "file_extension": ".py",
   "mimetype": "text/x-python",
   "name": "python",
   "nbconvert_exporter": "python",
   "pygments_lexer": "ipython2",
   "version": "2.7.10"
  }
 },
 "nbformat": 4,
 "nbformat_minor": 0
}
