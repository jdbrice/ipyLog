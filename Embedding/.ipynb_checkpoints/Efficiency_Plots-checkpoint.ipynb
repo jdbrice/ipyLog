{
 "cells": [
  {
   "cell_type": "code",
   "execution_count": 1,
   "metadata": {
    "collapsed": false
   },
   "outputs": [
    {
     "name": "stdout",
     "output_type": "stream",
     "text": [
      "Loading Eff Lib\n"
     ]
    }
   ],
   "source": [
    "%run 'effLib.ipynb'\n"
   ]
  },
  {
   "cell_type": "code",
   "execution_count": 7,
   "metadata": {
    "collapsed": false
   },
   "outputs": [],
   "source": [
    "fpia = root_open( \"/Users/danielbrandenburg/bnl/local/work/effMaker/products/data_pi_plus.root\" )\n",
    "fpib = root_open( \"/Users/danielbrandenburg/bnl/local/work/effMaker/products/data_pi_minus.root\" )\n",
    "\n",
    "fka = root_open( \"/Users/danielbrandenburg/bnl/local/work/effMaker/products/data_k_plus.root\" )\n",
    "fkb = root_open( \"/Users/danielbrandenburg/bnl/local/work/effMaker/products/data_k_minus.root\" )\n",
    "\n",
    "fPa = root_open( \"/Users/danielbrandenburg/bnl/local/work/effMaker/products/data_P.root\" )\n",
    "fPb = root_open( \"/Users/danielbrandenburg/bnl/local/work/effMaker/products/data_P_Bar.root\" )"
   ]
  },
  {
   "cell_type": "code",
   "execution_count": 5,
   "metadata": {
    "collapsed": true
   },
   "outputs": [],
   "source": [
    "def plot( nn, f, name=\"eff_6_20_\" ) :\n",
    "    fitFunc = ROOT.TF1( \"effFitFunc\", \"[0] * exp( - pow( [1] / x, [2] ) )\", 0.0, 5.0 );\n",
    "    fitFunc.SetParameters( .25, 0.05, 5.0 );\n",
    "    fitFunc.SetLineWidth( 2 )\n",
    "    fitFunc.SetLineColor( ROOT.kRed )\n",
    "    fitFunc.SetLineWidth( 3 )\n",
    "    g1 = f.Get( name )\n",
    "    g1.Fit( fitFunc, \"R\" )\n",
    "    return g1.Clone( nn )\n"
   ]
  },
  {
   "cell_type": "code",
   "execution_count": 9,
   "metadata": {
    "collapsed": false
   },
   "outputs": [
    {
     "ename": "DoesNotExist",
     "evalue": "requested path 'eff_1_40_' does not exist in /Users/danielbrandenburg/bnl/local/work/effMaker/products/data_pi_minus.root",
     "output_type": "error",
     "traceback": [
      "\u001b[0;31m---------------------------------------------------------------------------\u001b[0m",
      "\u001b[0;31mDoesNotExist\u001b[0m                              Traceback (most recent call last)",
      "\u001b[0;32m<ipython-input-9-02d16cb25dd9>\u001b[0m in \u001b[0;36m<module>\u001b[0;34m()\u001b[0m\n\u001b[1;32m     27\u001b[0m \u001b[0;34m\u001b[0m\u001b[0m\n\u001b[1;32m     28\u001b[0m \u001b[0mc\u001b[0m\u001b[0;34m.\u001b[0m\u001b[0mcd\u001b[0m\u001b[0;34m(\u001b[0m\u001b[0;36m4\u001b[0m\u001b[0;34m)\u001b[0m\u001b[0;34m\u001b[0m\u001b[0m\n\u001b[0;32m---> 29\u001b[0;31m \u001b[0mg4\u001b[0m \u001b[0;34m=\u001b[0m \u001b[0mplot\u001b[0m\u001b[0;34m(\u001b[0m \u001b[0;34m\"pim\"\u001b[0m\u001b[0;34m,\u001b[0m \u001b[0mfpib\u001b[0m \u001b[0;34m)\u001b[0m\u001b[0;34m\u001b[0m\u001b[0m\n\u001b[0m\u001b[1;32m     30\u001b[0m \u001b[0mg4\u001b[0m\u001b[0;34m.\u001b[0m\u001b[0mDraw\u001b[0m\u001b[0;34m(\u001b[0m\u001b[0;34m)\u001b[0m\u001b[0;34m\u001b[0m\u001b[0m\n\u001b[1;32m     31\u001b[0m \u001b[0;34m\u001b[0m\u001b[0m\n",
      "\u001b[0;32m<ipython-input-5-34ce2526c311>\u001b[0m in \u001b[0;36mplot\u001b[0;34m(nn, f, name)\u001b[0m\n\u001b[1;32m      5\u001b[0m     \u001b[0mfitFunc\u001b[0m\u001b[0;34m.\u001b[0m\u001b[0mSetLineColor\u001b[0m\u001b[0;34m(\u001b[0m \u001b[0mROOT\u001b[0m\u001b[0;34m.\u001b[0m\u001b[0mkRed\u001b[0m \u001b[0;34m)\u001b[0m\u001b[0;34m\u001b[0m\u001b[0m\n\u001b[1;32m      6\u001b[0m     \u001b[0mfitFunc\u001b[0m\u001b[0;34m.\u001b[0m\u001b[0mSetLineWidth\u001b[0m\u001b[0;34m(\u001b[0m \u001b[0;36m3\u001b[0m \u001b[0;34m)\u001b[0m\u001b[0;34m\u001b[0m\u001b[0m\n\u001b[0;32m----> 7\u001b[0;31m     \u001b[0mg1\u001b[0m \u001b[0;34m=\u001b[0m \u001b[0mf\u001b[0m\u001b[0;34m.\u001b[0m\u001b[0mGet\u001b[0m\u001b[0;34m(\u001b[0m \u001b[0mname\u001b[0m \u001b[0;34m)\u001b[0m\u001b[0;34m\u001b[0m\u001b[0m\n\u001b[0m\u001b[1;32m      8\u001b[0m     \u001b[0mg1\u001b[0m\u001b[0;34m.\u001b[0m\u001b[0mFit\u001b[0m\u001b[0;34m(\u001b[0m \u001b[0mfitFunc\u001b[0m\u001b[0;34m,\u001b[0m \u001b[0;34m\"R\"\u001b[0m \u001b[0;34m)\u001b[0m\u001b[0;34m\u001b[0m\u001b[0m\n\u001b[1;32m      9\u001b[0m     \u001b[0;32mreturn\u001b[0m \u001b[0mg1\u001b[0m\u001b[0;34m.\u001b[0m\u001b[0mClone\u001b[0m\u001b[0;34m(\u001b[0m \u001b[0mnn\u001b[0m \u001b[0;34m)\u001b[0m\u001b[0;34m\u001b[0m\u001b[0m\n",
      "\u001b[0;32m/Users/danielbrandenburg/Library/Python/2.7/lib/python/site-packages/rootpy-dev-py2.7.egg/rootpy/io/file.pyc\u001b[0m in \u001b[0;36mget\u001b[0;34m(self, name, *args, **kwargs)\u001b[0m\n\u001b[1;32m     88\u001b[0m             raise DoesNotExist(\n\u001b[1;32m     89\u001b[0m                 \"requested path '{0}' does not exist in {1}\".format(\n\u001b[0;32m---> 90\u001b[0;31m                     name, self._path))\n\u001b[0m\u001b[1;32m     91\u001b[0m     \u001b[0;32mreturn\u001b[0m \u001b[0mget\u001b[0m\u001b[0;34m\u001b[0m\u001b[0m\n\u001b[1;32m     92\u001b[0m \u001b[0;34m\u001b[0m\u001b[0m\n",
      "\u001b[0;31mDoesNotExist\u001b[0m: requested path 'eff_1_40_' does not exist in /Users/danielbrandenburg/bnl/local/work/effMaker/products/data_pi_minus.root"
     ]
    }
   ],
   "source": [
    "c = Canvas( width=1200, height=800 )\n",
    "c.Divide( 3, 2 )\n",
    "\n",
    "ROOT.gStyle.SetOptFit( 111  )\n",
    "ROOT.gStyle.SetStatY( 0.5 );\n",
    "ROOT.gStyle.SetStatX( 0.8 );\n",
    "\n",
    "\n",
    "# fitFunc = ROOT.TF1( \"effFitFunc\", \"[0] * exp( - pow( [1] / x, [2] ) )\", 0.0, 4.5 );\n",
    "# fitFunc.SetParameters( .25, 0.05, 5.0 );\n",
    "# fitFunc.SetLineWidth( 2 )\n",
    "# fitFunc.SetLineColor( ROOT.kRed )\n",
    "# g1 = fPa.Get( \"eff_6_20_\" )\n",
    "# g1.Fit( fitFunc, \"R\" )\n",
    "# g1.Draw()\n",
    "c.cd(1)\n",
    "g1 = plot( \"pi\", fpia, \"eff_1_40_\" )\n",
    "g1.Draw()\n",
    "\n",
    "c.cd(2)\n",
    "g2 = plot( \"k\", fka )\n",
    "g2.Draw()\n",
    "\n",
    "c.cd(3)\n",
    "#g3 = plot( \"P\", fPa )\n",
    "#g3.Draw()\n",
    "\n",
    "c.cd(4)\n",
    "g4 = plot( \"pim\", fpib )\n",
    "g4.Draw()\n",
    "\n",
    "c.cd(5)\n",
    "g5 = plot( \"km\", fkb )\n",
    "g5.Draw()\n",
    "\n",
    "c.cd(6)\n",
    "#g6 = plot( \"Pm\", fPb )\n",
    "#g6.Draw()\n",
    "c.Print( \"Eff_Per.eps\" )\n",
    "c.Print( \"Eff_Per.png\" )\n",
    "#c"
   ]
  },
  {
   "cell_type": "code",
   "execution_count": 13,
   "metadata": {
    "collapsed": false
   },
   "outputs": [],
   "source": [
    "c = Canvas( width=1200, height=800 )\n",
    "c.Divide( 3, 2 )\n",
    "\n",
    "ROOT.gStyle.SetOptFit( 111  )\n",
    "ROOT.gStyle.SetStatY( 0.5 );\n",
    "ROOT.gStyle.SetStatX( 0.8 );\n",
    "\n",
    "\n",
    "# fitFunc = ROOT.TF1( \"effFitFunc\", \"[0] * exp( - pow( [1] / x, [2] ) )\", 0.0, 4.5 );\n",
    "# fitFunc.SetParameters( .25, 0.05, 5.0 );\n",
    "# fitFunc.SetLineWidth( 2 )\n",
    "# fitFunc.SetLineColor( ROOT.kRed )\n",
    "# g1 = fPa.Get( \"eff_6_20_\" )\n",
    "# g1.Fit( fitFunc, \"R\" )\n",
    "# g1.Draw()\n",
    "c.cd(1)\n",
    "g1 = plot( \"pi\", fpia, \"eff_240_500_\" )\n",
    "g1.Draw()\n",
    "\n",
    "c.cd(2)\n",
    "g2 = plot( \"k\", fka, \"eff_240_500_\" )\n",
    "g2.Draw()\n",
    "\n",
    "c.cd(3)\n",
    "g3 = plot( \"P\", fPa, \"eff_240_500_\" )\n",
    "g3.Draw()\n",
    "\n",
    "c.cd(4)\n",
    "g4 = plot( \"pim\", fpib, \"eff_240_500_\" )\n",
    "g4.Draw()\n",
    "\n",
    "c.cd(5)\n",
    "g5 = plot( \"km\", fkb, \"eff_240_500_\" )\n",
    "g5.Draw()\n",
    "\n",
    "c.cd(6)\n",
    "g6 = plot( \"Pm\", fPb, \"eff_240_500_\" )\n",
    "g6.Draw()\n",
    "c.Print( \"Eff_Cen.pdf\" )\n",
    "c.Print( \"Eff_Cen.png\" )\n",
    "#c"
   ]
  },
  {
   "cell_type": "markdown",
   "metadata": {},
   "source": [
    "### Efficiency 60-80%\n",
    "![alt](Eff_Per.png)\n",
    "  \n",
    "  \n",
    "### Efficiency 0-5%\n",
    "![alt](Eff_Cen.png)"
   ]
  },
  {
   "cell_type": "code",
   "execution_count": null,
   "metadata": {
    "collapsed": true
   },
   "outputs": [],
   "source": []
  }
 ],
 "metadata": {
  "kernelspec": {
   "display_name": "Python 2",
   "language": "python",
   "name": "python2"
  },
  "language_info": {
   "codemirror_mode": {
    "name": "ipython",
    "version": 2
   },
   "file_extension": ".py",
   "mimetype": "text/x-python",
   "name": "python",
   "nbconvert_exporter": "python",
   "pygments_lexer": "ipython2",
   "version": "2.7.9"
  }
 },
 "nbformat": 4,
 "nbformat_minor": 0
}
