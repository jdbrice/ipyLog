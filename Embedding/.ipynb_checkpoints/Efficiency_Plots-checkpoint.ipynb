{
 "cells": [
  {
   "cell_type": "code",
   "execution_count": 1,
   "metadata": {
    "collapsed": false
   },
   "outputs": [
    {
     "name": "stdout",
     "output_type": "stream",
     "text": [
      "Loading Eff Lib\n"
     ]
    }
   ],
   "source": [
    "%run 'effLib.ipynb'\n"
   ]
  },
  {
   "cell_type": "code",
   "execution_count": 2,
   "metadata": {
    "collapsed": false
   },
   "outputs": [],
   "source": [
    "fpia = root_open( \"/Users/danielbrandenburg/bnl/local/work/effMaker/products/data_pi_plus.root\" )\n",
    "fpib = root_open( \"/Users/danielbrandenburg/bnl/local/work/effMaker/products/data_pi_minus.root\" )\n",
    "\n",
    "fka = root_open( \"/Users/danielbrandenburg/bnl/local/work/effMaker/products/data_k_plus.root\" )\n",
    "fkb = root_open( \"/Users/danielbrandenburg/bnl/local/work/effMaker/products/data_k_minus.root\" )\n",
    "\n",
    "fPa = root_open( \"/Users/danielbrandenburg/bnl/local/work/effMaker/products/data_P.root\" )\n",
    "fPb = root_open( \"/Users/danielbrandenburg/bnl/local/work/effMaker/products/data_P_Bar.root\" )"
   ]
  },
  {
   "cell_type": "code",
   "execution_count": 8,
   "metadata": {
    "collapsed": true
   },
   "outputs": [],
   "source": [
    "def plot( nn, f, name=\"eff_6_20_\" ) :\n",
    "    fitFunc = ROOT.TF1( \"effFitFunc\", \"[0] * exp( - pow( [1] / x, [2] ) )\", 0.0, 5.0 );\n",
    "    fitFunc.SetParameters( .25, 0.05, 5.0 );\n",
    "    fitFunc.SetLineWidth( 2 )\n",
    "    fitFunc.SetLineColor( ROOT.kRed )\n",
    "    fitFunc.SetLineWidth( 3 )\n",
    "    g1 = f.Get( name )\n",
    "    g1.Fit( fitFunc, \"R\" )\n",
    "    return g1.Clone( nn )\n"
   ]
  },
  {
   "cell_type": "code",
   "execution_count": 12,
   "metadata": {
    "collapsed": false
   },
   "outputs": [],
   "source": [
    "c = Canvas( width=1200, height=800 )\n",
    "c.Divide( 3, 2 )\n",
    "\n",
    "ROOT.gStyle.SetOptFit( 111  )\n",
    "ROOT.gStyle.SetStatY( 0.5 );\n",
    "ROOT.gStyle.SetStatX( 0.8 );\n",
    "\n",
    "\n",
    "# fitFunc = ROOT.TF1( \"effFitFunc\", \"[0] * exp( - pow( [1] / x, [2] ) )\", 0.0, 4.5 );\n",
    "# fitFunc.SetParameters( .25, 0.05, 5.0 );\n",
    "# fitFunc.SetLineWidth( 2 )\n",
    "# fitFunc.SetLineColor( ROOT.kRed )\n",
    "# g1 = fPa.Get( \"eff_6_20_\" )\n",
    "# g1.Fit( fitFunc, \"R\" )\n",
    "# g1.Draw()\n",
    "c.cd(1)\n",
    "g1 = plot( \"pi\", fpia )\n",
    "g1.Draw()\n",
    "\n",
    "c.cd(2)\n",
    "g2 = plot( \"k\", fka )\n",
    "g2.Draw()\n",
    "\n",
    "c.cd(3)\n",
    "g3 = plot( \"P\", fPa )\n",
    "g3.Draw()\n",
    "\n",
    "c.cd(4)\n",
    "g4 = plot( \"pim\", fpib )\n",
    "g4.Draw()\n",
    "\n",
    "c.cd(5)\n",
    "g5 = plot( \"km\", fkb )\n",
    "g5.Draw()\n",
    "\n",
    "c.cd(6)\n",
    "g6 = plot( \"Pm\", fPb )\n",
    "g6.Draw()\n",
    "c.Print( \"Eff_Per.pdf\" )\n",
    "c.Print( \"Eff_Per.png\" )\n",
    "#c"
   ]
  },
  {
   "cell_type": "code",
   "execution_count": 13,
   "metadata": {
    "collapsed": false
   },
   "outputs": [],
   "source": [
    "c = Canvas( width=1200, height=800 )\n",
    "c.Divide( 3, 2 )\n",
    "\n",
    "ROOT.gStyle.SetOptFit( 111  )\n",
    "ROOT.gStyle.SetStatY( 0.5 );\n",
    "ROOT.gStyle.SetStatX( 0.8 );\n",
    "\n",
    "\n",
    "# fitFunc = ROOT.TF1( \"effFitFunc\", \"[0] * exp( - pow( [1] / x, [2] ) )\", 0.0, 4.5 );\n",
    "# fitFunc.SetParameters( .25, 0.05, 5.0 );\n",
    "# fitFunc.SetLineWidth( 2 )\n",
    "# fitFunc.SetLineColor( ROOT.kRed )\n",
    "# g1 = fPa.Get( \"eff_6_20_\" )\n",
    "# g1.Fit( fitFunc, \"R\" )\n",
    "# g1.Draw()\n",
    "c.cd(1)\n",
    "g1 = plot( \"pi\", fpia, \"eff_240_500_\" )\n",
    "g1.Draw()\n",
    "\n",
    "c.cd(2)\n",
    "g2 = plot( \"k\", fka, \"eff_240_500_\" )\n",
    "g2.Draw()\n",
    "\n",
    "c.cd(3)\n",
    "g3 = plot( \"P\", fPa, \"eff_240_500_\" )\n",
    "g3.Draw()\n",
    "\n",
    "c.cd(4)\n",
    "g4 = plot( \"pim\", fpib, \"eff_240_500_\" )\n",
    "g4.Draw()\n",
    "\n",
    "c.cd(5)\n",
    "g5 = plot( \"km\", fkb, \"eff_240_500_\" )\n",
    "g5.Draw()\n",
    "\n",
    "c.cd(6)\n",
    "g6 = plot( \"Pm\", fPb, \"eff_240_500_\" )\n",
    "g6.Draw()\n",
    "c.Print( \"Eff_Cen.pdf\" )\n",
    "c.Print( \"Eff_Cen.png\" )\n",
    "#c"
   ]
  },
  {
   "cell_type": "markdown",
   "metadata": {},
   "source": [
    "### Efficiency 60-80%\n",
    "![alt](Eff_Per.png)\n",
    "  \n",
    "  \n",
    "### Efficiency 0-5%\n",
    "![alt](Eff_Cen.png)"
   ]
  },
  {
   "cell_type": "code",
   "execution_count": null,
   "metadata": {
    "collapsed": true
   },
   "outputs": [],
   "source": []
  }
 ],
 "metadata": {
  "kernelspec": {
   "display_name": "Python 2",
   "language": "python",
   "name": "python2"
  },
  "language_info": {
   "codemirror_mode": {
    "name": "ipython",
    "version": 2
   },
   "file_extension": ".py",
   "mimetype": "text/x-python",
   "name": "python",
   "nbconvert_exporter": "python",
   "pygments_lexer": "ipython2",
   "version": "2.7.9"
  }
 },
 "nbformat": 4,
 "nbformat_minor": 0
}
