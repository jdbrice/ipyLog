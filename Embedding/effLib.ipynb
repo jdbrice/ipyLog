{
 "cells": [
  {
   "cell_type": "code",
   "execution_count": 1,
   "metadata": {
    "collapsed": false
   },
   "outputs": [
    {
     "name": "stdout",
     "output_type": "stream",
     "text": [
      "Loading Eff Lib\n"
     ]
    }
   ],
   "source": [
    "%matplotlib inline\n",
    "import rootpy.ROOT as ROOT\n",
    "from rootpy.io import root_open, DoesNotExist\n",
    "from rootpy.plotting import Canvas, Hist, Hist2D, Hist3D\n",
    "\n",
    "print \"Loading Eff Lib\""
   ]
  },
  {
   "cell_type": "code",
   "execution_count": 2,
   "metadata": {
    "collapsed": true
   },
   "outputs": [],
   "source": [
    "def copyHist( hIn ) :\n",
    "    nBins = hIn.GetNbinsX()\n",
    "    hOut = Hist( nBins, hIn.GetXaxis().GetXmin(), hIn.GetXaxis().GetXmax() )\n",
    "    hOut.FillRandom( \"gaus\" )\n",
    "    for i in range( 1, nBins ) :\n",
    "        hOut.SetBinContent( i, hIn.GetBinContent( i ) )\n",
    "        hOut.SetBinError( i, .01 )\n",
    "    return hOut"
   ]
  },
  {
   "cell_type": "code",
   "execution_count": 3,
   "metadata": {
    "collapsed": true
   },
   "outputs": [],
   "source": [
    "def drawPrePost( name, iPad, **kwarg ) :\n",
    "    c.cd( iPad )\n",
    "    hPre = f.Get( name )\n",
    "    hPost = f.Get( \"post_\"+name )\n",
    "    hPre.Draw()\n",
    "    hPost.SetLineColor( 'red' )\n",
    "    hPost.Draw(\"same\")\n",
    "    if \"logY\" in kwarg :\n",
    "        ROOT.gPad.SetLogy( kwarg[ 'logY'] )\n",
    "        \n",
    "def drawVsData( mod, name, iPad, **kwarg ) :\n",
    "    \n",
    "    c.cd( iPad )\n",
    "    \n",
    "    hPost = f.Get( mod+name )\n",
    "    hData = fd.Get( mod+name )\n",
    "\n",
    "    #hPre1 = normSlice1D( hPre, kwarg['ptLow'], kwarg['ptHigh'], name=\"_pre\"+str(iPad) )\n",
    "    hPost1 = normSlice1D( hPost, kwarg['ptLow'], kwarg['ptHigh'], name=\"_post\"+str(iPad) )\n",
    "    hData1 = normSlice1D( hData, kwarg['ptLow'], kwarg['ptHigh'], name=\"_data\"+str(iPad) )\n",
    "    \n",
    "    dopt=\"\"\n",
    "    if 'draw' in kwarg :\n",
    "        dopt = kwarg[ 'draw' ]\n",
    "    \n",
    "    if 'x1' in kwarg and 'x2' in kwarg :\n",
    "        hPost1.GetXaxis().SetRangeUser( kwarg['x1'], kwarg['x2'] )\n",
    "    \n",
    "    hPost1.SetTitle(  str(kwarg['ptLow']) + \" <pT< \" + str(kwarg['ptHigh']) + \"[GeV]\"  )\n",
    "    hPost1.Draw( dopt )\n",
    "    hPost1.GetYaxis().SetRangeUser( 0.001, hPost1.GetMaximum() * 1.5 )\n",
    "    if 'maxY' in kwarg :\n",
    "        hPost1.GetYaxis().SetRangeUser( 0.00001, kwarg[ 'maxY'] )\n",
    "    \n",
    "    hPost1.SetMarkerColor( ROOT.kRed )\n",
    "    hPost1.SetMarkerSize( 1 )\n",
    "    hData1.SetMarkerColor( 1 )\n",
    "    hData1.Draw( \"same\" + dopt )\n",
    "    hData1.SetMarkerStyle(20)\n",
    "    hData1.SetMarkerSize(1)\n",
    "    if \"logY\" in kwarg :\n",
    "        ROOT.gPad.SetLogy( kwarg[ 'logY'] )\n",
    "    \n",
    "    if iPad == 1 :\n",
    "        leg = ROOT.TLegend(0.1,0.7,0.4,0.9);\n",
    "        leg.AddEntry( hPost1, \"Reco\" )\n",
    "        leg.AddEntry( hData1, \"Data\" )\n",
    "        leg.Draw(\"same\")\n",
    "        \n",
    "        \n",
    "        \n",
    "        \n",
    "def slice1D( h2D, l, h, **kwarg ) : \n",
    "    bl = h2D.GetXaxis().FindBin( l )\n",
    "    bh = h2D.GetXaxis().FindBin( h )\n",
    "    return h2D.ProjectionY( kwarg[ 'name' ], bl, bh )\n",
    "def normSlice1D( h2D, l, h, **kwarg ) : \n",
    "    h1D = slice1D( h2D, l, h, **kwarg )\n",
    "    if h1D.Integral() > 0 :\n",
    "        h1D.Scale( 1.0 / h1D.Integral() )\n",
    "    return h1D\n"
   ]
  },
  {
   "cell_type": "code",
   "execution_count": 1,
   "metadata": {
    "collapsed": true
   },
   "outputs": [],
   "source": [
    "# multiplicity is x\n",
    "# rapidity is y\n",
    "# pt is z\n",
    "def PlotEff( cl, ch, yl, yh, name ) :\n",
    "    hPre = f.pre\n",
    "    hPre.GetXaxis().SetRangeUser( cl, ch )\n",
    "    hPre.GetYaxis().SetRangeUser( yl, yh )\n",
    "    \n",
    "    hPost = f.post\n",
    "    hPost.GetXaxis().SetRangeUser( cl, ch )\n",
    "    hPost.GetYaxis().SetRangeUser( yl, yh )\n",
    "    \n",
    "    hPass = hPost.Project3D('z').Clone( \"hPass\" )\n",
    "    hTotal = hPre.Project3D('z').Clone( \"hTotal\" )\n",
    "    \n",
    "    #effGraph = ROOT.TGraphAsymmErrors()\n",
    "    #effGraph.Divide( hPass, hTotal )\n",
    "    \n",
    "    effGraph = hPass.Clone( \"eff\" )\n",
    "    effGraph.Divide( hTotal )\n",
    "    \n",
    "    rh = copyHist( effGraph )\n",
    "    \n",
    "    efunc = ROOT.TF1( \"efunc\", \"[0] * exp( - pow( [1] / x, [2] ) )\", 0.0, 5 )\n",
    "    efunc.SetParameters( .25, 0.05, 5.0 )\n",
    "    rh.Fit( efunc, \"R\" )\n",
    "    \n",
    "    print name, \": \"\n",
    "    print \"p0 = \", efunc.GetParameter( 0 ) \n",
    "    print \"p1 = \", efunc.GetParameter( 1 ) \n",
    "    print \"p2 = \", efunc.GetParameter( 2 ) \n",
    "\n",
    "    return rh\n"
   ]
  },
  {
   "cell_type": "code",
   "execution_count": 5,
   "metadata": {
    "collapsed": true
   },
   "outputs": [],
   "source": [
    "# multiplicity is x\n",
    "# rapidity is y\n",
    "# pt is z\n",
    "def Plot2DEff( cl, ch, name ) :\n",
    "    hPre = f.pre\n",
    "    hPre.GetXaxis().SetRangeUser( cl, ch )\n",
    "    hPost = f.post\n",
    "    hPost.GetXaxis().SetRangeUser( cl, ch )\n",
    "    \n",
    "    hPass = hPost.Project3D('zy').Clone( \"hPass\" )\n",
    "    hTotal = hPre.Project3D('zy').Clone( \"hTotal\" )\n",
    "    \n",
    "    #effGraph = ROOT.TGraphAsymmErrors()\n",
    "    #effGraph.Divide( hPass, hTotal )\n",
    "    \n",
    "    effGraph = hPass.Clone( \"eff\" )\n",
    "    effGraph.Divide( hTotal )\n",
    "    \n",
    "    return effGraph"
   ]
  },
  {
   "cell_type": "code",
   "execution_count": null,
   "metadata": {
    "collapsed": true
   },
   "outputs": [],
   "source": []
  }
 ],
 "metadata": {
  "kernelspec": {
   "display_name": "Python 2",
   "language": "python",
   "name": "python2"
  },
  "language_info": {
   "codemirror_mode": {
    "name": "ipython",
    "version": 2
   },
   "file_extension": ".py",
   "mimetype": "text/x-python",
   "name": "python",
   "nbconvert_exporter": "python",
   "pygments_lexer": "ipython2",
   "version": "2.7.9"
  }
 },
 "nbformat": 4,
 "nbformat_minor": 0
}
