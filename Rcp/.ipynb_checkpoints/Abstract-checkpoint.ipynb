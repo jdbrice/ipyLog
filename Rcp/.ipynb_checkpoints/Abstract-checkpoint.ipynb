{
 "cells": [
  {
   "cell_type": "markdown",
   "metadata": {},
   "source": [
    "In 2014, RHIC concluded the first phase of the Beam Energy Scan (BES) program by colliding Au$+$Au at $\\sqrt{S_{NN}}$= 14.5 GeV. In this contribution, we report STAR measurements of the spectra and the nuclear modification factor R$_{CP}$ for identified $\\pi^{+(-)}$, K$^{+(-)}$, and p ($\\bar{p}$) for Au+Au collisions at this center-of-mass energy. Multiple PID detectors are simultaneously employed to extract exclusive particle yields out to a pT of 3.5 GeV/c.  The measurements will be discussed in the context of previously presented BES measurements."
   ]
  },
  {
   "cell_type": "code",
   "execution_count": null,
   "metadata": {
    "collapsed": true
   },
   "outputs": [],
   "source": []
  }
 ],
 "metadata": {
  "kernelspec": {
   "display_name": "Python 2",
   "language": "python",
   "name": "python2"
  },
  "language_info": {
   "codemirror_mode": {
    "name": "ipython",
    "version": 2
   },
   "file_extension": ".py",
   "mimetype": "text/x-python",
   "name": "python",
   "nbconvert_exporter": "python",
   "pygments_lexer": "ipython2",
   "version": "2.7.9"
  }
 },
 "nbformat": 4,
 "nbformat_minor": 0
}
