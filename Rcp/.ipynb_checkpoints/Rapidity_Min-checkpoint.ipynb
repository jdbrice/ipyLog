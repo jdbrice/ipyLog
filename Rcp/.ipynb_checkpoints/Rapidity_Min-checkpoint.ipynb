{
 "cells": [
  {
   "cell_type": "code",
   "execution_count": 1,
   "metadata": {
    "collapsed": true
   },
   "outputs": [],
   "source": [
    "%matplotlib inline\n",
    "import rootpy.ROOT as R\n",
    "R.gROOT.SetBatch(True)\n",
    "import numpy as np\n",
    "from rootpy.io import root_open, DoesNotExist\n",
    "from rootpy.plotting import Canvas, Hist, Legend\n",
    "import rootpy.plotting.root2matplotlib as rplt\n",
    "import matplotlib.pyplot as plt"
   ]
  },
  {
   "cell_type": "code",
   "execution_count": 58,
   "metadata": {
    "collapsed": false
   },
   "outputs": [],
   "source": [
    "def rapidity( m, pt, eta ) :\n",
    "    \n",
    "    p = pt*np.cosh(eta);\n",
    "    \n",
    "    a = np.sqrt( m*m + p*p )\n",
    "    b = pt * np.sinh( eta )\n",
    "    c = np.sqrt( m*m + pt*pt )\n",
    "    \n",
    "    np.log( (a + b ) / c )\n",
    "    return  (a + b ) / c "
   ]
  },
  {
   "cell_type": "code",
   "execution_count": 59,
   "metadata": {
    "collapsed": false
   },
   "outputs": [
    {
     "data": {
      "text/plain": [
       "0.29538932270487694"
      ]
     },
     "execution_count": 59,
     "metadata": {},
     "output_type": "execute_result"
    }
   ],
   "source": [
    "rapidity( 0.9, 5.0, 0.30)"
   ]
  },
  {
   "cell_type": "code",
   "execution_count": 65,
   "metadata": {
    "collapsed": false
   },
   "outputs": [
    {
     "data": {
      "text/plain": [
       "array([  0.        ,   1.02040816,   2.04081633,   3.06122449,\n",
       "         4.08163265,   5.10204082,   6.12244898,   7.14285714,\n",
       "         8.16326531,   9.18367347,  10.20408163,  11.2244898 ,\n",
       "        12.24489796,  13.26530612,  14.28571429,  15.30612245,\n",
       "        16.32653061,  17.34693878,  18.36734694,  19.3877551 ,\n",
       "        20.40816327,  21.42857143,  22.44897959,  23.46938776,\n",
       "        24.48979592,  25.51020408,  26.53061224,  27.55102041,\n",
       "        28.57142857,  29.59183673,  30.6122449 ,  31.63265306,\n",
       "        32.65306122,  33.67346939,  34.69387755,  35.71428571,\n",
       "        36.73469388,  37.75510204,  38.7755102 ,  39.79591837,\n",
       "        40.81632653,  41.83673469,  42.85714286,  43.87755102,\n",
       "        44.89795918,  45.91836735,  46.93877551,  47.95918367,\n",
       "        48.97959184,  50.        ])"
      ]
     },
     "execution_count": 65,
     "metadata": {},
     "output_type": "execute_result"
    }
   ],
   "source": [
    "eta = np.linspace( 0, 50 )\n",
    "eta"
   ]
  },
  {
   "cell_type": "code",
   "execution_count": 67,
   "metadata": {
    "collapsed": false
   },
   "outputs": [
    {
     "data": {
      "text/plain": [
       "[<matplotlib.lines.Line2D at 0x12274fb50>]"
      ]
     },
     "execution_count": 67,
     "metadata": {},
     "output_type": "execute_result"
    },
    {
     "data": {
      "image/png": "[encoded data removed]",
      "text/plain": [
       "<matplotlib.figure.Figure at 0x1226874d0>"
      ]
     },
     "metadata": {},
     "output_type": "display_data"
    }
   ],
   "source": [
    "plt.figure()\n",
    "plt.plot( rapidity( 0.139, 3.0, eta ), eta  )\n",
    "\n"
   ]
  },
  {
   "cell_type": "code",
   "execution_count": null,
   "metadata": {
    "collapsed": true
   },
   "outputs": [],
   "source": []
  }
 ],
 "metadata": {
  "kernelspec": {
   "display_name": "Python 2",
   "language": "python",
   "name": "python2"
  },
  "language_info": {
   "codemirror_mode": {
    "name": "ipython",
    "version": 2
   },
   "file_extension": ".py",
   "mimetype": "text/x-python",
   "name": "python",
   "nbconvert_exporter": "python",
   "pygments_lexer": "ipython2",
   "version": "2.7.9"
  }
 },
 "nbformat": 4,
 "nbformat_minor": 0
}
