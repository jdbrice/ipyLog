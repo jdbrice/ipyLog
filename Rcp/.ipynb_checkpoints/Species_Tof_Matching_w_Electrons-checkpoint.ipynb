{
 "cells": [
  {
   "cell_type": "code",
   "execution_count": 38,
   "metadata": {
    "collapsed": true
   },
   "outputs": [],
   "source": [
    "%matplotlib inline\n",
    "import rootpy.ROOT as R\n",
    "R.gROOT.SetBatch(True)\n",
    "from rootpy.io import root_open, DoesNotExist\n",
    "from rootpy.plotting import Canvas, Hist, Legend\n",
    "import rootpy.plotting.root2matplotlib as rplt\n",
    "import matplotlib.pyplot as plt"
   ]
  },
  {
   "cell_type": "code",
   "execution_count": 149,
   "metadata": {
    "collapsed": false
   },
   "outputs": [],
   "source": [
    "data = root_open( \"/Users/danielbrandenburg/bnl/local/work/rcpMaker/products/PidHisto_eff_K.root\" )\n",
    "\n",
    "zb = data.tof.zb_K_p_0_10\n",
    "zd = data.dedx.zd_K_p_0_10\n",
    "\n",
    "def fixBinWidth( h ) :\n",
    "    for bin in range( 1, h.GetNbinsX()+1 ) :\n",
    "        bc = h.GetBinContent( bin )\n",
    "        be = h.GetBinError( bin )\n",
    "        bw = h.GetBinWidth( bin )\n",
    "        h.SetBinContent( bin, bc / bw )\n",
    "        h.SetBinError( bin, be / bw )\n",
    "fixBinWidth( zb )\n",
    "fixBinWidth( zd )\n",
    "\n",
    "\n",
    "def setLimits( f, mus, n, sig ) :\n",
    "    f.SetParLimits( 1, mus[0] - n * sig, mus[0] + n * sig )\n",
    "    f.SetParLimits( 4, mus[1] - n * sig, mus[1] + n * sig )\n",
    "    f.SetParLimits( 7, mus[2] - n * sig, mus[2] + n * sig )\n",
    "    \n",
    "    f.SetParLimits( 2, sig * .25, sig * 2 )\n",
    "    f.SetParLimits( 5, sig * .25, sig * 2 )\n",
    "    f.SetParLimits( 8, sig * .25, sig * 2 )\n",
    "\n",
    "    \n",
    "def printPars( f, **kwargs ) :\n",
    "    if 'title' in kwargs :\n",
    "        print kwargs[ 'title' ]\n",
    "    for i in range( 0, f.GetNpar() ) :\n",
    "        print \"p\", i , \"=\", f.GetParameter(i)\n",
    "        \n",
    "def singleGauss( f, fp, x1, x2 ) :\n",
    "    nf = R.TF1( \"nf_\" + str(fp), \"[0] /( [2] * sqrt( 2 * 3.14 ) )* exp( -0.5*((x-[1])^2/(2*[2]^2)))\", x1, x2 )\n",
    "    pars = f.GetParameters()\n",
    "    nf.SetParameters( pars[ fp ], pars[ fp + 1 ], pars[ fp + 2 ] )\n",
    "    nf.SetLineWidth(2)\n",
    "    nf.SetLineColor( R.kBlue )\n",
    "    return nf\n",
    "\n",
    "def fixShapes( f ) :\n",
    "    pars = f.GetParameters()\n",
    "    f.FixParameter( 1, pars[1] )\n",
    "    f.FixParameter( 2, pars[2] )\n",
    "    \n",
    "    f.FixParameter( 4, pars[4] )\n",
    "    f.FixParameter( 5, pars[5] )\n",
    "    \n",
    "    f.FixParameter( 7, pars[7] )\n",
    "    f.FixParameter( 8, pars[8] )\n"
   ]
  },
  {
   "cell_type": "code",
   "execution_count": 150,
   "metadata": {
    "collapsed": true
   },
   "outputs": [],
   "source": [
    "r1 = ( -1.1, 0.2 )\n",
    "r2 = ( -1.5, 0.4 )"
   ]
  },
  {
   "cell_type": "code",
   "execution_count": 151,
   "metadata": {
    "collapsed": true
   },
   "outputs": [],
   "source": [
    "fns = \"[0] /( [2] * sqrt( 2 * 3.14 ) )* exp( -0.5*((x-[1])^2/(2*[2]^2))) + [3] /( [5] * sqrt( 2 * 3.14 ) )* exp( -0.5*((x-[4])^2/(2*[5]^2))) + [6] /( [8] * sqrt( 2 * 3.14 ) )* exp( -0.5*((x-[7])^2/(2*[8]^2)))\"\n",
    "\n",
    "f = R.TF1( \"f\", \"[0] /( [2] * sqrt( 2 * 3.14 ) )* exp( -0.5*((x-[1])^2/(2*[2]^2)))\", -1.5, 1.5 )\n",
    "f.SetLineWidth(2)\n",
    "f.SetLineColor( R.kBlue )\n",
    "\n",
    "\n",
    "f1 = R.TF1( \"f1\", fns, -1.5, 0.3 )\n",
    "f1.SetParameters( 1e3, mu1[0], 0.012, 1e2, mu1[1], 0.012, 1e2, mu1[2], 0.012  )\n",
    "setLimits( f1, mu1, 4, 0.012 )\n",
    "f1.SetLineColor( R.kRed )\n",
    "f1.SetLineWidth( 2 )\n",
    "\n",
    "\n",
    "f2 = R.TF1( \"f2\", fns, -1.5, 0.3 )\n",
    "f2.SetParameters( 1e3, mu2[0], 0.07, 1e2, mu2[1], 0.07, 1e2, mu2[2], 0.07 )\n",
    "setLimits( f2, mu2, 2, 0.07 )\n",
    "f2.SetLineColor( R.kRed )\n",
    "f2.SetLineWidth( 2 )\n"
   ]
  },
  {
   "cell_type": "code",
   "execution_count": 152,
   "metadata": {
    "collapsed": false
   },
   "outputs": [
    {
     "data": {
      "image/png": "[encoded data removed]",
      "text/plain": [
       "Canvas('f108ae3d7eb24324aed0a6249bee3527')"
      ]
     },
     "execution_count": 152,
     "metadata": {},
     "output_type": "execute_result"
    }
   ],
   "source": [
    "can = Canvas( width=1200, height=500 )\n",
    "can.Divide( 2, 1 )\n",
    "can.cd(1)\n",
    "R.gStyle.SetOptStat( 0 )\n",
    "\n",
    "################# Zb fit\n",
    "zb.Fit( f1, \"R\" )\n",
    "zb.Fit( f1, \"R\" )\n",
    "fixShapes( f1 )\n",
    "zb.Fit( f1, \"RL\" )\n",
    "zb.Draw(\"pe\")\n",
    "zb.GetXaxis().SetRangeUser( r1[0], r1[1] )\n",
    "zb.GetYaxis().SetRangeUser( 1e2, 1e6 )\n",
    "R.gPad.SetLogy(1)\n",
    "\n",
    "############### Zd Fit\n",
    "can.cd(2)\n",
    "R.gStyle.SetOptStat( 0 )\n",
    "zd.Fit( f2, \"R\" )\n",
    "zd.Fit( f2, \"R\" )\n",
    "fixShapes( f2 )\n",
    "zd.Fit( f2, \"RL\" )\n",
    "\n",
    "zd.Draw( \"pe\")\n",
    "f2.SetRange( -100, 100 )\n",
    "f2.Draw(\"same\")\n",
    "zd.GetXaxis().SetRangeUser( r2[0], r2[1] )\n",
    "\n",
    "felec = singleGauss( f2, 3, r2[0], r2[1] )\n",
    "felec.Draw(\"same\")\n",
    "\n",
    "R.gPad.SetLogy(1)\n",
    "can"
   ]
  },
  {
   "cell_type": "code",
   "execution_count": 128,
   "metadata": {
    "collapsed": true
   },
   "outputs": [],
   "source": [
    "mu1 = ( -0.8, -0.95, 0.1 )\n",
    "mu2 = ( -0.9, -0.65, 0 )"
   ]
  },
  {
   "cell_type": "code",
   "execution_count": 153,
   "metadata": {
    "collapsed": false
   },
   "outputs": [
    {
     "name": "stdout",
     "output_type": "stream",
     "text": [
      "E_Pi = 0.95301285472\n",
      "E_elec = 1.18483621429\n",
      "E_K = 0.903137372438\n",
      "average = 1.01366214715\n"
     ]
    }
   ],
   "source": [
    "def eff( par ) : \n",
    "    return f1.GetParameter( par ) / f2.GetParameter( par ) \n",
    "\n",
    "\n",
    "print \"E_Pi =\", eff( 0 )\n",
    "print \"E_elec =\", eff(3)\n",
    "print \"E_K =\", eff(6)\n",
    "\n",
    "print \"average =\", ( eff(0) + eff(3) + eff(6) ) / 3.0"
   ]
  },
  {
   "cell_type": "code",
   "execution_count": null,
   "metadata": {
    "collapsed": true
   },
   "outputs": [],
   "source": []
  }
 ],
 "metadata": {
  "kernelspec": {
   "display_name": "Python 2",
   "language": "python",
   "name": "python2"
  },
  "language_info": {
   "codemirror_mode": {
    "name": "ipython",
    "version": 2
   },
   "file_extension": ".py",
   "mimetype": "text/x-python",
   "name": "python",
   "nbconvert_exporter": "python",
   "pygments_lexer": "ipython2",
   "version": "2.7.10"
  }
 },
 "nbformat": 4,
 "nbformat_minor": 0
}
