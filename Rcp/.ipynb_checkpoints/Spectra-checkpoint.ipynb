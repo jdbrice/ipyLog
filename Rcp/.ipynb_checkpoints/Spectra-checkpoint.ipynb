{
 "cells": [
  {
   "cell_type": "code",
   "execution_count": 1,
   "metadata": {
    "collapsed": true
   },
   "outputs": [],
   "source": [
    "%matplotlib inline\n",
    "import rootpy.ROOT as R\n",
    "R.gROOT.SetBatch(True)\n",
    "import numpy as np\n",
    "from rootpy.io import root_open, DoesNotExist\n",
    "from rootpy.plotting import Canvas, Hist, Legend\n",
    "import rootpy.plotting.root2matplotlib as rplt\n",
    "import matplotlib.pyplot as plt"
   ]
  },
  {
   "cell_type": "code",
   "execution_count": 2,
   "metadata": {
    "collapsed": true
   },
   "outputs": [],
   "source": [
    "f = root_open( \"/Users/danielbrandenburg/bnl/local/work/rcpMaker/products/15/presentation/data.root\" );"
   ]
  },
  {
   "cell_type": "code",
   "execution_count": 3,
   "metadata": {
    "collapsed": false
   },
   "outputs": [],
   "source": [
    "def getEvanSpectra( en, plc, c, cl, ch ) :\n",
    "    ef = root_open( \"/Users/danielbrandenburg/bnl/local/work/rcpMaker/script/evan/spectra_\" + en + \".root\" )\n",
    "    he = ef.Get( plc + \"_\" + c + \"_\" + str(cl) + \"_\" + str(ch) )\n",
    "    return he\n",
    "\n",
    "    \n",
    "def getSpectra( plc, c, cen ) :\n",
    "    hm = f.Get(  \"yield/yield_\" + plc + \"_\" + cen + \"_\" + c + \"_0\" ).Clone( plc+c+cen )\n",
    "    return hm"
   ]
  },
  {
   "cell_type": "code",
   "execution_count": 11,
   "metadata": {
    "collapsed": false
   },
   "outputs": [
    {
     "data": {
      "image/png": "[encoded data removed]",
      "text/plain": [
       "Canvas('b64644bdeca64b7db4d920ee4c08e036')"
      ]
     },
     "execution_count": 11,
     "metadata": {},
     "output_type": "execute_result"
    }
   ],
   "source": [
    "can = Canvas( width=900, height=600 )\n",
    "plc = \"Pi\"\n",
    "c = \"p\"\n",
    "h7 = getEvanSpectra( \"7.7\", plc, c, 0, 1 )\n",
    "h11 = getEvanSpectra( \"11.5\", plc, c, 8, 8 )\n",
    "h19 = getEvanSpectra( \"19.6\", plc, c, 8, 8 )\n",
    "h15 = getSpectra( plc, c, \"6\" )\n",
    "\n",
    "h19.SetLineColor( R.kRed )\n",
    "h19.SetMarkerColor( R.kRed )\n",
    "\n",
    "\n",
    "h19.Draw()\n",
    "h19.GetXaxis().SetRangeUser(0.5, 3)\n",
    "h11.Draw(\"same\")\n",
    "\n",
    "R.gPad.SetLogy(1)\n",
    "can"
   ]
  },
  {
   "cell_type": "code",
   "execution_count": 46,
   "metadata": {
    "collapsed": false
   },
   "outputs": [
    {
     "name": "stderr",
     "output_type": "stream",
     "text": [
      "ERROR:ROOT.TH1D.Divide:Cannot divide histograms with different number of bins\n"
     ]
    },
    {
     "ename": "ROOTError",
     "evalue": "level=3000, loc='TH1D::Divide', msg='Cannot divide histograms with different number of bins'",
     "output_type": "error",
     "traceback": [
      "\u001b[0;31m---------------------------------------------------------------------------\u001b[0m",
      "\u001b[0;31mROOTError\u001b[0m                                 Traceback (most recent call last)",
      "\u001b[0;32m<ipython-input-46-40964ffab58c>\u001b[0m in \u001b[0;36m<module>\u001b[0;34m()\u001b[0m\n\u001b[1;32m      2\u001b[0m \u001b[0mh15r\u001b[0m \u001b[0;34m=\u001b[0m \u001b[0mgetSpectra\u001b[0m\u001b[0;34m(\u001b[0m \u001b[0mplc\u001b[0m\u001b[0;34m,\u001b[0m \u001b[0mc\u001b[0m\u001b[0;34m,\u001b[0m \u001b[0;34m\"6\"\u001b[0m \u001b[0;34m)\u001b[0m\u001b[0;34m.\u001b[0m\u001b[0mClone\u001b[0m\u001b[0;34m(\u001b[0m \u001b[0;34m\"ratio19\"\u001b[0m \u001b[0;34m)\u001b[0m\u001b[0;34m\u001b[0m\u001b[0m\n\u001b[1;32m      3\u001b[0m \u001b[0;34m\u001b[0m\u001b[0m\n\u001b[0;32m----> 4\u001b[0;31m \u001b[0mh15r\u001b[0m\u001b[0;34m.\u001b[0m\u001b[0mDivide\u001b[0m\u001b[0;34m(\u001b[0m \u001b[0mh19\u001b[0m \u001b[0;34m)\u001b[0m\u001b[0;34m\u001b[0m\u001b[0m\n\u001b[0m\u001b[1;32m      5\u001b[0m \u001b[0;31m# h15r.Draw()\u001b[0m\u001b[0;34m\u001b[0m\u001b[0;34m\u001b[0m\u001b[0m\n\u001b[1;32m      6\u001b[0m \u001b[0;31m# can\u001b[0m\u001b[0;34m\u001b[0m\u001b[0;34m\u001b[0m\u001b[0m\n",
      "\u001b[0;32m<ipython-input-46-40964ffab58c>\u001b[0m in \u001b[0;36m<module>\u001b[0;34m()\u001b[0m\n\u001b[1;32m      2\u001b[0m \u001b[0mh15r\u001b[0m \u001b[0;34m=\u001b[0m \u001b[0mgetSpectra\u001b[0m\u001b[0;34m(\u001b[0m \u001b[0mplc\u001b[0m\u001b[0;34m,\u001b[0m \u001b[0mc\u001b[0m\u001b[0;34m,\u001b[0m \u001b[0;34m\"6\"\u001b[0m \u001b[0;34m)\u001b[0m\u001b[0;34m.\u001b[0m\u001b[0mClone\u001b[0m\u001b[0;34m(\u001b[0m \u001b[0;34m\"ratio19\"\u001b[0m \u001b[0;34m)\u001b[0m\u001b[0;34m\u001b[0m\u001b[0m\n\u001b[1;32m      3\u001b[0m \u001b[0;34m\u001b[0m\u001b[0m\n\u001b[0;32m----> 4\u001b[0;31m \u001b[0mh15r\u001b[0m\u001b[0;34m.\u001b[0m\u001b[0mDivide\u001b[0m\u001b[0;34m(\u001b[0m \u001b[0mh19\u001b[0m \u001b[0;34m)\u001b[0m\u001b[0;34m\u001b[0m\u001b[0m\n\u001b[0m\u001b[1;32m      5\u001b[0m \u001b[0;31m# h15r.Draw()\u001b[0m\u001b[0;34m\u001b[0m\u001b[0;34m\u001b[0m\u001b[0m\n\u001b[1;32m      6\u001b[0m \u001b[0;31m# can\u001b[0m\u001b[0;34m\u001b[0m\u001b[0;34m\u001b[0m\u001b[0m\n",
      "\u001b[0;32m/Users/danielbrandenburg/Library/Python/2.7/lib/python/site-packages/rootpy-dev-py2.7.egg/rootpy/logger/roothandler.pyc\u001b[0m in \u001b[0;36mpython_logging_error_handler\u001b[0;34m(level, root_says_abort, location, msg)\u001b[0m\n\u001b[1;32m    100\u001b[0m             \u001b[0;31m# Hence the need for dark magic, we re-raise it within a trace.\u001b[0m\u001b[0;34m\u001b[0m\u001b[0;34m\u001b[0m\u001b[0m\n\u001b[1;32m    101\u001b[0m             \u001b[0;32mfrom\u001b[0m \u001b[0;34m.\u001b[0m\u001b[0;34m.\u001b[0m \u001b[0;32mimport\u001b[0m \u001b[0mROOTError\u001b[0m\u001b[0;34m\u001b[0m\u001b[0m\n\u001b[0;32m--> 102\u001b[0;31m             \u001b[0;32mraise\u001b[0m \u001b[0mROOTError\u001b[0m\u001b[0;34m(\u001b[0m\u001b[0mlevel\u001b[0m\u001b[0;34m,\u001b[0m \u001b[0mlocation\u001b[0m\u001b[0;34m,\u001b[0m \u001b[0mmsg\u001b[0m\u001b[0;34m)\u001b[0m\u001b[0;34m\u001b[0m\u001b[0m\n\u001b[0m\u001b[1;32m    103\u001b[0m         \u001b[0;32mexcept\u001b[0m \u001b[0mRuntimeError\u001b[0m\u001b[0;34m:\u001b[0m\u001b[0;34m\u001b[0m\u001b[0m\n\u001b[1;32m    104\u001b[0m             \u001b[0m_\u001b[0m\u001b[0;34m,\u001b[0m \u001b[0mexc\u001b[0m\u001b[0;34m,\u001b[0m \u001b[0mtraceback\u001b[0m \u001b[0;34m=\u001b[0m \u001b[0msys\u001b[0m\u001b[0;34m.\u001b[0m\u001b[0mexc_info\u001b[0m\u001b[0;34m(\u001b[0m\u001b[0;34m)\u001b[0m\u001b[0;34m\u001b[0m\u001b[0m\n",
      "\u001b[0;31mROOTError\u001b[0m: level=3000, loc='TH1D::Divide', msg='Cannot divide histograms with different number of bins'"
     ]
    }
   ],
   "source": [
    "def ratioSpectra( h1, h2 ) :\n",
    "    hh2 = h1.Clone( \"h2a\" )\n",
    "    for ib in range( 1, h1.GetNbinsX() + 1  ) :\n",
    "        hh2\n",
    "\n",
    "h19 = getEvanSpectra( \"19.6\", plc, c, 0, 1 )\n",
    "h15r = getSpectra( plc, c, \"6\" ).Clone( \"ratio19\" )\n",
    "\n",
    "h15r.Divide( h19 )\n",
    "# h15r.Draw()\n",
    "# can"
   ]
  },
  {
   "cell_type": "code",
   "execution_count": null,
   "metadata": {
    "collapsed": true
   },
   "outputs": [],
   "source": []
  }
 ],
 "metadata": {
  "kernelspec": {
   "display_name": "Python 2",
   "language": "python",
   "name": "python2"
  },
  "language_info": {
   "codemirror_mode": {
    "name": "ipython",
    "version": 2
   },
   "file_extension": ".py",
   "mimetype": "text/x-python",
   "name": "python",
   "nbconvert_exporter": "python",
   "pygments_lexer": "ipython2",
   "version": "2.7.9"
  }
 },
 "nbformat": 4,
 "nbformat_minor": 0
}
