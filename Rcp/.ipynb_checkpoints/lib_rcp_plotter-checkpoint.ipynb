{
 "cells": [
  {
   "cell_type": "code",
   "execution_count": null,
   "metadata": {
    "collapsed": true
   },
   "outputs": [],
   "source": [
    "%matplotlib inline\n",
    "import rootpy.ROOT as R\n",
    "R.gROOT.SetBatch(True)\n",
    "import numpy as np\n",
    "from rootpy.io import root_open, DoesNotExist\n",
    "from rootpy.plotting import Canvas, Hist, Legend\n",
    "import rootpy.plotting.root2matplotlib as rplt\n",
    "import matplotlib.pyplot as plt"
   ]
  },
  {
   "cell_type": "code",
   "execution_count": null,
   "metadata": {
    "collapsed": true
   },
   "outputs": [],
   "source": [
    "# 0-5%, 5-10%, 10-20%, 20-30%, 30-40%, 40-60%, 60-80%\n",
    "labels = ( '0-5%', '5-10%', '10-20%', '20-30%', '30-40%', '40-60%', '60-80%', )\n",
    "\n",
    "ncoll = {   '7.7' : (773.78160, 628.57471, 450.06667, 283.09279, 170.62760, 74.26815, 19.19978),\n",
    "            '11.5' : ( 784.45235, 635.10335, 453.30864, 283.86052, 171.77151, 74.74965, 19.08872),\n",
    "            '14.5' : ( 787.9, 639, 455, 284, 171, 75, 18.305 ),\n",
    "            '19.6' : ( 799.84, 642.84, 458.4, 284.54252, 169.88653, 74.01196, 18.91901 ),\n",
    "            '27.0' : ( 841.47851, 693.95012, 496.90694, 311.59162, 187.65520, 81.95383, 19.97044),\n",
    "            '39.0' : ( 852.69718, 687.23303, 491.68086, 305.79089, 182.57132, 78.54930, 19.39689 )}\n",
    "\n",
    "\n",
    "def get_evan_spectra( en, plc, c, cl, ch ) :\n",
    "    ef = root_open( \"/Users/danielbrandenburg/bnl/local/work/rcpMaker/script/evan/spectra_\" + en + \".root\" )\n",
    "    he = ef.Get( plc + \"_\" + c + \"_\" + str(cl) + \"_\" + str(ch) )\n",
    "    return he\n",
    "\n",
    "def to_evan_cen( iCen ) :\n",
    "    if iCen == 6 :\n",
    "        return ( 0, 1 )\n",
    "    if iCen == 0 :\n",
    "        return (8, 8)\n",
    "\n",
    "    \n",
    "\n",
    "\n",
    "def get_evan_rcp( en, plc, c, iCen, iPer, **kwargs ) :\n",
    "    c1, c2 = to_evan_cen( iCen )\n",
    "    p1, p2 = to_evan_cen( iPer )\n",
    "    \n",
    "    hPer = get_evan_spectra( en, plc, c, p1, p2 )\n",
    "    hCen = get_evan_spectra( en, plc, c, c1, c2 )\n",
    "    \n",
    "    hRatio = hCen.Clone( \"even_rcp\" + en + plc )\n",
    "    \n",
    "    hRatio.Divide( hPer )\n",
    "    \n",
    "    nc = ncoll[ en ][ iCen ]\n",
    "    np = ncoll[ en ][ iPer ]\n",
    "    \n",
    "    hRatio.Scale( np / nc )\n",
    "    if 'color' in kwargs :\n",
    "        hRatio.SetMarkerColor( kwargs[ 'color' ] )\n",
    "    return hRatio\n",
    "    \n",
    "    "
   ]
  },
  {
   "cell_type": "code",
   "execution_count": 1,
   "metadata": {
    "collapsed": false
   },
   "outputs": [],
   "source": [
    "def plot_dans_rcp( plc, charge, iCen, iPer, **kwargs  ) :\n",
    "    \n",
    "    \n",
    "    hRcp = data.Get( \"rcp/rcp_\" + plc + \"_\" + charge + \"_\" + str(iCen) + \"_Over_\" + str(iPer) )\n",
    "    hRcp.SetTitle( \"\" )\n",
    "    hRcp.GetYaxis().SetTitle( \"(\" + labels[iCen] + \") / ( \" + labels[iPer] + \" )\" )\n",
    "    hRcp.GetXaxis().SetTitle( \"pT [GeV]\" )\n",
    "    hRcp.SetBinContent( 1, 0 )\n",
    "    hRcp.SetBinContent( 2, 0 )\n",
    "    hRcp.SetBinContent( 3, 0 )\n",
    "    \n",
    "    if 'trunc' in kwargs :\n",
    "        for bin in range( 1, hRcp.GetNbinsX()+1 ) :\n",
    "            if bin >= kwargs[ 'trunc' ] :\n",
    "                hRcp.SetBinContent( bin, 0 )\n",
    "                hRcp.SetBinError( bin, 0 )\n",
    "\n",
    "    if 'trim' in kwargs :\n",
    "        for bin in range( 1, hRcp.GetNbinsX()+1 ) :\n",
    "            if bin <= kwargs[ 'trim' ] :\n",
    "                hRcp.SetBinContent( bin, 0 )\n",
    "                hRcp.SetBinError( bin, 0 )\n",
    "    \n",
    "    hRcp.SetBinContent( 5, 0 )\n",
    "    \n",
    "    draw_opt = \"\"\n",
    "    if 'draw' in kwargs :\n",
    "        draw_opt = kwargs[ 'draw' ]\n",
    "    hRcp.Draw( draw_opt )\n",
    "    if 'color' in kwargs :\n",
    "        hRcp.SetMarkerColor( kwargs[ 'color' ] )\n",
    "    hRcp.GetYaxis().SetRangeUser( 0.1, 13 )\n",
    "    return hRcp\n",
    "    "
   ]
  },
  {
   "cell_type": "code",
   "execution_count": null,
   "metadata": {
    "collapsed": true
   },
   "outputs": [],
   "source": []
  }
 ],
 "metadata": {
  "kernelspec": {
   "display_name": "Python 2",
   "language": "python",
   "name": "python2"
  },
  "language_info": {
   "codemirror_mode": {
    "name": "ipython",
    "version": 2
   },
   "file_extension": ".py",
   "mimetype": "text/x-python",
   "name": "python",
   "nbconvert_exporter": "python",
   "pygments_lexer": "ipython2",
   "version": "2.7.10"
  }
 },
 "nbformat": 4,
 "nbformat_minor": 0
}
