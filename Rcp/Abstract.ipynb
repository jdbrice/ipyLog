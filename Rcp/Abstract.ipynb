{
 "cells": [
  {
   "cell_type": "markdown",
   "metadata": {},
   "source": [
    "We report STAR measurements of the nuclear modification factor R$_{CP}$ for identified $\\pi^{+(-)}$, K$^{+(-)}$, and p ($\\bar{p}$) for Au+Au collisions at $\\sqrt{S_{NN}}$= 14.5 GeV. Multiple PID detectors are simultaneously employed to extract exclusive particle yields out to a pT of 3.5 GeV/c. The R$_{CP}$ of K$^{+(-)}$ and p ($\\bar{p}$) show a transition from suppression at low pT in the $N_{part}$ scaling region to enhancement at high pT in the $N_{coll}$ scaling region. The $\\pi^{+(-)}$ R$_{CP}$ shows suppression at low pT and remains near unity above 2 GeV/c."
   ]
  },
  {
   "cell_type": "code",
   "execution_count": null,
   "metadata": {
    "collapsed": true
   },
   "outputs": [],
   "source": []
  }
 ],
 "metadata": {
  "kernelspec": {
   "display_name": "Python 2",
   "language": "python",
   "name": "python2"
  },
  "language_info": {
   "codemirror_mode": {
    "name": "ipython",
    "version": 2
   },
   "file_extension": ".py",
   "mimetype": "text/x-python",
   "name": "python",
   "nbconvert_exporter": "python",
   "pygments_lexer": "ipython2",
   "version": "2.7.9"
  }
 },
 "nbformat": 4,
 "nbformat_minor": 0
}
