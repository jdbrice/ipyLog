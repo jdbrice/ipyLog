{
 "cells": [
  {
   "cell_type": "markdown",
   "metadata": {},
   "source": [
    "## First draft\n",
    "We report STAR measurements of the nuclear modification factor R$_{CP}$ for identified $\\pi^{+(-)}$, K$^{+(-)}$, and p ($\\bar{p}$) for Au+Au collisions at $\\sqrt{S_{NN}}$= 14.5 GeV. Multiple PID detectors are simultaneously employed to extract exclusive particle yields out to a pT of 3.5 GeV/c. The R$_{CP}$ of K$^{+(-)}$ and p ($\\bar{p}$) show a transition from suppression at low pT in the $N_{part}$ scaling region to enhancement at high pT in the $N_{coll}$ scaling region. The $\\pi^{+(-)}$ R$_{CP}$ shows suppression at low pT and remains near unity above 2 GeV/c."
   ]
  },
  {
   "cell_type": "markdown",
   "metadata": {},
   "source": [
    "## Second draft\n",
    "In 2014, RHIC concluded the first phase of the Beam Energy Scan (BES) program by colliding Au$+$Au at $\\sqrt{S_{NN}}$= 14.5 GeV. In this contribution, we report STAR measurements of the spectra and the nuclear modification factor R$_{CP}$ for identified $\\pi^{+(-)}$, K$^{+(-)}$, and p ($\\bar{p}$) for Au+Au collisions at this center-of-mass energy. Multiple PID detectors are simultaneously employed to extract exclusive particle yields out to a pT of 3.5 GeV/c.  The measurements will be discussed in the context of previously presented BES measurements."
   ]
  },
  {
   "cell_type": "markdown",
   "metadata": {
    "collapsed": true
   },
   "source": [
    "## Third draft\n",
    "In 2010, RHIC began the Beam Energy Scan (BES) program to scan the QCD phase diagram in search of key QGP signatures. In 2010 and 2011 RHIC produced Au$+$Au collisions at $\\sqrt{S_{NN}}$= 7.7, 11.5, 19.6, 27, and 39 GeV. In 2014, RHIC concluded the first phase of the BES program by colliding Au$+$Au at $\\sqrt{S_{NN}}$= 14.5 GeV. In this contribution, we report STAR measurements of the spectra and the nuclear modification factor R$_{CP}$ for identified $\\pi^{+(-)}$, K$^{+(-)}$, and p ($\\bar{p}$) for Au$+$Au collisions at this center-of-mass energy. Multiple PID detectors are simultaneously employed to extract exclusive particle yields out to a pT of 3.5 GeV/c.  The measurements will be discussed in the context of previously presented BES measurements."
   ]
  },
  {
   "cell_type": "markdown",
   "metadata": {},
   "source": [
    "## 4th draft\n",
    "In 2010, RHIC began the Beam Energy Scan (BES) program to scan the QCD phase diagram in search of a conjectured critical point and study some of the QGP signatures as a function of beam energies. In 2010 and 2011 RHIC produced Au$+$Au collisions at $\\sqrt{S_{NN}}$= 7.7, 11.5, 19.6, 27, and 39 GeV. In 2014, RHIC concluded the first phase of the BES program by colliding Au$+$Au at $\\sqrt{S_{NN}}$= 14.5 GeV. In this contribution, we report STAR measurements of the spectra and the nuclear modification factor R$_{CP}$ for identified $\\pi^{+(-)}$, K$^{+(-)}$, and p ($\\bar{p}$) for Au$+$Au collisions at this center-of-mass energy. Data from multiple PID detectors are simultaneously used to extract exclusive particle yields out to a pT of 3.5 GeV/c.  The measurements will be discussed in the context of previously presented BES measurements."
   ]
  },
  {
   "cell_type": "markdown",
   "metadata": {
    "collapsed": true
   },
   "source": [
    "## 5th draft\n",
    "\n",
    "In 2010, RHIC began the Beam Energy Scan (BES) program to scan the QCD phase diagram in search of a conjectured critical point and study some of the QGP signatures as a function of beam energies. In 2010 and 2011 RHIC produced Au$+$Au collisions at $\\sqrt{S_{NN}}$= 7.7, 11.5, 19.6, 27, and 39 GeV. In 2014, RHIC concluded the first phase of the BES program by colliding Au$+$Au at $\\sqrt{S_{NN}}$= 14.5 GeV. \n",
    "\n",
    "When coupled with a strong magnetic field produced in heavy-ion collisions, the chirality imbalance in local domains can lead to the electric charge separation along the magnetic field direction, manifested as chiral magnetic effect (CME). Recently, an analogous effect, the chiral vortical effect(CVE) was also theorized, in which the vorticity of the collision system replaces the magnetic field, and a baryonic charge separation appears instead of the electric charge separation.\n",
    "\n",
    "In this contribution, we report STAR measurements to search for the chiral magnetic effect (CME), the chiral vortical effect (CVE), and measurements of the spectra and the nuclear modification factor R$_{CP}$ for identified $\\pi^{+(-)}$, K$^{+(-)}$, and p ($\\bar{p}$) for Au$+$Au collisions at $\\sqrt{S_{NN}}$= 14.5 GeV. \n",
    "\n",
    "Data from multiple PID detectors are simultaneously used to extract exclusive particle yields out to a pT of 3.5 GeV/c.  The spectra and R$_{CP}$ measurements will be discussed in the context of previously presented BES measurements. Four case studies will be reported to explore possible hierarchy structure in the particle dependent correlations due to CME and CVE : proton-$K^0_s$ (no CME/CVE), proton-$\\pi^{\\pm}$(CME only), proton-$\\Lambda$(CVE only), and proton-proton(both CME and CVE). These measurements present a good test to see if the CME/CVE expectation is supported by the data with a charge separation ordering(p − p $\\gt$ p − $\\Lambda$ $\\gt$p − $\\pi^{\\pm}$$\\gt$p − $K^0_s$ ~0)."
   ]
  },
  {
   "cell_type": "code",
   "execution_count": null,
   "metadata": {
    "collapsed": true
   },
   "outputs": [],
   "source": []
  }
 ],
 "metadata": {
  "kernelspec": {
   "display_name": "Python 2",
   "language": "python",
   "name": "python2"
  },
  "language_info": {
   "codemirror_mode": {
    "name": "ipython",
    "version": 2
   },
   "file_extension": ".py",
   "mimetype": "text/x-python",
   "name": "python",
   "nbconvert_exporter": "python",
   "pygments_lexer": "ipython2",
   "version": "2.7.9"
  }
 },
 "nbformat": 4,
 "nbformat_minor": 0
}
