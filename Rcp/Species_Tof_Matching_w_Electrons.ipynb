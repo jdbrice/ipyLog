{
 "cells": [
  {
   "cell_type": "code",
   "execution_count": 1,
   "metadata": {
    "collapsed": true
   },
   "outputs": [],
   "source": [
    "%matplotlib inline\n",
    "import rootpy.ROOT as R\n",
    "R.gROOT.SetBatch(True)\n",
    "from rootpy.io import root_open, DoesNotExist\n",
    "from rootpy.plotting import Canvas, Hist, Legend\n",
    "import rootpy.plotting.root2matplotlib as rplt\n",
    "import matplotlib.pyplot as plt"
   ]
  },
  {
   "cell_type": "code",
   "execution_count": 229,
   "metadata": {
    "collapsed": false
   },
   "outputs": [
    {
     "name": "stdout",
     "output_type": "stream",
     "text": [
      "0.635869565217\n",
      "1.0\n"
     ]
    }
   ],
   "source": [
    "try :\n",
    "    data.Close()\n",
    "except :\n",
    "    print \"wow\"\n",
    "data = root_open( \"/Users/danielbrandenburg/bnl/local/work/rcpMaker/products/PidHisto_w_elec_eff_K.root\" )\n",
    "\n",
    "ptBin = \"1\"\n",
    "\n",
    "zb = data.tof.Get( \"zb_K_n_0_\" + ptBin )\n",
    "zd = data.dedx.Get( \"zd_K_n_0_\" + ptBin )\n",
    "\n",
    "# Fit range\n",
    "r1 = ( -0.7, 0.2 )\n",
    "r2 = ( -1.2, 0.4 )\n",
    "\n",
    "zbBinI = zb.Integral( zb.GetXaxis().FindBin( r1[0] ), zb.GetXaxis().FindBin( r1[1] ) )\n",
    "zdBinI = zd.Integral( zd.GetXaxis().FindBin( r2[0] ), zd.GetXaxis().FindBin( r2[1] ) )\n",
    "\n",
    "print (zbBinI / zdBinI )\n",
    "\n",
    "zb.Scale( 1.0 / (zbBinI / zdBinI ) )\n",
    "\n",
    "zbBinI = zb.Integral( zb.GetXaxis().FindBin( r1[0] ), zb.GetXaxis().FindBin( r1[1] ) )\n",
    "zdBinI = zd.Integral( zd.GetXaxis().FindBin( r2[0] ), zd.GetXaxis().FindBin( r2[1] ) )\n",
    "\n",
    "print (zbBinI / zdBinI )\n",
    "\n",
    "\n",
    "\n",
    "def fixBinWidth( h ) :\n",
    "    for bin in range( 1, h.GetNbinsX()+1 ) :\n",
    "        bc = h.GetBinContent( bin )\n",
    "        be = h.GetBinError( bin )\n",
    "        bw = h.GetBinWidth( bin )\n",
    "        h.SetBinContent( bin, bc / bw )\n",
    "        h.SetBinError( bin, be / bw )\n",
    "fixBinWidth( zb )\n",
    "fixBinWidth( zd )\n",
    "\n",
    "\n",
    "def setLimits( f, mus, n, sig ) :\n",
    "    f.SetParLimits( 1, mus[0] - n * sig, mus[0] + n * sig )\n",
    "    f.SetParLimits( 4, mus[1] - n * sig, mus[1] + n * sig )\n",
    "    f.SetParLimits( 7, mus[2] - n * sig, mus[2] + n * sig )\n",
    "    \n",
    "    f.SetParLimits( 2, sig * .25, sig * 2 )\n",
    "    f.SetParLimits( 5, sig * .25, sig  )\n",
    "    f.SetParLimits( 8, sig * .25, sig * 2 )\n",
    "\n",
    "    \n",
    "def printPars( f, **kwargs ) :\n",
    "    if 'title' in kwargs :\n",
    "        print kwargs[ 'title' ]\n",
    "    for i in range( 0, f.GetNpar() ) :\n",
    "        print \"p\", i , \"=\", f.GetParameter(i)\n",
    "        \n",
    "def singleGauss( f, fp, x1, x2 ) :\n",
    "    nf = R.TF1( \"nf_\" + str(fp), \"[0] /( [2] * sqrt( 2 * 3.14 ) )* exp( -0.5*((x-[1])^2/(2*[2]^2)))\", x1, x2 )\n",
    "    pars = f.GetParameters()\n",
    "    nf.SetParameters( pars[ fp ], pars[ fp + 1 ], pars[ fp + 2 ] )\n",
    "    nf.SetLineWidth(2)\n",
    "    nf.SetLineColor( R.kBlue )\n",
    "    return nf\n",
    "\n",
    "def fixShapes( f ) :\n",
    "    pars = f.GetParameters()\n",
    "    f.FixParameter( 1, pars[1] )\n",
    "    f.FixParameter( 2, pars[2] )\n",
    "    \n",
    "    f.FixParameter( 4, pars[4] )\n",
    "    f.FixParameter( 5, pars[5] )\n",
    "    \n",
    "    f.FixParameter( 7, pars[7] )\n",
    "    f.FixParameter( 8, pars[8] )\n"
   ]
  },
  {
   "cell_type": "code",
   "execution_count": 233,
   "metadata": {
    "collapsed": false
   },
   "outputs": [],
   "source": [
    "fns = \"[0] /( [2] * sqrt( 2 * 3.14 ) )* exp( -0.5*((x-[1])^2/(2*[2]^2))) + [3] /( [5] * sqrt( 2 * 3.14 ) )* exp( -0.5*((x-[4])^2/(2*[5]^2))) + [6] /( [8] * sqrt( 2 * 3.14 ) )* exp( -0.5*((x-[7])^2/(2*[8]^2)))\"\n",
    "\n",
    "f = R.TF1( \"f\", \"[0] /( [2] * sqrt( 2 * 3.14 ) )* exp( -0.5*((x-[1])^2/(2*[2]^2)))\", -1.5, 1.5 )\n",
    "f.SetLineWidth(2)\n",
    "f.SetLineColor( R.kBlue )\n",
    "\n",
    "\n",
    "f1 = R.TF1( \"f1\", fns, -1.5, 0.3 )\n",
    "f1.SetParameters( 1e3, mu1[0], 0.012, 1e2, mu1[1], 0.012, 1e2, mu1[2], 0.012  )\n",
    "setLimits( f1, mu1, 4, 0.012 )\n",
    "f1.SetLineColor( R.kRed )\n",
    "f1.SetLineWidth( 2 )\n",
    "f1.FixParameter( 5, 0.007 )\n",
    "\n",
    "f2 = R.TF1( \"f2\", fns, -1.5, 0.3 )\n",
    "f2.SetParameters( 1e3, mu2[0], 0.07, 1e2, mu2[1], 0.07, 1e2, mu2[2], 0.07 )\n",
    "setLimits( f2, mu2, 2, 0.07 )\n",
    "f2.SetLineColor( R.kRed )\n",
    "f2.SetLineWidth( 2 )\n",
    "f2.FixParameter( 5, 0.065 )\n"
   ]
  },
  {
   "cell_type": "code",
   "execution_count": 234,
   "metadata": {
    "collapsed": false
   },
   "outputs": [
    {
     "name": "stdout",
     "output_type": "stream",
     "text": [
      "Pt Bin : ( 0.41  ->  0.42  )\n"
     ]
    },
    {
     "data": {
      "image/png": "[encoded data removed]",
      "text/plain": [
       "Canvas('2baf3986aec24e22867dcfa3166eb7cf')"
      ]
     },
     "execution_count": 234,
     "metadata": {},
     "output_type": "execute_result"
    }
   ],
   "source": [
    "can = Canvas( width=1200, height=500 )\n",
    "can.Divide( 2, 1 )\n",
    "can.cd(1)\n",
    "R.gStyle.SetOptStat( 0 )\n",
    "\n",
    "################# Zb fit\n",
    "zb.Fit( f1, \"R\" )\n",
    "zb.Fit( f1, \"R\" )\n",
    "fixShapes( f1 )\n",
    "zb.Fit( f1, \"RL\" )\n",
    "zb.Draw(\"pe\")\n",
    "zb.GetXaxis().SetRangeUser( r1[0], r1[1] )\n",
    "zb.GetYaxis().SetRangeUser( 1e2, 1e6 )\n",
    "R.gPad.SetLogy(1)\n",
    "\n",
    "zbElec = singleGauss( f1, 3, r1[0], r1[1] )\n",
    "zbElec.Draw(\"same\")\n",
    "\n",
    "############### Zd Fit\n",
    "can.cd(2)\n",
    "R.gStyle.SetOptStat( 0 )\n",
    "zd.Fit( f2, \"R\" )\n",
    "zd.Fit( f2, \"R\" )\n",
    "fixShapes( f2 )\n",
    "zd.Fit( f2, \"RL\" )\n",
    "R.gStyle.SetOptStat( 111111 )\n",
    "\n",
    "zd.Draw( \"pe\")\n",
    "f2.SetRange( -100, 100 )\n",
    "f2.Draw(\"same\")\n",
    "zd.GetXaxis().SetRangeUser( r2[0], r2[1] )\n",
    "\n",
    "felec = singleGauss( f2, 3, r2[0], r2[1] )\n",
    "felec.Draw(\"same\")\n",
    "\n",
    "R.gPad.SetLogy(1)\n",
    "print \"Pt Bin : (\", data.nlDedx.GetXaxis().GetBinLowEdge( 2 ), \" -> \", data.nlDedx.GetXaxis().GetBinLowEdge( 2 ) + data.nlDedx.GetXaxis().GetBinWidth( 2 ), \" )\"\n",
    "\n",
    "can"
   ]
  },
  {
   "cell_type": "code",
   "execution_count": 232,
   "metadata": {
    "collapsed": true
   },
   "outputs": [],
   "source": [
    "mu1 = ( -0.51, -0.53, 0.0 )\n",
    "mu2 = ( -0.6, -0.25, 0.1 )"
   ]
  },
  {
   "cell_type": "code",
   "execution_count": 235,
   "metadata": {
    "collapsed": false
   },
   "outputs": [
    {
     "name": "stdout",
     "output_type": "stream",
     "text": [
      "E_Pi = 0.988484947374\n",
      "E_elec = 1.62659786569\n",
      "E_K = 0.900608728105\n",
      "average = 1.17189718039\n",
      "total Eff =  1.0002956038\n"
     ]
    }
   ],
   "source": [
    "def eff( par ) : \n",
    "    return f1.GetParameter( par ) / f2.GetParameter( par )\n",
    "def totalEff() :\n",
    "    n = f1.GetParameter( 0 ) + f1.GetParameter( 3 ) + f1.GetParameter( 6 )\n",
    "    d = f2.GetParameter( 0 ) + f2.GetParameter( 3 ) + f2.GetParameter( 6 )\n",
    "    return n / d\n",
    "\n",
    "\n",
    "print \"E_Pi =\", eff( 0 )\n",
    "print \"E_elec =\", eff(3)\n",
    "print \"E_K =\", eff(6)\n",
    "\n",
    "print \"average =\", ( eff(0) + eff(3) + eff(6) ) / 3.0\n",
    "print \"total Eff = \", totalEff()\n",
    "\n"
   ]
  },
  {
   "cell_type": "code",
   "execution_count": 212,
   "metadata": {
    "collapsed": false
   },
   "outputs": [
    {
     "name": "stdout",
     "output_type": "stream",
     "text": [
      "0.065\n"
     ]
    }
   ],
   "source": [
    "print f2.GetParameter(5)"
   ]
  },
  {
   "cell_type": "code",
   "execution_count": 213,
   "metadata": {
    "collapsed": false
   },
   "outputs": [
    {
     "name": "stdout",
     "output_type": "stream",
     "text": [
      "113.327647518\n",
      "193.755824751\n"
     ]
    }
   ],
   "source": [
    "print f2.GetParameter( 3 )\n",
    "print f2.GetParameter( 6 )"
   ]
  },
  {
   "cell_type": "code",
   "execution_count": 214,
   "metadata": {
    "collapsed": false
   },
   "outputs": [
    {
     "name": "stdout",
     "output_type": "stream",
     "text": [
      "12.9063463224\n",
      "5.38997178727\n"
     ]
    }
   ],
   "source": [
    "def eDisPi( f ) :\n",
    "    ps = f.GetParameters()\n",
    "    return (ps[1] - ps[4]) / ps[2]\n",
    "def eDisK( f ) :\n",
    "    ps = f.GetParameters()\n",
    "    return (ps[7] - ps[4]) / ps[8]\n",
    "print eDisPi( f1 )\n",
    "print eDisK( f2 )"
   ]
  },
  {
   "cell_type": "code",
   "execution_count": null,
   "metadata": {
    "collapsed": true
   },
   "outputs": [],
   "source": []
  },
  {
   "cell_type": "code",
   "execution_count": null,
   "metadata": {
    "collapsed": true
   },
   "outputs": [],
   "source": []
  }
 ],
 "metadata": {
  "kernelspec": {
   "display_name": "Python 2",
   "language": "python",
   "name": "python2"
  },
  "language_info": {
   "codemirror_mode": {
    "name": "ipython",
    "version": 2
   },
   "file_extension": ".py",
   "mimetype": "text/x-python",
   "name": "python",
   "nbconvert_exporter": "python",
   "pygments_lexer": "ipython2",
   "version": "2.7.10"
  }
 },
 "nbformat": 4,
 "nbformat_minor": 0
}
