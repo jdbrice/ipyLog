{
 "cells": [
  {
   "cell_type": "code",
   "execution_count": 1,
   "metadata": {
    "collapsed": true
   },
   "outputs": [],
   "source": [
    "%matplotlib inline\n",
    "import rootpy.ROOT as R\n",
    "R.gROOT.SetBatch(True)\n",
    "import numpy as np\n",
    "from rootpy.io import root_open, DoesNotExist\n",
    "from rootpy.plotting import Canvas, Hist, Legend\n",
    "import rootpy.plotting.root2matplotlib as rplt\n",
    "import matplotlib.pyplot as plt"
   ]
  },
  {
   "cell_type": "code",
   "execution_count": 2,
   "metadata": {
    "collapsed": true
   },
   "outputs": [],
   "source": [
    "f = root_open( \"/Users/danielbrandenburg/bnl/local/work/rcpMaker/products/15/presentation/data.root\" );"
   ]
  },
  {
   "cell_type": "code",
   "execution_count": 3,
   "metadata": {
    "collapsed": false
   },
   "outputs": [],
   "source": [
    "def getEvanSpectra( en, plc, c, cl, ch ) :\n",
    "    ef = root_open( \"/Users/danielbrandenburg/bnl/local/work/rcpMaker/script/evan/spectra_\" + en + \".root\" )\n",
    "    he = ef.Get( plc + \"_\" + c + \"_\" + str(cl) + \"_\" + str(ch) )\n",
    "    return he\n",
    "\n",
    "    \n",
    "def getSpectra( plc, c, cen ) :\n",
    "    hm = f.Get(  \"yield/yield_\" + plc + \"_\" + cen + \"_\" + c + \"_0\" ).Clone( plc+c+cen )\n",
    "    #hm.Scale( 2 / .58 )\n",
    "    return hm"
   ]
  },
  {
   "cell_type": "code",
   "execution_count": 4,
   "metadata": {
    "collapsed": false
   },
   "outputs": [
    {
     "data": {
      "image/png": "[encoded data removed]",
      "text/plain": [
       "Canvas('5994c32d028647f69e821fdd4cf2ad70')"
      ]
     },
     "execution_count": 4,
     "metadata": {},
     "output_type": "execute_result"
    }
   ],
   "source": [
    "can = Canvas( width=900, height=600 )\n",
    "plc = \"Pi\"\n",
    "c = \"p\"\n",
    "\n",
    "h11 = getEvanSpectra( \"11.5\", plc, c, 0, 1 )\n",
    "h19 = getEvanSpectra( \"19.6\", plc, c, 0, 1 )\n",
    "h15 = getSpectra( plc, c, \"0\" )\n",
    "\n",
    "h19.SetLineColor( R.kRed )\n",
    "h19.SetMarkerColor( R.kRed )\n",
    "\n",
    "\n",
    "h19.Draw()\n",
    "h19.GetXaxis().SetRangeUser(0.5, 3)\n",
    "h11.Draw(\"same\")\n",
    "\n",
    "\n",
    "R.gPad.SetLogy(1)\n",
    "can"
   ]
  },
  {
   "cell_type": "code",
   "execution_count": 5,
   "metadata": {
    "collapsed": false
   },
   "outputs": [
    {
     "ename": "DoesNotExist",
     "evalue": "requested path 'yield/yield_Pi_6_p_0' does not exist in /Users/danielbrandenburg/bnl/local/work/rcpMaker/products/15/presentation/data.root",
     "output_type": "error",
     "traceback": [
      "\u001b[0;31m---------------------------------------------------------------------------\u001b[0m",
      "\u001b[0;31mDoesNotExist\u001b[0m                              Traceback (most recent call last)",
      "\u001b[0;32m<ipython-input-5-d04ef9f65e4f>\u001b[0m in \u001b[0;36m<module>\u001b[0;34m()\u001b[0m\n\u001b[1;32m      5\u001b[0m \u001b[0;34m\u001b[0m\u001b[0m\n\u001b[1;32m      6\u001b[0m \u001b[0mh19\u001b[0m \u001b[0;34m=\u001b[0m \u001b[0mgetEvanSpectra\u001b[0m\u001b[0;34m(\u001b[0m \u001b[0;34m\"19.6\"\u001b[0m\u001b[0;34m,\u001b[0m \u001b[0mplc\u001b[0m\u001b[0;34m,\u001b[0m \u001b[0mc\u001b[0m\u001b[0;34m,\u001b[0m \u001b[0;36m0\u001b[0m\u001b[0;34m,\u001b[0m \u001b[0;36m1\u001b[0m \u001b[0;34m)\u001b[0m\u001b[0;34m\u001b[0m\u001b[0m\n\u001b[0;32m----> 7\u001b[0;31m \u001b[0mh15r\u001b[0m \u001b[0;34m=\u001b[0m \u001b[0mgetSpectra\u001b[0m\u001b[0;34m(\u001b[0m \u001b[0mplc\u001b[0m\u001b[0;34m,\u001b[0m \u001b[0mc\u001b[0m\u001b[0;34m,\u001b[0m \u001b[0;34m\"6\"\u001b[0m \u001b[0;34m)\u001b[0m\u001b[0;34m.\u001b[0m\u001b[0mClone\u001b[0m\u001b[0;34m(\u001b[0m \u001b[0;34m\"ratio19\"\u001b[0m \u001b[0;34m)\u001b[0m\u001b[0;34m\u001b[0m\u001b[0m\n\u001b[0m\u001b[1;32m      8\u001b[0m \u001b[0;34m\u001b[0m\u001b[0m\n\u001b[1;32m      9\u001b[0m \u001b[0mh15r\u001b[0m\u001b[0;34m.\u001b[0m\u001b[0mDivide\u001b[0m\u001b[0;34m(\u001b[0m \u001b[0mh19\u001b[0m \u001b[0;34m)\u001b[0m\u001b[0;34m\u001b[0m\u001b[0m\n",
      "\u001b[0;32m<ipython-input-3-98af91e74e7f>\u001b[0m in \u001b[0;36mgetSpectra\u001b[0;34m(plc, c, cen)\u001b[0m\n\u001b[1;32m      6\u001b[0m \u001b[0;34m\u001b[0m\u001b[0m\n\u001b[1;32m      7\u001b[0m \u001b[0;32mdef\u001b[0m \u001b[0mgetSpectra\u001b[0m\u001b[0;34m(\u001b[0m \u001b[0mplc\u001b[0m\u001b[0;34m,\u001b[0m \u001b[0mc\u001b[0m\u001b[0;34m,\u001b[0m \u001b[0mcen\u001b[0m \u001b[0;34m)\u001b[0m \u001b[0;34m:\u001b[0m\u001b[0;34m\u001b[0m\u001b[0m\n\u001b[0;32m----> 8\u001b[0;31m     \u001b[0mhm\u001b[0m \u001b[0;34m=\u001b[0m \u001b[0mf\u001b[0m\u001b[0;34m.\u001b[0m\u001b[0mGet\u001b[0m\u001b[0;34m(\u001b[0m  \u001b[0;34m\"yield/yield_\"\u001b[0m \u001b[0;34m+\u001b[0m \u001b[0mplc\u001b[0m \u001b[0;34m+\u001b[0m \u001b[0;34m\"_\"\u001b[0m \u001b[0;34m+\u001b[0m \u001b[0mcen\u001b[0m \u001b[0;34m+\u001b[0m \u001b[0;34m\"_\"\u001b[0m \u001b[0;34m+\u001b[0m \u001b[0mc\u001b[0m \u001b[0;34m+\u001b[0m \u001b[0;34m\"_0\"\u001b[0m \u001b[0;34m)\u001b[0m\u001b[0;34m.\u001b[0m\u001b[0mClone\u001b[0m\u001b[0;34m(\u001b[0m \u001b[0mplc\u001b[0m\u001b[0;34m+\u001b[0m\u001b[0mc\u001b[0m\u001b[0;34m+\u001b[0m\u001b[0mcen\u001b[0m \u001b[0;34m)\u001b[0m\u001b[0;34m\u001b[0m\u001b[0m\n\u001b[0m\u001b[1;32m      9\u001b[0m     \u001b[0;31m#hm.Scale( 2 / .58 )\u001b[0m\u001b[0;34m\u001b[0m\u001b[0;34m\u001b[0m\u001b[0m\n\u001b[1;32m     10\u001b[0m     \u001b[0;32mreturn\u001b[0m \u001b[0mhm\u001b[0m\u001b[0;34m\u001b[0m\u001b[0m\n",
      "\u001b[0;32m/Users/danielbrandenburg/Library/Python/2.7/lib/python/site-packages/rootpy-dev-py2.7.egg/rootpy/io/file.pyc\u001b[0m in \u001b[0;36mget\u001b[0;34m(self, name, *args, **kwargs)\u001b[0m\n\u001b[1;32m     88\u001b[0m             raise DoesNotExist(\n\u001b[1;32m     89\u001b[0m                 \"requested path '{0}' does not exist in {1}\".format(\n\u001b[0;32m---> 90\u001b[0;31m                     name, self._path))\n\u001b[0m\u001b[1;32m     91\u001b[0m     \u001b[0;32mreturn\u001b[0m \u001b[0mget\u001b[0m\u001b[0;34m\u001b[0m\u001b[0m\n\u001b[1;32m     92\u001b[0m \u001b[0;34m\u001b[0m\u001b[0m\n",
      "\u001b[0;31mDoesNotExist\u001b[0m: requested path 'yield/yield_Pi_6_p_0' does not exist in /Users/danielbrandenburg/bnl/local/work/rcpMaker/products/15/presentation/data.root"
     ]
    }
   ],
   "source": [
    "def ratioSpectra( h1, h2 ) :\n",
    "    hh2 = h1.Clone( \"h2a\" )\n",
    "    for ib in range( 1, h1.GetNbinsX() + 1  ) :\n",
    "        hh2\n",
    "\n",
    "h19 = getEvanSpectra( \"19.6\", plc, c, 0, 1 )\n",
    "\n",
    "# h15r.Draw()\n",
    "# can"
   ]
  },
  {
   "cell_type": "code",
   "execution_count": null,
   "metadata": {
    "collapsed": true
   },
   "outputs": [],
   "source": []
  }
 ],
 "metadata": {
  "kernelspec": {
   "display_name": "Python 2",
   "language": "python",
   "name": "python2"
  },
  "language_info": {
   "codemirror_mode": {
    "name": "ipython",
    "version": 2
   },
   "file_extension": ".py",
   "mimetype": "text/x-python",
   "name": "python",
   "nbconvert_exporter": "python",
   "pygments_lexer": "ipython2",
   "version": "2.7.10"
  }
 },
 "nbformat": 4,
 "nbformat_minor": 0
}
