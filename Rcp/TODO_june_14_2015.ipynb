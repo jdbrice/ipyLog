{
 "cells": [
  {
   "cell_type": "markdown",
   "metadata": {},
   "source": [
    "### TODO June 14, 2015\n",
    "* [o] Email stephen about cuts for systematics\n",
    "* [x] Remake rcpPicoDst\n",
    "    * [x] add StRefMultCorr Bin info ( to be sure that my rmc tool is correct )\n",
    "    * [o] generate QA Plots?\n",
    "    * [x] Include data from VPD and ZDC MB ( help statistics ? )\n",
    "* [o] Recreate PID invariant mass plots (again)\n",
    "    * [o] Ask Kong/internet about rapidity / pseudo rapidity \n",
    "    * [o] might need to restrict eta cut down to ~0.25\n",
    "* [o] Re-run fitter\n",
    "    * [o] See if fixing proton sigma at ~1.4 causes the dip in K minus rcp\n",
    "    * [o] see if the change in rmc (int -> float) helps stats in peripheral bins\n",
    "* [o] Efficiency :\n",
    "    * [o] fix refmult usage in efficiency -> see if it matters ( int -> float )\n",
    "    * [o] rerun embedding efficiency code\n",
    "    * [o] TOF Eff:\n",
    "        * [o] produce species / charge eff ( need to so this in one pass )\n",
    "        * [o] modify the p binning\n",
    "        * [o] run on all ( most ) data\n",
    "* [o] recreate spectra - hope for the best\n",
    "* [o] Comparisons :\n",
    "    * [o] compare corrected spectra with Evan's spectra\n",
    "    * [o] compare R$_CP$\n",
    "    \n"
   ]
  },
  {
   "cell_type": "code",
   "execution_count": null,
   "metadata": {
    "collapsed": true
   },
   "outputs": [],
   "source": []
  }
 ],
 "metadata": {
  "kernelspec": {
   "display_name": "Python 2",
   "language": "python",
   "name": "python2"
  },
  "language_info": {
   "codemirror_mode": {
    "name": "ipython",
    "version": 2
   },
   "file_extension": ".py",
   "mimetype": "text/x-python",
   "name": "python",
   "nbconvert_exporter": "python",
   "pygments_lexer": "ipython2",
   "version": "2.7.9"
  }
 },
 "nbformat": 4,
 "nbformat_minor": 0
}
