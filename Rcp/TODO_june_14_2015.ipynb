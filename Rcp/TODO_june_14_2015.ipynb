{
 "cells": [
  {
   "cell_type": "markdown",
   "metadata": {},
   "source": [
    "### TODO June 14, 2015\n",
    "* [x] Email stephen about cuts for systematics\n",
    "* [x] Remake rcpPicoDst\n",
    "    * [x] add StRefMultCorr Bin info ( to be sure that my rmc tool is correct )\n",
    "    * [x] generate QA Plots?\n",
    "    * [x] Include data from VPD and ZDC MB ( help statistics ? )\n",
    "* [x] Recreate PID invariant mass plots (again)\n",
    "    * [x] Ask Kong/internet about rapidity / pseudo rapidity \n",
    "    * [x] might need to restrict eta cut down to ~0.25\n",
    "* [x] Re-run fitter\n",
    "    * [x] See if fixing proton sigma at ~1.4 causes the dip in K minus rcp\n",
    "    * [x] see if the change in rmc (int -> float) helps stats in peripheral bins\n",
    "* [x] Efficiency :\n",
    "    * [x] fix refmult usage in efficiency -> see if it matters ( int -> float )\n",
    "    * [x] rerun embedding efficiency code\n",
    "    * [x] TOF Eff:\n",
    "        * [x] produce species / charge eff ( need to so this in one pass )\n",
    "        * [x] modify the p binning\n",
    "        * [x] run on all ( most ) data\n",
    "* [x] recreate spectra - hope for the best\n",
    "* [x] Comparisons :\n",
    "    * [x] compare corrected spectra with Evan's spectra\n",
    "    * [x] compare R$_CP$\n",
    "    \n"
   ]
  },
  {
   "cell_type": "markdown",
   "metadata": {
    "collapsed": true
   },
   "source": [
    "##Todo August 10, 2015"
   ]
  },
  {
   "cell_type": "markdown",
   "metadata": {},
   "source": [
    " * [x] Tof Species Efficiency in Fitter\n",
    " * [o] Use - non energy corrected pT in eff / feed down corrections\n",
    " * [o] Feed Down - What is $\\pi^+ \\rightarrow \\pi^+$\n",
    " * [o] Put together presentation for QM \"physics plots\"\n",
    "     * [x] email Usman for sQM talk \n",
    "     * [o] try to get an idea of the \"physics take away\"\n",
    " * [o] Run RcpPicoDst with variation in event cuts so that I have them if I need them ( i will im sure )\n",
    " * [o] Possible investigation of low pT Rcp using TPC only tracks ?\n",
    " * [o] Compare to evan's spectra\n",
    " * [o] Fix fit run-away mu at high pT "
   ]
  },
  {
   "cell_type": "code",
   "execution_count": null,
   "metadata": {
    "collapsed": true
   },
   "outputs": [],
   "source": []
  }
 ],
 "metadata": {
  "kernelspec": {
   "display_name": "Python 2",
   "language": "python",
   "name": "python2"
  },
  "language_info": {
   "codemirror_mode": {
    "name": "ipython",
    "version": 2
   },
   "file_extension": ".py",
   "mimetype": "text/x-python",
   "name": "python",
   "nbconvert_exporter": "python",
   "pygments_lexer": "ipython2",
   "version": "2.7.10"
  }
 },
 "nbformat": 4,
 "nbformat_minor": 0
}
