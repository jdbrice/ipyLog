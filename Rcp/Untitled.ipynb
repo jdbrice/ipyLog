{
 "cells": [
  {
   "cell_type": "code",
   "execution_count": 1,
   "metadata": {
    "collapsed": true
   },
   "outputs": [],
   "source": [
    "%matplotlib inline\n",
    "import rootpy.ROOT as R\n",
    "R.gROOT.SetBatch(True)\n",
    "import numpy as np\n",
    "from rootpy.io import root_open, DoesNotExist\n",
    "from rootpy.plotting import Canvas, Hist, Legend\n",
    "import rootpy.plotting.root2matplotlib as rplt\n",
    "import matplotlib.pyplot as plt"
   ]
  },
  {
   "cell_type": "code",
   "execution_count": 2,
   "metadata": {
    "collapsed": true
   },
   "outputs": [],
   "source": [
    "f = root_open( \"/Users/danielbrandenburg/bnl/local/work/rcpMaker/products/15/all_K_tof_eff.root\" )"
   ]
  },
  {
   "cell_type": "code",
   "execution_count": null,
   "metadata": {
    "collapsed": true
   },
   "outputs": [],
   "source": [
    "def effHisto( df, cen, ch ) :\n",
    "    htof = df.Get( \"pt_tof_\"+cen+\"_\"+ch )\n",
    "    htpc = df.Get( \"pt_\"+cen+\"_\"+ch )\n",
    "    "
   ]
  }
 ],
 "metadata": {
  "kernelspec": {
   "display_name": "Python 2",
   "language": "python",
   "name": "python2"
  },
  "language_info": {
   "codemirror_mode": {
    "name": "ipython",
    "version": 2
   },
   "file_extension": ".py",
   "mimetype": "text/x-python",
   "name": "python",
   "nbconvert_exporter": "python",
   "pygments_lexer": "ipython2",
   "version": "2.7.9"
  }
 },
 "nbformat": 4,
 "nbformat_minor": 0
}
