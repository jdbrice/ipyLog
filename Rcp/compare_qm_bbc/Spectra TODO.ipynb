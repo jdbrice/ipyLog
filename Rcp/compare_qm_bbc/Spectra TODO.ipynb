{
 "cells": [
  {
   "cell_type": "markdown",
   "metadata": {},
   "source": [
    "### Plan for new results\n",
    "1. [o]Finish switch for trackByTrackCorrs - see the effect of this\n",
    "2. [o]try nominal with QM correction parameters\n",
    "3. [o]compare QA / Picos for ALL_MB vs. BBC_MB\n",
    "4. [o]run VPD_MB only pico/QA plots\n",
    "5. [o]Add exporter ro chain\n",
    "6. [o]Add systematics to chain"
   ]
  },
  {
   "cell_type": "code",
   "execution_count": null,
   "metadata": {
    "collapsed": true
   },
   "outputs": [],
   "source": []
  }
 ],
 "metadata": {
  "kernelspec": {
   "display_name": "ROOT Prompt",
   "language": "c++",
   "name": "root"
  },
  "language_info": {
   "codemirror_mode": {
    "name": "ipython",
    "version": 2
   },
   "file_extension": ".py",
   "mimetype": "text/x-python",
   "name": "python",
   "nbconvert_exporter": "python",
   "pygments_lexer": "ipython2",
   "version": "2.7.10"
  }
 },
 "nbformat": 4,
 "nbformat_minor": 0
}
