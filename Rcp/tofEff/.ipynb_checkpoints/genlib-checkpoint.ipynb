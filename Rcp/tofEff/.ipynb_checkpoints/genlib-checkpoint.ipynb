{
 "cells": [
  {
   "cell_type": "code",
   "execution_count": 8,
   "metadata": {
    "collapsed": true
   },
   "outputs": [],
   "source": [
    "import rootpy.ROOT as R\n",
    "R.gROOT.SetBatch(True)\n",
    "from rootpy.io import root_open, DoesNotExist\n",
    "import numpy as np"
   ]
  },
  {
   "cell_type": "code",
   "execution_count": 14,
   "metadata": {
    "collapsed": true
   },
   "outputs": [],
   "source": [
    "\n",
    "class Bischel :\n",
    "    def __init__( self ) :\n",
    "        self.table_path = \"/Users/danielbrandenburg/bnl/local/work/rcpMaker/bin/dedxBichsel.root\"\n",
    "        self.data = root_open( self.table_path, 'r' )\n",
    "        self.h = None\n",
    "\n",
    "    def __del__( self ) :\n",
    "        self.data.close()\n",
    "\n",
    "    def mean( self, plc, p, method = \"mpm\" ) :\n",
    "        if None == self.h :\n",
    "            self.h = self.data.Get( \"mpm\" + plc )\n",
    "        return self.h.GetBinContent( self.h.GetXaxis().FindBin( p ) )\n",
    "        \n",
    "class TofGen :\n",
    "    def mean( self, plc, p ) :\n",
    "        m = self.mass( plc )\n",
    "        return np.sqrt( 1.0 + (m / p)**2 )\n",
    "    \n",
    "    def mass( self, plc ) :\n",
    "        if \"Pi\" == plc :\n",
    "            return 0.1395702\n",
    "        if \"K\" == plc :\n",
    "            return 0.493667\n",
    "        if \"P\" == plc :\n",
    "            return 0.9382721\n",
    "        return -1\n",
    "        \n",
    "        "
   ]
  },
  {
   "cell_type": "code",
   "execution_count": 15,
   "metadata": {
    "collapsed": false
   },
   "outputs": [
    {
     "name": "stdout",
     "output_type": "stream",
     "text": [
      "0.00280428627167\n",
      "1.11521617048\n"
     ]
    }
   ],
   "source": [
    "b = Bischel()\n",
    "print b.mean( \"K\", 1.0 )\n",
    "\n",
    "t = TofGen()\n",
    "print t.mean( \"K\", 1.0 )"
   ]
  },
  {
   "cell_type": "code",
   "execution_count": null,
   "metadata": {
    "collapsed": true
   },
   "outputs": [],
   "source": []
  }
 ],
 "metadata": {
  "kernelspec": {
   "display_name": "Python 2",
   "language": "python",
   "name": "python2"
  },
  "language_info": {
   "codemirror_mode": {
    "name": "ipython",
    "version": 2
   },
   "file_extension": ".py",
   "mimetype": "text/x-python",
   "name": "python",
   "nbconvert_exporter": "python",
   "pygments_lexer": "ipython2",
   "version": "2.7.10"
  }
 },
 "nbformat": 4,
 "nbformat_minor": 0
}
