{
 "cells": [
  {
   "cell_type": "code",
   "execution_count": 1,
   "metadata": {
    "collapsed": true
   },
   "outputs": [],
   "source": [
    "import rootpy.ROOT as R\n",
    "R.gROOT.SetBatch(True)\n",
    "from rootpy.io import root_open, DoesNotExist\n",
    "from rootpy.plotting import Canvas, Hist, Legend"
   ]
  },
  {
   "cell_type": "code",
   "execution_count": 26,
   "metadata": {
    "collapsed": true
   },
   "outputs": [],
   "source": [
    "def ui( h, x1, x2 ) :\n",
    "    bx1 = h.GetXaxis().FindBin( x1 )\n",
    "    bx2 = h.GetXaxis().FindBin( x2 )\n",
    "    print \"# of Bins : \", (bx2 - bx1)\n",
    "    return h.Integral( bx1, bx2 )\n"
   ]
  },
  {
   "cell_type": "code",
   "execution_count": 30,
   "metadata": {
    "collapsed": false
   },
   "outputs": [
    {
     "data": {
      "image/png": "[encoded data removed]",
      "text/plain": [
       "Canvas('e7dea36c99c94e8f936227dfd4af1481')"
      ]
     },
     "execution_count": 30,
     "metadata": {},
     "output_type": "execute_result"
    }
   ],
   "source": [
    "f = root_open( \"/Users/danielbrandenburg/bnl/local/work/rcpMaker/products/PidHisto_w_elec_eff_K.root\" )\n",
    "c = Canvas( )\n",
    "c.SetLogy(1)\n",
    "\n",
    "zb = f.Get( \"tof/zb_K_p_0_1\" )\n",
    "ax = zb.GetXaxis()\n",
    "\n",
    "\n",
    "zb.Draw()\n",
    "c"
   ]
  },
  {
   "cell_type": "code",
   "execution_count": 43,
   "metadata": {
    "collapsed": false
   },
   "outputs": [
    {
     "name": "stdout",
     "output_type": "stream",
     "text": [
      "# of Bins :  133\n",
      "# of Bins :  250\n",
      "# of Bins :  67\n",
      "# of Bins :  180\n",
      "background : 66.0\n",
      " IK = 1526.0\n"
     ]
    }
   ],
   "source": [
    "r1 = ( -0.45, -0.05 )\n",
    "r2 = ( 0.15, 0.9 )\n",
    "rPi = (-1, -0.45)\n",
    "rK = ( -0.05, 0.15 )\n",
    "\n",
    "I1 = ui( zb, r1[0], r1[1] )\n",
    "I2 = ui( zb, r2[0], r2[1] )\n",
    "IK = ui( zb, rK[0], rK[1] )\n",
    "IPi = ui( zb, rPi[0], rPi[1] )\n",
    "\n",
    "print \"background :\", (I1 + I2)\n",
    "print \" IK =\", IK"
   ]
  },
  {
   "cell_type": "code",
   "execution_count": 41,
   "metadata": {
    "collapsed": false
   },
   "outputs": [
    {
     "data": {
      "image/png": "[encoded data removed]",
      "text/plain": [
       "Canvas('e7dea36c99c94e8f936227dfd4af1481')"
      ]
     },
     "execution_count": 41,
     "metadata": {},
     "output_type": "execute_result"
    }
   ],
   "source": [
    "c.SetLogy(0)\n",
    "zb.GetXaxis().SetRangeUser( r1[0], r1[1] )\n",
    "zb.Draw()\n",
    "c"
   ]
  },
  {
   "cell_type": "code",
   "execution_count": 24,
   "metadata": {
    "collapsed": false
   },
   "outputs": [
    {
     "name": "stdout",
     "output_type": "stream",
     "text": [
      "# of Bins :  834\n"
     ]
    },
    {
     "data": {
      "text/plain": [
       "0.0015544679628116899"
      ]
     },
     "execution_count": 24,
     "metadata": {},
     "output_type": "execute_result"
    }
   ],
   "source": [
    "(I1+I2)/ui( zb, -1, 1.5 )"
   ]
  },
  {
   "cell_type": "markdown",
   "metadata": {},
   "source": [
    "$e^{-(dd - dEdx)^2 / ( scale * sigma )^2  }$"
   ]
  },
  {
   "cell_type": "code",
   "execution_count": 44,
   "metadata": {
    "collapsed": true
   },
   "outputs": [],
   "source": [
    "def gy( a, b, c ) :\n",
    "    ff = R.TF1( \"f1\", \"gaus\" )\n",
    "    ff.SetParameters( a, b, c )\n",
    "    return ff.Integral( -10, 10 )\n",
    "    "
   ]
  },
  {
   "cell_type": "code",
   "execution_count": 50,
   "metadata": {
    "collapsed": false
   },
   "outputs": [
    {
     "name": "stdout",
     "output_type": "stream",
     "text": [
      " x^2 = 7.643210935\n",
      "nll = 7.792856643\n",
      "(x^2 - nll) / (nll) = -0.0192029335135\n"
     ]
    }
   ],
   "source": [
    "x2 = gy( 2.52e2, 3.31e-3, 1.21e-2 )\n",
    "nll = gy( 2.41e2, 3.41e-3, 1.29e-2 )\n",
    "\n",
    "print \"x^2 =\", x2\n",
    "print \"nll =\", nll\n",
    "print \"(x^2 - nll) / (nll) =\", (x2 - nll ) / ( nll )"
   ]
  },
  {
   "cell_type": "code",
   "execution_count": 51,
   "metadata": {
    "collapsed": false
   },
   "outputs": [
    {
     "data": {
      "text/plain": [
       "2597.618881000106"
      ]
     },
     "execution_count": 51,
     "metadata": {},
     "output_type": "execute_result"
    }
   ],
   "source": [
    "nll / 3e-3"
   ]
  },
  {
   "cell_type": "code",
   "execution_count": 52,
   "metadata": {
    "collapsed": false
   },
   "outputs": [
    {
     "data": {
      "text/plain": [
       "2547.7369783349486"
      ]
     },
     "execution_count": 52,
     "metadata": {},
     "output_type": "execute_result"
    }
   ],
   "source": [
    "x2/3e-3"
   ]
  },
  {
   "cell_type": "code",
   "execution_count": 53,
   "metadata": {
    "collapsed": true
   },
   "outputs": [],
   "source": [
    "bc = 2.615000e+03"
   ]
  },
  {
   "cell_type": "code",
   "execution_count": 56,
   "metadata": {
    "collapsed": false
   },
   "outputs": [
    {
     "data": {
      "text/plain": [
       "0.02572199681263915"
      ]
     },
     "execution_count": 56,
     "metadata": {},
     "output_type": "execute_result"
    }
   ],
   "source": [
    "(bc - (x2/3e-3)) / bc"
   ]
  },
  {
   "cell_type": "code",
   "execution_count": null,
   "metadata": {
    "collapsed": true
   },
   "outputs": [],
   "source": []
  }
 ],
 "metadata": {
  "kernelspec": {
   "display_name": "Python 2",
   "language": "python",
   "name": "python2"
  },
  "language_info": {
   "codemirror_mode": {
    "name": "ipython",
    "version": 2
   },
   "file_extension": ".py",
   "mimetype": "text/x-python",
   "name": "python",
   "nbconvert_exporter": "python",
   "pygments_lexer": "ipython2",
   "version": "2.7.10"
  }
 },
 "nbformat": 4,
 "nbformat_minor": 0
}
