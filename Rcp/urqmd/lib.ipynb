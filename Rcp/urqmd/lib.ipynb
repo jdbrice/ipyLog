{
 "cells": [
  {
   "cell_type": "code",
   "execution_count": 1,
   "metadata": {
    "collapsed": true
   },
   "outputs": [],
   "source": [
    "%matplotlib inline\n",
    "import rootpy.ROOT as R\n",
    "R.gROOT.SetBatch(True)\n",
    "import numpy as np\n",
    "from rootpy.io import root_open, DoesNotExist\n",
    "from rootpy.plotting import Canvas, Hist, Legend"
   ]
  },
  {
   "cell_type": "code",
   "execution_count": null,
   "metadata": {
    "collapsed": true
   },
   "outputs": [],
   "source": [
    "def labelsForGEANT( hist ) :\n",
    "    x = hist.GetXaxis()\n",
    "    x.SetBinLabel( 1, \"No ID\" )\n",
    "    x.SetBinLabel( 2, \"#gamma\")\n",
    "    x.SetBinLabel( 3, \"e^{+}\" )\n",
    "    x.SetBinLabel( 4, \"e^{-}\" )\n",
    "    x.SetBinLabel( 5, \"#nu\" )\n",
    "    x.SetBinLabel( 6, \"#mu^{+}\" )\n",
    "    x.SetBinLabel( 7, \"#mu^{-}\" )\n",
    "    x.SetBinLabel( 8, \"#pi\" )\n",
    "    x.SetBinLabel( 9, \"#pi^{+}\" )\n",
    "    x.SetBinLabel( 10, \"#pi^{-}\" )\n",
    "    x.SetBinLabel( 11, \"K^{0}_{L}\" )\n",
    "    x.SetBinLabel( 12, \"K^{+}\" )\n",
    "    x.SetBinLabel( 13, \"K^{-}\" )\n",
    "    x.SetBinLabel( 14, \"n\" )\n",
    "    x.SetBinLabel( 15, \"P\" )\n",
    "    x.SetBinLabel( 16, \"#bar{P}\" )\n",
    "    x.SetBinLabel( 17, \"K^{0}_{S}\" )\n",
    "    x.SetBinLabel( 18, \"#eta\" )\n",
    "    x.SetBinLabel( 19, \"#Lambda\" )\n",
    "    x.SetBinLabel( 20, \"#Sigma^{+}\" )\n",
    "    x.SetBinLabel( 21, \"#Sigma^{0}\" )\n",
    "    x.SetBinLabel( 22, \"#Sigma^{-}\" )\n",
    "    x.SetBinLabel( 23, \"#Xi^{0}\" )\n",
    "    x.SetBinLabel( 24, \"#Xi^{-}\" )\n",
    "    x.SetBinLabel( 25, \"#Omega^{-}\" )\n",
    "    x.SetBinLabel( 26, \"#bar{n}\" )\n",
    "    x.SetBinLabel( 27, \"#bar{#Lambda}\" )\n",
    "    x.SetBinLabel( 28, \"#bar{#Sigma^{-}}\" )\n",
    "    x.SetBinLabel( 29, \"#bar{#Sigma^{0}}\" )\n",
    "    x.SetBinLabel( 30, \"#bar{#Sigma^{+}}\" )\n",
    "    x.SetBinLabel( 31, \"#bar{#Xi^{0}}\" )\n",
    "    x.SetBinLabel( 32, \"#bar{#Xi^{+}}\" )\n",
    "    x.SetBinLabel( 33, \"#bar{#Omega^{+}}\" )\n",
    "    "
   ]
  }
 ],
 "metadata": {
  "kernelspec": {
   "display_name": "Python 2",
   "language": "python",
   "name": "python2"
  },
  "language_info": {
   "codemirror_mode": {
    "name": "ipython",
    "version": 2
   },
   "file_extension": ".py",
   "mimetype": "text/x-python",
   "name": "python",
   "nbconvert_exporter": "python",
   "pygments_lexer": "ipython2",
   "version": "2.7.10"
  }
 },
 "nbformat": 4,
 "nbformat_minor": 0
}
