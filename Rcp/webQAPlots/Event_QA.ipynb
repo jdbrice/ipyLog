{
 "cells": [
  {
   "cell_type": "code",
   "execution_count": 1,
   "metadata": {
    "collapsed": false
   },
   "outputs": [],
   "source": [
    "#include \"setColors.C\""
   ]
  },
  {
   "cell_type": "code",
   "execution_count": 2,
   "metadata": {
    "collapsed": true
   },
   "outputs": [],
   "source": [
    "TFile * f = new TFile( \"auau14p5_bbc_mb_qa.root\" );"
   ]
  },
  {
   "cell_type": "code",
   "execution_count": 5,
   "metadata": {
    "collapsed": false
   },
   "outputs": [
    {
     "name": "stdout",
     "output_type": "stream",
     "text": [
      "TFile**\t\tauau14p5_bbc_mb_qa.root\t\r\n",
      " TFile*\t\tauau14p5_bbc_mb_qa.root\t\r\n",
      "  KEY: TH1I\tevent_cuts;1\tEvent Cuts\r\n",
      "  KEY: TH1I\tevent_single_cuts;1\tEvent Single Cuts\r\n",
      "  KEY: TH2I\tbad_run_ids;1\tBad Runs\r\n",
      "  KEY: TH2I\tgood_run_ids;1\tGood Runs\r\n",
      "  KEY: TH1F\tevent_nTrack_refMult;1\tnTrack vs. RefMult\r\n",
      "  KEY: TH1F\tevent_pre_refMult;1\tPre Raw RefMult\r\n",
      "  KEY: TH1F\tevent_refMult;1\tRaw RefMult\r\n",
      "  KEY: TH1F\tevent_corrRefMult;1\tCorr RefMult\r\n",
      "  KEY: TH2F\tevent_corrRefMult_bin9;1\tCorr RefMult vs. bin9\r\n",
      "  KEY: TH2F\tevent_corrRefMult_bin16;1\tCorr RefMult vs. bin16\r\n",
      "  KEY: TH1F\tevent_refMultBins;1\tCorr RefMult Bins\r\n",
      "  KEY: TH1F\tevent_refMultBinsUnweighted;1\tCorr RefMult Bins (Unweighted)\r\n",
      "  KEY: TH1F\tevent_pre_vZ;1\tpre vZ\r\n",
      "  KEY: TH1F\tevent_vZ;1\tvZ\r\n",
      "  KEY: TH2F\tevent_pre_vX_vY;1\tpre vX vY\r\n",
      "  KEY: TH2F\tevent_vX_vY;1\tvX vY\r\n",
      "  KEY: TH1F\tevent_pre_vR;1\t\r\n",
      "  KEY: TH1F\tevent_vR;1\t\r\n",
      "  KEY: TH1F\tevent_pre_nTofMatchA;1\t\r\n",
      "  KEY: TH1F\tevent_nTofMatchA;1\t\r\n",
      "  KEY: TH2F\tevent_pre_nTofMatchA_corrRefMult;1\t\r\n",
      "  KEY: TH2F\tevent_nTofMatchA_corrRefMult;1\t\r\n",
      "  KEY: TH1I\ttrack_cuts;1\tTrack Cuts\r\n",
      "  KEY: TH1I\ttrack_single_cuts;1\tTrack Single Cuts\r\n",
      "  KEY: TH1F\ttrack_pre_nHitsFit;1\t\r\n",
      "  KEY: TH1F\ttrack_nHitsFit;1\t\r\n",
      "  KEY: TH1F\ttrack_pre_flag;1\t\r\n",
      "  KEY: TH1F\ttrack_flag;1\t\r\n",
      "  KEY: TH1F\ttrack_pre_nHitsDedx;1\t\r\n",
      "  KEY: TH1F\ttrack_nHitsDedx;1\t\r\n",
      "  KEY: TH1F\ttrack_pre_nHitsPoss;1\t\r\n",
      "  KEY: TH1F\ttrack_nHitsPoss;1\t\r\n",
      "  KEY: TH1F\ttrack_pre_nHitsFitOverPoss;1\t\r\n",
      "  KEY: TH1F\ttrack_nHitsFitOverPoss;1\t\r\n",
      "  KEY: TH1F\ttrack_pre_ptRatio;1\t\r\n",
      "  KEY: TH1F\ttrack_ptRatio;1\t\r\n",
      "  KEY: TH2F\ttrack_pre_ptRatio2D;1\tGlobal vs. Primary\r\n",
      "  KEY: TH2F\ttrack_ptRatio2D;1\tGlobal vs. Primary\r\n",
      "  KEY: TH1F\ttrack_pre_dca;1\tPre Track Cuts\r\n",
      "  KEY: TH1F\ttrack_dca;1\tPost Track Cuts\r\n",
      "  KEY: TH1F\ttrack_pre_yLocal;1\t\r\n",
      "  KEY: TH1F\ttrack_yLocal;1\t\r\n",
      "  KEY: TH1F\ttrack_pre_zLocal;1\t\r\n",
      "  KEY: TH1F\ttrack_zLocal;1\t\r\n",
      "  KEY: TH1F\ttrack_pre_eta;1\tpre #eta\r\n",
      "  KEY: TH1F\ttrack_eta;1\t#eta\r\n",
      "  KEY: TH1F\ttrack_pre_rapidity;1\tpre rapidity\r\n",
      "  KEY: TH1F\ttrack_rapidity;1\trapidity\r\n",
      "  KEY: TH2F\ttrack_pre_eta_phi;1\tpre #eta\r\n",
      "  KEY: TH2F\ttrack_eta_phi;1\t#eta\r\n",
      "  KEY: TH2F\ttrack_martched_beta_p;1\tbeta for matched tracks\r\n",
      "  KEY: TH2F\ttrack_beta_p;1\tbeta\r\n",
      "  KEY: TH2F\ttrack_pre_beta_p;1\tpre beta\r\n",
      "  KEY: TH2F\ttrack_dEdx_p;1\tdEdx\r\n",
      "  KEY: TH2F\ttrack_pre_dEdx_p;1\tpre dEdx\r\n",
      "  KEY: TH1F\tpt_spectra_0;1\tp_T Spectra\r\n",
      "  KEY: TH1F\tpt_spectra_1;1\tp_T Spectra\r\n",
      "  KEY: TH1F\tpt_spectra_2;1\tp_T Spectra\r\n",
      "  KEY: TH1F\tpt_spectra_3;1\tp_T Spectra\r\n",
      "  KEY: TH1F\tpt_spectra_4;1\tp_T Spectra\r\n",
      "  KEY: TH1F\tpt_spectra_5;1\tp_T Spectra\r\n",
      "  KEY: TH1F\tpt_spectra_6;1\tp_T Spectra\r\n",
      "  KEY: TH1F\tpt_spectra_7;1\tp_T Spectra\r\n",
      "  KEY: TH1F\tpt_spectra_8;1\tp_T Spectra\r\n",
      "  KEY: TH1F\ttrack_vertex_index;1\tTrack Vertex Index\r\n"
     ]
    }
   ],
   "source": [
    "f->ls()"
   ]
  },
  {
   "cell_type": "code",
   "execution_count": 3,
   "metadata": {
    "collapsed": false
   },
   "outputs": [],
   "source": [
    ".cpp -d\n",
    "TH1D * get1D( string n ){\n",
    "    return ((TH1D*)f->Get( n.c_str() ));\n",
    "}"
   ]
  },
  {
   "cell_type": "code",
   "execution_count": 4,
   "metadata": {
    "collapsed": false
   },
   "outputs": [],
   "source": [
    "TH1D * event_cuts = get1D( \"event_cuts\" );\n",
    "TH1D * event_single_cuts = get1D( \"event_single_cuts\" );\n",
    "TH1D * event_corrRefMult = get1D( \"event_corrRefMult\" );"
   ]
  },
  {
   "cell_type": "code",
   "execution_count": 5,
   "metadata": {
    "collapsed": false
   },
   "outputs": [
    {
     "name": "stdout",
     "output_type": "stream",
     "text": [
      "Setting Colors\r\n"
     ]
    }
   ],
   "source": [
    "setColors();\n",
    "TCanvas* c = new TCanvas(\"c1\", \"cc\");"
   ]
  },
  {
   "cell_type": "code",
   "execution_count": 6,
   "metadata": {
    "collapsed": true
   },
   "outputs": [],
   "source": [
    "gStyle->SetOptStat(1110);"
   ]
  },
  {
   "cell_type": "code",
   "execution_count": 22,
   "metadata": {
    "collapsed": false
   },
   "outputs": [
    {
     "name": "stderr",
     "output_type": "stream",
     "text": [
      "Info in <TCanvas::Print>: png file corrected_refMult.png has been created\r\n"
     ]
    },
    {
     "data": {
      "image/png": "[encoded data removed]",
      "text/plain": [
       "<IPython.core.display.Image object>"
      ]
     },
     "metadata": {},
     "output_type": "display_data"
    }
   ],
   "source": [
    "event_corrRefMult->Draw(\"\");\n",
    "event_corrRefMult->SetTitle( \"Corrected RefMult Au+Au #sqrt{ s_{NN} } = 14.5 GeV; corrected refMult; dN/dRM\" );\n",
    "c->SetLogy();\n",
    "c->Draw();\n",
    "c->Print( \"corrected_refMult.png\" )"
   ]
  },
  {
   "cell_type": "code",
   "execution_count": 7,
   "metadata": {
    "collapsed": false
   },
   "outputs": [
    {
     "name": "stderr",
     "output_type": "stream",
     "text": [
      "Info in <TCanvas::Print>: png file single_cuts.png has been created\r\n"
     ]
    },
    {
     "data": {
      "image/png": "[encoded data removed]",
      "text/plain": [
       "<IPython.core.display.Image object>"
      ]
     },
     "metadata": {},
     "output_type": "display_data"
    }
   ],
   "source": [
    "c->Divide( 2, 2 );\n",
    "c->cd(0);\n",
    "event_single_cuts->Draw();\n",
    "gPad->Modified();\n",
    "gPad->Print( \"single_cuts.png\" );\n",
    "\n",
    "c->Draw()"
   ]
  },
  {
   "cell_type": "code",
   "execution_count": null,
   "metadata": {
    "collapsed": true
   },
   "outputs": [],
   "source": []
  }
 ],
 "metadata": {
  "kernelspec": {
   "display_name": "ROOT Prompt",
   "language": "c++",
   "name": "root"
  },
  "language_info": {
   "codemirror_mode": {
    "name": "ipython",
    "version": 2
   },
   "file_extension": ".py",
   "mimetype": "text/x-python",
   "name": "python",
   "nbconvert_exporter": "python",
   "pygments_lexer": "ipython2",
   "version": "2.7.10"
  }
 },
 "nbformat": 4,
 "nbformat_minor": 0
}
