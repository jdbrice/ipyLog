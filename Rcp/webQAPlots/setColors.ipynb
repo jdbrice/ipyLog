{
 "cells": [
  {
   "cell_type": "code",
   "execution_count": 1,
   "metadata": {
    "collapsed": true
   },
   "outputs": [],
   "source": [
    ".cpp -d\n",
    "void setColor(){\n",
    "    const Int_t NRGBs = 5;\n",
    "    const Int_t NCont = 255;\n",
    "\n",
    "    Double_t stops[NRGBs] = { 0.00, 0.34, 0.61, 0.84, 1.00 };\n",
    "    Double_t red[NRGBs]   = { 0.00, 0.00, 0.87, 1.00, 0.51 };\n",
    "    Double_t green[NRGBs] = { 0.00, 0.81, 1.00, 0.20, 0.00 };\n",
    "    Double_t blue[NRGBs]  = { 0.51, 1.00, 0.12, 0.00, 0.00 };\n",
    "    TColor::CreateGradientColorTable(NRGBs, stops, red, green, blue, NCont);\n",
    "    gStyle->SetNumberContours(NCont);\n",
    "}\n"
   ]
  },
  {
   "cell_type": "code",
   "execution_count": null,
   "metadata": {
    "collapsed": true
   },
   "outputs": [],
   "source": []
  }
 ],
 "metadata": {
  "kernelspec": {
   "display_name": "ROOT Prompt",
   "language": "c++",
   "name": "root"
  },
  "language_info": {
   "codemirror_mode": {
    "name": "ipython",
    "version": 2
   },
   "file_extension": ".py",
   "mimetype": "text/x-python",
   "name": "python",
   "nbconvert_exporter": "python",
   "pygments_lexer": "ipython2",
   "version": "2.7.10"
  }
 },
 "nbformat": 4,
 "nbformat_minor": 0
}
