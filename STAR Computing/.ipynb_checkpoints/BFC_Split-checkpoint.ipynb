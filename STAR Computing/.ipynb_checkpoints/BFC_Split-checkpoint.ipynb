{
 "cells": [
  {
   "cell_type": "markdown",
   "metadata": {},
   "source": [
    "## Runs BFC, split events\n",
    "- Runs the Bfc.C on one or more DAQ files, splitting by events and naming outputs accordingly"
   ]
  },
  {
   "cell_type": "code",
   "execution_count": null,
   "metadata": {
    "collapsed": false
   },
   "outputs": [],
   "source": [
    "from subprocess import call\n",
    "from sys import argv\n",
    "import os\n",
    "\n",
    "\n",
    "if len( argv ) < 4 :\n",
    "\texit()\n",
    "\n",
    "print argv[0], argv[1], argv[2], argv[3]\n",
    "\n",
    "chain = argv[1]\n",
    "infile = argv[2]\n",
    "jobIndex = int(argv[3])\n",
    "\n",
    "if len( argv ) >= 5 :\n",
    "\tsplitBy = int(argv[4])\n",
    "else :\n",
    "\tsplitBy = 10\n",
    "\n",
    "print \"splitBy\", splitBy\n",
    "\n",
    "evMin = jobIndex * splitBy\n",
    "evMax = (jobIndex + 1 ) * splitBy - 1\n",
    "\n",
    "outfile = \"out_{a}_{b}\".format( a=evMin, b=evMax )\n",
    "logfile = \"log_{a}_{b}.log\".format( a=evMin, b=evMax )\n",
    "\n",
    "command = \"\\'$STAR/StRoot/macros/bfc.C({a}, {b}, \\\"{chain}\\\", \\\"{inf}\\\", \\\"{outf}\\\")\\'\".format( a=evMin, b=evMax, chain=chain, inf=infile, outf=outfile )\n",
    "os.system( \" root4star -b -q -l \" + command )\n",
    "\n",
    "\n",
    "\n",
    "\n",
    "\n"
   ]
  },
  {
   "cell_type": "code",
   "execution_count": null,
   "metadata": {
    "collapsed": true
   },
   "outputs": [],
   "source": []
  }
 ],
 "metadata": {
  "kernelspec": {
   "display_name": "Python 2",
   "language": "python",
   "name": "python2"
  },
  "language_info": {
   "codemirror_mode": {
    "name": "ipython",
    "version": 2
   },
   "file_extension": ".py",
   "mimetype": "text/x-python",
   "name": "python",
   "nbconvert_exporter": "python",
   "pygments_lexer": "ipython2",
   "version": "2.7.10"
  }
 },
 "nbformat": 4,
 "nbformat_minor": 0
}
