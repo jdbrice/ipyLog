{
 "cells": [
  {
   "cell_type": "code",
   "execution_count": 14,
   "metadata": {
    "collapsed": false
   },
   "outputs": [],
   "source": [
    "%run 'lib.ipynb'"
   ]
  },
  {
   "cell_type": "code",
   "execution_count": 15,
   "metadata": {
    "collapsed": false
   },
   "outputs": [
    {
     "data": {
      "text/plain": [
       "1"
      ]
     },
     "execution_count": 15,
     "metadata": {},
     "output_type": "execute_result"
    }
   ],
   "source": [
    "chain = R.TChain( \"mxq\" )\n",
    "chain.Add( \"mxq_trg.root\" )"
   ]
  },
  {
   "cell_type": "code",
   "execution_count": 11,
   "metadata": {
    "collapsed": false
   },
   "outputs": [],
   "source": [
    "def sigmaPlot( tubeA, **kwargs ):\n",
    "    \n",
    "    pulserChA = pulserCh( tubeA )\n",
    "    \n",
    "    side = \"East\"\n",
    "    if \"side\" in kwargs :\n",
    "        side = kwargs['side']\n",
    "    if \"East\" == side :\n",
    "        sigTubes = sigTubesE\n",
    "    else :\n",
    "        sigTubes = sigTubesW\n",
    "    sigs = []\n",
    "    sigerrs = []\n",
    "    i_bins = []\n",
    "    for tubeB in sigTubes :\n",
    "        \n",
    "        if tubeA == tubeB : continue\n",
    "        \n",
    "        if \"East\" == side:\n",
    "            chain.Draw( diffE( tubeA, tubeB ) + hist( 100, -50, 50, \"h\" ), safeE([tubeA, tubeB]), \"h\" )\n",
    "        else :\n",
    "            chain.Draw( diffW( tubeA, tubeB ) + hist( 100, -50, 50, \"h\" ), safeW([tubeA, tubeB]), \"h\" )\n",
    "                \n",
    "        h = rget(\"h\")\n",
    "        ff = R.TF1( \"fgaus\", \"gaus\", -15, 15 )\n",
    "        h.Fit(ff, \"RQ\")\n",
    "        sigs.append( ff.GetParameter(2) )\n",
    "        sigerrs.append( ff.GetParError(2) )\n",
    "        i_bins.append( tubeB )\n",
    "        if \"all\" in kwargs and kwargs[\"all\"] :\n",
    "            c1.Print( \"tube_corr.pdf\" )\n",
    "    \n",
    "    hSame = Hist( 20, 0, 20 )\n",
    "    hDiff = Hist( 20, 0, 20 )\n",
    "    iBin = 0\n",
    "    for s, e, b in zip( sigs, sigerrs, i_bins ) :\n",
    "#         print pulserChA, \" == \", pulserCh( b ), \" [\", b\n",
    "        if pulserChA == pulserCh( b ) :\n",
    "            hSame.SetBinContent( b+1, s )\n",
    "            hSame.SetBinError( b+1, e )\n",
    "        else :\n",
    "            hDiff.SetBinContent( b+1, s )\n",
    "            hDiff.SetBinError( b+1, e )\n",
    "        \n",
    "    \n",
    "    \n",
    "    hSame.Draw( \"pe\" )\n",
    "    hSame.GetYaxis().SetRangeUser( 0, 22 )\n",
    "    fsame = R.TF1( \"fsame\", \"pol0\" )\n",
    "    fsame.SetLineColor( R.kBlack )\n",
    "    hSame.Fit( fsame )\n",
    "    statBoxLeft()\n",
    "    hSame.SetTitle( side + \" : Tube \" + str(tubeA) + \" - Tube B; Tube B; #sigma(TubeA - TubeB )\" )\n",
    "    hDiff.SetMarkerColor( R.kRed )\n",
    "    hDiff.Draw( \"samespe\" )\n",
    "    hDiff.Fit( \"pol0\" )\n",
    "    c1.Print( \"tube_corr.pdf\" )\n",
    "    \n",
    "    \n",
    "            "
   ]
  },
  {
   "cell_type": "code",
   "execution_count": 24,
   "metadata": {
    "collapsed": false
   },
   "outputs": [],
   "source": [
    "def QTSigmaPlot( qtA, **kwargs ) :\n",
    "\n",
    "    side = \"East\"\n",
    "    if \"side\" in kwargs :\n",
    "        side = kwargs['side']\n",
    "\n",
    "    xmin = -15\n",
    "    xmax = 15\n",
    "    if \"East\" == side :\n",
    "        sigTubes = sigTubesE\n",
    "    else :\n",
    "        sigTubes = sigTubesW\n",
    "        xmin = -40\n",
    "        xmax = 20\n",
    "            \n",
    "    sigSame = []\n",
    "    sigDiff = []\n",
    "    errSame = []\n",
    "    errDiff = []\n",
    "    for tubeA in sigTubes :\n",
    "        pulserChA = pulserCh( tubeA )\n",
    "        if qtA >= 0 and  qtA != pulserChA : continue;\n",
    "        for tubeB in sigTubes :\n",
    "            if tubeA == tubeB or tubeB > tubeA: continue\n",
    "            pulserChB = pulserCh( tubeB )\n",
    "            hname = \"h\" + str( tubeA ) + \"x\" + str(tubeB)\n",
    "            if \"East\" == side:\n",
    "                chain.Draw( diffE( tubeA, tubeB ) + hist( 100, -50, 50, hname ), safeE([tubeA, tubeB]), \"h\" )\n",
    "            else :\n",
    "                chain.Draw( diffW( tubeA, tubeB ) + hist( 100, -50, 50, hname ), safeW([tubeA, tubeB]), \"h\" )\n",
    "            \n",
    "            h = rget( hname )\n",
    "            xmin = h.GetMean() - 15\n",
    "            xmax = h.GetMean() + 15\n",
    "            ff = R.TF1( \"fgaus\", \"gaus\", xmin, xmax )\n",
    "            h.Fit(ff, \"RQ\")\n",
    "            \n",
    "            \n",
    "            if pulserChA == pulserChB :\n",
    "                sigSame.append( ff.GetParameter(2) )\n",
    "                errSame.append( ff.GetParError( 2 ) )\n",
    "                c1.Print( \"qt_corr_\" + side + \"_sames.pdf\" )\n",
    "            else :\n",
    "                c1.Print( \"qt_corr_\" + side + \"_diffs.pdf\" )\n",
    "                sigDiff.append( ff.GetParameter(2) )\n",
    "                errDiff.append( ff.GetParError( 2 ) )\n",
    "\n",
    "    hSame = Hist( 140, 0, 140 )\n",
    "    hDiff = Hist( 140, 0, 140 )\n",
    "    fillHist( hSame, sigSame, errSame )\n",
    "    fillHist( hDiff, sigDiff, errDiff, len(sigSame) + 15 )\n",
    "    \n",
    "    print \"<Same> = \", avg( sigSame )\n",
    "    print \"<Diff> = \", avg( sigDiff )\n",
    "    \n",
    "    fsame = R.TF1( \"fsame\", \"pol0\" )\n",
    "    fsame.SetLineColor( R.kBlack )\n",
    "    fsame.SetLineWidth(3)\n",
    "    fsame.SetRange( 1, len(sigSame) )\n",
    "    if qtA >= 0 :\n",
    "        hSame.SetTitle( \"QT \" + str(qtA) +\"; ; #sigma( tubeA - tubeB )\" )\n",
    "    else:\n",
    "        hSame.SetTitle( \"Same QT card (Black), Diff QT card (Red)\" )\n",
    "    hSame.Draw(\"pe\")\n",
    "    hSame.Fit( fsame, \"R\" )\n",
    "    statBoxLeft()\n",
    "    \n",
    "    hSame.GetYaxis().SetRangeUser( 0, 35 )\n",
    "    hDiff.Draw(\"samespe\")\n",
    "    hDiff.SetMarkerColor(R.kRed)\n",
    "    \n",
    "    fdiff = R.TF1( \"fdiff\", \"pol0\" )\n",
    "    fdiff.SetLineColor( R.kRed )\n",
    "    fdiff.SetLineWidth(3)\n",
    "    fdiff.SetRange( len(sigSame)+15, 80 )\n",
    "    hDiff.Fit(fdiff, \"R\" )\n",
    "    \n",
    "    c1.Print( \"qt_corr_\" + side + \".pdf\" )\n",
    "    "
   ]
  },
  {
   "cell_type": "code",
   "execution_count": 13,
   "metadata": {
    "collapsed": false
   },
   "outputs": [],
   "source": [
    "c1.Print( \"tube_corr.pdf[\" )\n",
    "for tubeA in sigTubesE :\n",
    "    sigmaPlot( tubeA, all=True )\n",
    "c1.Print( \"tube_corr.pdf]\" )"
   ]
  },
  {
   "cell_type": "code",
   "execution_count": 119,
   "metadata": {
    "collapsed": false
   },
   "outputs": [],
   "source": [
    "c1.Print( \"qt_corr_East.pdf[\" )\n",
    "for qtA in [ 0, 4, 8, 12 ] :\n",
    "    QTSigmaPlot( qtA )\n",
    "c1.Print( \"qt_corr_East.pdf]\" )"
   ]
  },
  {
   "cell_type": "code",
   "execution_count": 136,
   "metadata": {
    "collapsed": false
   },
   "outputs": [],
   "source": [
    "c1.Print( \"qt_corr_West.pdf[\" )\n",
    "c1.Print( \"qt_corr_diffs.pdf[\" )\n",
    "for qtA in [ 0, 4, 8, 12 ] :\n",
    "    QTSigmaPlot( qtA, side=\"West\" )\n",
    "c1.Print( \"qt_corr_diffs.pdf]\" )\n",
    "c1.Print( \"qt_corr_West.pdf]\" )"
   ]
  },
  {
   "cell_type": "code",
   "execution_count": 25,
   "metadata": {
    "collapsed": false
   },
   "outputs": [
    {
     "name": "stdout",
     "output_type": "stream",
     "text": [
      "<Same> =  13.1141834667\n",
      "<Diff> =  17.4432697903\n"
     ]
    }
   ],
   "source": [
    "c1.Print( \"qt_corr_West.pdf[\" )\n",
    "c1.Print( \"qt_corr_West_diffs.pdf[\" )\n",
    "c1.Print( \"qt_corr_West_sames.pdf[\" )\n",
    "with root_open( 'data_east.root', 'recreate' ) as f:\n",
    "    QTSigmaPlot( -1, side=\"West\" )\n",
    "    f.Write()\n",
    "c1.Print( \"qt_corr_West_sames.pdf]\" )\n",
    "c1.Print( \"qt_corr_West_diffs.pdf]\" )\n",
    "c1.Print( \"qt_corr_West.pdf]\" )"
   ]
  },
  {
   "cell_type": "code",
   "execution_count": 26,
   "metadata": {
    "collapsed": false
   },
   "outputs": [
    {
     "name": "stdout",
     "output_type": "stream",
     "text": [
      "<Same> =  13.3509611723\n",
      "<Diff> =  19.7082097912\n"
     ]
    }
   ],
   "source": [
    "c1.Print( \"qt_corr_East.pdf[\" )\n",
    "c1.Print( \"qt_corr_East_diffs.pdf[\" )\n",
    "c1.Print( \"qt_corr_East_sames.pdf[\" )\n",
    "with root_open( 'data_east.root', 'recreate' ) as f:\n",
    "    QTSigmaPlot( -1, side=\"East\" )\n",
    "    f.Write()\n",
    "c1.Print( \"qt_corr_East_sames.pdf]\" )\n",
    "c1.Print( \"qt_corr_East_diffs.pdf]\" )\n",
    "c1.Print( \"qt_corr_East.pdf]\" )"
   ]
  },
  {
   "cell_type": "code",
   "execution_count": 170,
   "metadata": {
    "collapsed": false
   },
   "outputs": [],
   "source": []
  },
  {
   "cell_type": "code",
   "execution_count": null,
   "metadata": {
    "collapsed": true
   },
   "outputs": [],
   "source": []
  }
 ],
 "metadata": {
  "kernelspec": {
   "display_name": "Python 2",
   "language": "python",
   "name": "python2"
  },
  "language_info": {
   "codemirror_mode": {
    "name": "ipython",
    "version": 2
   },
   "file_extension": ".py",
   "mimetype": "text/x-python",
   "name": "python",
   "nbconvert_exporter": "python",
   "pygments_lexer": "ipython2",
   "version": "2.7.11"
  }
 },
 "nbformat": 4,
 "nbformat_minor": 0
}
