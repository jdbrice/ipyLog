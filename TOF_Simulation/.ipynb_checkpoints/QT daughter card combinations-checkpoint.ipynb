{
 "cells": [
  {
   "cell_type": "code",
   "execution_count": 1,
   "metadata": {
    "collapsed": false
   },
   "outputs": [
    {
     "name": "stderr",
     "output_type": "stream",
     "text": [
      "/opt/local/Library/Frameworks/Python.framework/Versions/2.7/lib/python2.7/site-packages/IPython/kernel/__init__.py:13: ShimWarning: The `IPython.kernel` package has been deprecated. You should import from ipykernel or jupyter_client instead.\n",
      "  \"You should import from ipykernel or jupyter_client instead.\", ShimWarning)\n"
     ]
    }
   ],
   "source": [
    "%run '../rootlib.ipynb'"
   ]
  },
  {
   "cell_type": "code",
   "execution_count": 123,
   "metadata": {
    "collapsed": true
   },
   "outputs": [],
   "source": [
    "df = root_open( 'bbq_qa.root' )"
   ]
  },
  {
   "cell_type": "code",
   "execution_count": 72,
   "metadata": {
    "collapsed": true
   },
   "outputs": [],
   "source": [
    "c1 = Canvas( width = 1000, height = 600 )"
   ]
  },
  {
   "cell_type": "code",
   "execution_count": 108,
   "metadata": {
    "collapsed": true
   },
   "outputs": [],
   "source": [
    "def name( a ) :\n",
    "    if 0 == a : return \"A\"\n",
    "    if 4 == a : return \"B\"\n",
    "    if 8 == a : return \"C\"\n",
    "    if 12 == a : return \"D\""
   ]
  },
  {
   "cell_type": "code",
   "execution_count": 133,
   "metadata": {
    "collapsed": false
   },
   "outputs": [],
   "source": [
    "def compare( a, b ) :\n",
    "    nom = df.Get( \"deltaVz_Nominal_\" + str(a) + \"_\" + str(b) )\n",
    "    noi = df.Get( \"deltaVz_woNoise_\" + str(a) + \"_\" + str(b) )\n",
    "    \n",
    "    nom.SetTitle( \"QT West \" + name(a) + \" vs East \" + name( b ) + \"; L0 vZ - TPC vz;\" )\n",
    "    \n",
    "    R.gStyle.SetOptFit(111)\n",
    "    R.gStyle.SetOptStat(11)\n",
    "    \n",
    "    ff1 = R.TF1( \"fgaus\", \"gaus\" )\n",
    "    ff1.SetLineColor( R.kBlue )\n",
    "    ff1.SetLineWidth( 3 )\n",
    "    nom.GetXaxis().SetRangeUser( -25, 25 )\n",
    "    R.gStyle.SetFuncColor(R.kBlue)\n",
    "    nom.Draw()\n",
    "    nom.Fit( ff1 )\n",
    "    nom.SetLineColor( R.kBlue )\n",
    "    nom.SetMarkerColor( R.kBlue )\n",
    "    stats = R.gPad.GetPrimitive(\"stats\")\n",
    "    stats.SetX1NDC(0.2)\n",
    "    stats.SetX2NDC(0.4)\n",
    "    \n",
    "    ff2 = R.TF1( \"f2gaus\", \"gaus\" )\n",
    "    ff2.SetLineColor( R.kRed )\n",
    "    ff2.SetLineWidth( 3 )\n",
    "    noi.Draw(\"sames\")\n",
    "    noi.SetLineColor( R.kRed )\n",
    "    noi.SetMarkerColor( R.kRed )\n",
    "    noi.Fit( ff2 )\n",
    "\n",
    "    leg = R.TLegend( 0.2, 0.4, 0.3, 0.6 )\n",
    "    leg.AddEntry( nom, \"Normal\", \"lpe\" )\n",
    "    leg.AddEntry( noi, \"wo/Noise\", \"lpe\" )\n",
    "    leg.Draw(\"same\")\n",
    "    \n",
    "    return c1"
   ]
  },
  {
   "cell_type": "code",
   "execution_count": 139,
   "metadata": {
    "collapsed": true
   },
   "outputs": [],
   "source": [
    "def compareEast( a, b ) :\n",
    "    nom = df.Get( \"deltaVz_Nominal_\" + str(a) + \"_\" + str(b) )\n",
    "    noi = df.Get( \"deltaVz_East_woNoise_\" + str(a) + \"_\" + str(b) )\n",
    "    \n",
    "    nom.SetTitle( \"QT West \" + name(a) + \" vs East - Noise \" + name( b ) + \"; L0 vZ - TPC vz;\" )\n",
    "    \n",
    "    R.gStyle.SetOptFit(111)\n",
    "    R.gStyle.SetOptStat(11)\n",
    "    \n",
    "    ff1 = R.TF1( \"fgaus\", \"gaus\" )\n",
    "    ff1.SetLineColor( R.kBlue )\n",
    "    ff1.SetLineWidth( 3 )\n",
    "    nom.GetXaxis().SetRangeUser( -25, 25 )\n",
    "    R.gStyle.SetFuncColor(R.kBlue)\n",
    "    nom.Draw()\n",
    "    nom.Fit( ff1 )\n",
    "    nom.SetLineColor( R.kBlue )\n",
    "    nom.SetMarkerColor( R.kBlue )\n",
    "    stats = R.gPad.GetPrimitive(\"stats\")\n",
    "    stats.SetX1NDC(0.2)\n",
    "    stats.SetX2NDC(0.4)\n",
    "    \n",
    "    ff2 = R.TF1( \"f2gaus\", \"gaus\" )\n",
    "    ff2.SetLineColor( R.kRed )\n",
    "    ff2.SetLineWidth( 3 )\n",
    "    noi.Draw(\"sames\")\n",
    "    noi.SetLineColor( R.kRed )\n",
    "    noi.SetMarkerColor( R.kRed )\n",
    "    noi.Fit( ff2 )\n",
    "    leg = R.TLegend( 0.15, 0.4, 0.3, 0.6 )\n",
    "    leg.AddEntry( nom, \"Normal\", \"lpe\" )\n",
    "    leg.AddEntry( noi, \"East wo/Noise\", \"lpe\" )\n",
    "    leg.Draw(\"same\")\n",
    "    return c1"
   ]
  },
  {
   "cell_type": "code",
   "execution_count": 140,
   "metadata": {
    "collapsed": true
   },
   "outputs": [],
   "source": [
    "def compareWest( a, b ) :\n",
    "    nom = df.Get( \"deltaVz_Nominal_\" + str(a) + \"_\" + str(b) )\n",
    "    noi = df.Get( \"deltaVz_West_woNoise_\" + str(a) + \"_\" + str(b) )\n",
    "    \n",
    "    nom.SetTitle( \"QT West-Noise \" + name(a) + \" vs East \" + name( b ) + \"; L0 vZ - TPC vz;\" )\n",
    "    \n",
    "    R.gStyle.SetOptFit(111)\n",
    "    R.gStyle.SetOptStat(11)\n",
    "    \n",
    "    ff1 = R.TF1( \"fgaus\", \"gaus\" )\n",
    "    ff1.SetLineColor( R.kBlue )\n",
    "    ff1.SetLineWidth( 3 )\n",
    "    nom.GetXaxis().SetRangeUser( -25, 25 )\n",
    "    R.gStyle.SetFuncColor(R.kBlue)\n",
    "    nom.Draw()\n",
    "    nom.Fit( ff1 )\n",
    "    nom.SetLineColor( R.kBlue )\n",
    "    nom.SetMarkerColor( R.kBlue )\n",
    "    stats = R.gPad.GetPrimitive(\"stats\")\n",
    "    stats.SetX1NDC(0.2)\n",
    "    stats.SetX2NDC(0.4)\n",
    "    \n",
    "    ff2 = R.TF1( \"f2gaus\", \"gaus\" )\n",
    "    ff2.SetLineColor( R.kRed )\n",
    "    ff2.SetLineWidth( 3 )\n",
    "    noi.Draw(\"sames\")\n",
    "    noi.SetLineColor( R.kRed )\n",
    "    noi.SetMarkerColor( R.kRed )\n",
    "    noi.Fit( ff2 )\n",
    "    leg = R.TLegend( 0.15, 0.4, 0.3, 0.6 )\n",
    "    leg.AddEntry( nom, \"Normal\", \"lpe\" )\n",
    "    leg.AddEntry( noi, \"West wo/Noise\", \"lpe\" )\n",
    "    leg.Draw(\"same\")\n",
    "    return c1"
   ]
  },
  {
   "cell_type": "code",
   "execution_count": 136,
   "metadata": {
    "collapsed": true
   },
   "outputs": [],
   "source": [
    "c1 = Canvas( width = 1000, height = 800 )\n",
    "c1.Print( \"bbq_qa.pdf[\" )\n",
    "pulsers = [0, 4, 8, 12]\n",
    "pad = 0\n",
    "for a in pulsers :\n",
    "    for b in pulsers :\n",
    "        compare( a, b )\n",
    "        c1.Print( \"bbq_qa.pdf\" )\n",
    "        \n",
    "c1.Print( \"bbq_qa.pdf]\" )"
   ]
  },
  {
   "cell_type": "code",
   "execution_count": 141,
   "metadata": {
    "collapsed": true
   },
   "outputs": [],
   "source": [
    "c1 = Canvas( width = 1000, height = 800 )\n",
    "c1.Print( \"bbq_east_qa.pdf[\" )\n",
    "pulsers = [0, 4, 8, 12]\n",
    "pad = 0\n",
    "for a in pulsers :\n",
    "    for b in pulsers :\n",
    "        compareEast( a, b )\n",
    "        c1.Print( \"bbq_east_qa.pdf\" )\n",
    "        \n",
    "c1.Print( \"bbq_east_qa.pdf]\" )"
   ]
  },
  {
   "cell_type": "code",
   "execution_count": 142,
   "metadata": {
    "collapsed": true
   },
   "outputs": [],
   "source": [
    "c1 = Canvas( width = 1000, height = 800 )\n",
    "c1.Print( \"bbq_west_qa.pdf[\" )\n",
    "pulsers = [0, 4, 8, 12]\n",
    "pad = 0\n",
    "for a in pulsers :\n",
    "    for b in pulsers :\n",
    "        compareWest( a, b )\n",
    "        c1.Print( \"bbq_west_qa.pdf\" )\n",
    "        \n",
    "c1.Print( \"bbq_west_qa.pdf]\" )"
   ]
  },
  {
   "cell_type": "code",
   "execution_count": 59,
   "metadata": {
    "collapsed": false
   },
   "outputs": [
    {
     "data": {
      "text/plain": [
       "False"
      ]
     },
     "execution_count": 59,
     "metadata": {},
     "output_type": "execute_result"
    }
   ],
   "source": [
    "df.Close()"
   ]
  },
  {
   "cell_type": "code",
   "execution_count": null,
   "metadata": {
    "collapsed": true
   },
   "outputs": [],
   "source": []
  }
 ],
 "metadata": {
  "kernelspec": {
   "display_name": "Python 2",
   "language": "python",
   "name": "python2"
  },
  "language_info": {
   "codemirror_mode": {
    "name": "ipython",
    "version": 2
   },
   "file_extension": ".py",
   "mimetype": "text/x-python",
   "name": "python",
   "nbconvert_exporter": "python",
   "pygments_lexer": "ipython2",
   "version": "2.7.11"
  }
 },
 "nbformat": 4,
 "nbformat_minor": 0
}
