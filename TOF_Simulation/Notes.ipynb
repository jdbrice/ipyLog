{
 "cells": [
  {
   "cell_type": "markdown",
   "metadata": {},
   "source": [
    "## TOF Simulation Notes\n",
    "\n",
    "email from yuri:\n",
    "starver .DEV2  \n",
    "~/work/dev/StRoot/  \n",
    "StBTofCalibMaker  StBTofHitMaker  StBTofMatchMaker  StBTofPool  StBTofSimMaker StBTofUtil  \n",
    "/afs/rhic.bnl.gov/star/users/fisyak/work -> /star/subsys/tpc/fisyak/  \n",
    "/afs/rhic.bnl.gov/star/packages/.DEV2/StRoot/StDetectorDbMaker $ dir | grep -i tof   \n",
    "\n",
    "\n",
    ".dev Nightly tests  \n",
    "/star/rcf/test/dev/daq_sl302.ittf/Mon/year_2014/production_15GeV_2014/\n",
    "\n",
    "\n",
    ".DEV2 Nightlies   \n",
    "~/work/Nightlies/Sti/year_2014/RC.AuAu15\n",
    "\n",
    "\n"
   ]
  },
  {
   "cell_type": "code",
   "execution_count": 1,
   "metadata": {
    "collapsed": false
   },
   "outputs": [
    {
     "name": "stderr",
     "output_type": "stream",
     "text": [
      "/opt/local/Library/Frameworks/Python.framework/Versions/2.7/lib/python2.7/site-packages/IPython/kernel/__init__.py:13: ShimWarning: The `IPython.kernel` package has been deprecated. You should import from ipykernel or jupyter_client instead.\n",
      "  \"You should import from ipykernel or jupyter_client instead.\", ShimWarning)\n"
     ]
    }
   ],
   "source": [
    "%matplotlib inline\n",
    "import rootpy.ROOT as R\n",
    "R.gROOT.SetBatch(True)\n",
    "from rootpy.io import root_open, DoesNotExist\n",
    "from rootpy.plotting import Canvas, Hist, Legend\n",
    "import rootpy.plotting.root2matplotlib as rplt\n",
    "import matplotlib.pyplot as plt"
   ]
  },
  {
   "cell_type": "code",
   "execution_count": null,
   "metadata": {
    "collapsed": true
   },
   "outputs": [],
   "source": []
  }
 ],
 "metadata": {
  "kernelspec": {
   "display_name": "Python 2",
   "language": "python",
   "name": "python2"
  },
  "language_info": {
   "codemirror_mode": {
    "name": "ipython",
    "version": 2
   },
   "file_extension": ".py",
   "mimetype": "text/x-python",
   "name": "python",
   "nbconvert_exporter": "python",
   "pygments_lexer": "ipython2",
   "version": "2.7.11"
  }
 },
 "nbformat": 4,
 "nbformat_minor": 0
}
