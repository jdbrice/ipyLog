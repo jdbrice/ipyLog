{
 "cells": [
  {
   "cell_type": "code",
   "execution_count": 1,
   "metadata": {
    "collapsed": false
   },
   "outputs": [
    {
     "name": "stderr",
     "output_type": "stream",
     "text": [
      "/opt/local/Library/Frameworks/Python.framework/Versions/2.7/lib/python2.7/site-packages/IPython/kernel/__init__.py:13: ShimWarning: The `IPython.kernel` package has been deprecated. You should import from ipykernel or jupyter_client instead.\n",
      "  \"You should import from ipykernel or jupyter_client instead.\", ShimWarning)\n"
     ]
    }
   ],
   "source": [
    "%run 'lib.ipynb'"
   ]
  },
  {
   "cell_type": "code",
   "execution_count": 2,
   "metadata": {
    "collapsed": false
   },
   "outputs": [
    {
     "data": {
      "text/plain": [
       "1"
      ]
     },
     "execution_count": 2,
     "metadata": {},
     "output_type": "execute_result"
    }
   ],
   "source": [
    "chain = R.TChain( \"bbq\" )\n",
    "chain.Add( \"bbq_mtd.root\" )"
   ]
  },
  {
   "cell_type": "code",
   "execution_count": 53,
   "metadata": {
    "collapsed": false
   },
   "outputs": [],
   "source": [
    "vtx=\"fabs( vertexZ ) < 0.5\"\n",
    "bins = \"( 50, 650, 850, 50, 650, 850 )\"\n",
    "c1 = Canvas( width=1000, height=1000 )\n",
    "R.gStyle.SetOptStat( 11 )\n",
    "\n",
    "def safeAdc( a, b, side ) :\n",
    "    return \"adc\" + side + \"[\" + str(a) + \"] > 10 && adc\" + side + \"[\" + str(b) + \"] > 10 &&\"\n",
    "\n",
    "def corrQT8( side, qt ) :\n",
    "    rname = \"Qt8_corr_\" + side + \"_\" + str(qt) +\".pdf\"\n",
    "    c1.Print( rname + \"[\" )\n",
    "    a = \"tdc\" + side + \"[\" + str(qt+1) + \"]\"\n",
    "    b = \"tdc\" + side + \"[\" + str(qt+2) + \"]\"\n",
    "    c = \"tdc\" + side + \"[\" + str(qt+3) + \"]\"\n",
    "#     safeAdc = \"adc\" + side + \"[\" + str(qt+1) + \"] > 10 && adc\" + side + \"[\" + str(qt+2) + \"] > 10 && adc\" + side + \"[\" + str(qt+3) + \"] > 10 && \"\n",
    "    \n",
    "    name = \"a_vs_b\"\n",
    "    chain.Draw( a + \":\" + b + \">>\" + name + bins, safeAdc( qt+1, qt+2, side ) + a + \" > 300 && \" + b + \" > 300 && \" + vtx, \"col\" )\n",
    "    rget( name ).SetTitle( side + \" QT8 #\" + str(qt) )\n",
    "    c1.Print( rname )\n",
    "    name = \"a_vs_c\"\n",
    "    chain.Draw( a + \":\" + c + \">>\" + name + bins, safeAdc( qt+1, qt+3, side ) + a + \" > 300 && \" + c + \" > 300 && \" + vtx, \"col\" )\n",
    "    rget( name ).SetTitle( side + \" QT8 #\" + str(qt) )\n",
    "    c1.Print( rname )\n",
    "    name = \"b_vs_c\"\n",
    "    chain.Draw( b + \":\" + c + \">>\" + name + bins, safeAdc( qt+2, qt+3, side ) + b + \" > 300 && \" + c + \" > 300 && \" + vtx, \"col\" )\n",
    "    rget( name ).SetTitle( side + \" QT8 #\" + str(qt) )\n",
    "    c1.Print( rname )\n",
    "    c1.Print( rname + \"]\" )\n",
    "    \n",
    "    \n",
    "    "
   ]
  },
  {
   "cell_type": "code",
   "execution_count": 54,
   "metadata": {
    "collapsed": false
   },
   "outputs": [],
   "source": [
    "for side in [ \"East\", \"West\" ] :\n",
    "    for qt in [ 0, 4, 8, 12 ] :\n",
    "        corrQT8( side, qt )"
   ]
  },
  {
   "cell_type": "code",
   "execution_count": null,
   "metadata": {
    "collapsed": true
   },
   "outputs": [],
   "source": []
  }
 ],
 "metadata": {
  "kernelspec": {
   "display_name": "Python 2",
   "language": "python",
   "name": "python2"
  },
  "language_info": {
   "codemirror_mode": {
    "name": "ipython",
    "version": 2
   },
   "file_extension": ".py",
   "mimetype": "text/x-python",
   "name": "python",
   "nbconvert_exporter": "python",
   "pygments_lexer": "ipython2",
   "version": "2.7.11"
  }
 },
 "nbformat": 4,
 "nbformat_minor": 0
}
