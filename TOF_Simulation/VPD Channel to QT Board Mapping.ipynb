{
 "cells": [
  {
   "cell_type": "markdown",
   "metadata": {},
   "source": [
    "## VPD Channel mapping\n"
   ]
  },
  {
   "cell_type": "markdown",
   "metadata": {},
   "source": [
    "ADC Channels"
   ]
  },
  {
   "cell_type": "code",
   "execution_count": 2,
   "metadata": {
    "collapsed": false
   },
   "outputs": [
    {
     "name": "stdout",
     "output_type": "stream",
     "text": [
      "0  =  0\n",
      "1  =  1\n",
      "2  =  2\n",
      "3  =  3\n",
      "4  =  8\n",
      "5  =  9\n",
      "6  =  10\n",
      "7  =  11\n",
      "8  =  16\n",
      "9  =  17\n",
      "10  =  18\n",
      "11  =  19\n",
      "12  =  24\n",
      "13  =  25\n",
      "14  =  26\n",
      "15  =  27\n"
     ]
    }
   ],
   "source": [
    "for i in range( 0, 16 ):\n",
    "    print i, \" = \", i+i/4*4"
   ]
  },
  {
   "cell_type": "markdown",
   "metadata": {},
   "source": [
    "TDC Channels"
   ]
  },
  {
   "cell_type": "code",
   "execution_count": 3,
   "metadata": {
    "collapsed": false
   },
   "outputs": [
    {
     "name": "stdout",
     "output_type": "stream",
     "text": [
      "0  =  4\n",
      "1  =  5\n",
      "2  =  6\n",
      "3  =  7\n",
      "4  =  12\n",
      "5  =  13\n",
      "6  =  14\n",
      "7  =  15\n",
      "8  =  20\n",
      "9  =  21\n",
      "10  =  22\n",
      "11  =  23\n",
      "12  =  28\n",
      "13  =  29\n",
      "14  =  30\n",
      "15  =  31\n"
     ]
    }
   ],
   "source": [
    "for i in range( 0, 16 ):\n",
    "    print i, \" = \", i+i/4*4+4"
   ]
  },
  {
   "cell_type": "code",
   "execution_count": null,
   "metadata": {
    "collapsed": true
   },
   "outputs": [],
   "source": []
  }
 ],
 "metadata": {
  "kernelspec": {
   "display_name": "Python 2",
   "language": "python",
   "name": "python2"
  },
  "language_info": {
   "codemirror_mode": {
    "name": "ipython",
    "version": 2
   },
   "file_extension": ".py",
   "mimetype": "text/x-python",
   "name": "python",
   "nbconvert_exporter": "python",
   "pygments_lexer": "ipython2",
   "version": "2.7.11"
  }
 },
 "nbformat": 4,
 "nbformat_minor": 0
}
