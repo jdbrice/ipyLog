{
 "cells": [
  {
   "cell_type": "code",
   "execution_count": null,
   "metadata": {
    "collapsed": false
   },
   "outputs": [],
   "source": [
    "%run '../rootlib.ipynb'"
   ]
  },
  {
   "cell_type": "code",
   "execution_count": null,
   "metadata": {
    "collapsed": false
   },
   "outputs": [],
   "source": [
    "def pulserCh( tube ) :\n",
    "    return int( tube ) / 4 * 4\n",
    "def adcE( tube ):\n",
    "    return \"adcEast[\" + str(tube) + \"]\"\n",
    "def tdcE( tube ):\n",
    "    return \"tdcEast[\" + str(tube) + \"]\"\n",
    "def safeE( tubes ):\n",
    "    ss = \"\"\n",
    "    for tube in tubes :\n",
    "        ss += tdcE( tube ) + \" > 150 && \" + adcE( tube ) + \" > 10 &&\"\n",
    "    ss += \"1\"\n",
    "    return ss\n",
    "def adcW( tube ):\n",
    "    return \"adcWest[\" + str(tube) + \"]\"\n",
    "def tdcW( tube ):\n",
    "    return \"tdcWest[\" + str(tube) + \"]\"\n",
    "def safeW( tubes ):\n",
    "    ss = \"\"\n",
    "    for tube in tubes :\n",
    "        ss += tdcW( tube ) + \" > 300 && \" + adcW( tube ) + \" > 10 &&\"\n",
    "    ss += \"1\"\n",
    "    return ss\n",
    "def diffE( a, b ) :\n",
    "    return \"( \" + tdcE(a) + \"-\" + tdcE(b) + \" )\"\n",
    "def diffW( a, b ) :\n",
    "    return \"( \" + tdcW(a) + \"-\" + tdcW(b) + \" )\"\n",
    "def hist( bins, xmin, xmax, name=\"\" ) :\n",
    "    return \">>\"+ name + \"( \" +str(bins) +\", \" + str(xmin) + \", \" + str(xmax) + \" )\"\n",
    "\n",
    "def tdc( side, ch ) :\n",
    "    if \"e\" == side :\n",
    "        return tdcE(ch)\n",
    "    else :\n",
    "        return tdcW(ch)\n",
    "    \n",
    "def day( day ) :\n",
    "    return \" && (run - 17000000) / 1000 >= \" + str(day)\n",
    "\n",
    "R.gStyle.SetOptFit(111)\n",
    "sigTubesE = [ 1, 2, 3, 5, 6, 7, 9, 10, 11, 13, 14, 15 ]\n",
    "sigTubesW = [ 2, 3, 5, 6, 7, 9, 10, 11, 13, 14, 15 ]"
   ]
  },
  {
   "cell_type": "code",
   "execution_count": null,
   "metadata": {
    "collapsed": true
   },
   "outputs": [],
   "source": [
    "def avg( vals ):\n",
    "    total = 0\n",
    "    for v in vals :\n",
    "        total = total + v\n",
    "    return total / len( vals )"
   ]
  }
 ],
 "metadata": {
  "kernelspec": {
   "display_name": "Python 2",
   "language": "python",
   "name": "python2"
  },
  "language_info": {
   "codemirror_mode": {
    "name": "ipython",
    "version": 2
   },
   "file_extension": ".py",
   "mimetype": "text/x-python",
   "name": "python",
   "nbconvert_exporter": "python",
   "pygments_lexer": "ipython2",
   "version": "2.7.11"
  }
 },
 "nbformat": 4,
 "nbformat_minor": 0
}
