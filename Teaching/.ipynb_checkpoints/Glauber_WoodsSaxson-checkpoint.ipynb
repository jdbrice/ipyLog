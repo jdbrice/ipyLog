{
 "cells": [
  {
   "cell_type": "code",
   "execution_count": 1,
   "metadata": {
    "collapsed": true
   },
   "outputs": [],
   "source": [
    "%matplotlib inline\n",
    "import matplotlib.pyplot as plt\n",
    "import numpy as np"
   ]
  },
  {
   "cell_type": "code",
   "execution_count": 2,
   "metadata": {
    "collapsed": false
   },
   "outputs": [],
   "source": [
    "class Nucleon(object):\n",
    "    def __init__(self, pol, delta_y = 0.0 ) :\n",
    "        self.n_coll = 0\n",
    "        self.r = pol\n",
    "        self.x = self.shifted_cartesian( delta_y )\n",
    "        # r is tuple ( r, theta, phi )\n",
    "        # x is tuple ( x, y, z)\n",
    "    \n",
    "    def shifted_cartesian(self, delta_y) :\n",
    "        \n",
    "        #convert to cartesian\n",
    "        cx = self.r[0] * np.cos( self.r[1] ) * np.sin( self.r[2] )\n",
    "        cy = self.r[0] * np.sin( self.r[2] ) * np.sin( self.r[1] )\n",
    "        cz = self.r[0] * np.cos( self.r[2] )\n",
    "        \n",
    "        cy = cy + delta_y\n",
    "        \n",
    "        return (cx, cy, cz)\n",
    "\n",
    "    def collide_with( other ) :\n",
    "        # do collisions\n",
    "        print \"Collide_with\"\n",
    "\n",
    "class Atom(object) :\n",
    "    def __init__( self, R=6.38, a=0.535, delta_y=0, nn = 197, nn_xs = 3.15 ) :\n",
    "        self.wsp = WS_PDF( R, a, 0.01 )\n",
    "        self.R = R\n",
    "        self.a = a\n",
    "        self.delta_y = delta_y\n",
    "        self.nn = nn\n",
    "        self.nn_xs = nn_xs\n",
    "        \n",
    "        self.nucleons = []\n",
    "\n",
    "        #generate the nucleons\n",
    "        for i in np.arange( 0, nn ) :\n",
    "            n = Nucleon( self.wsp.r_theta_phi() )\n",
    "            self.nucleons.append( n )\n",
    "        \n",
    "    def plot( self ) :\n",
    "        rs = [item.r[0] for item in self.nucleons ]\n",
    "        plt.hist( rs )\n",
    "        \n",
    "class Collider(object) :\n",
    "    def __init__(self, b, n_events = 100, n_a = \"Au\", n_b = \"Au\", nn_xs = 3.15 ) :\n",
    "        self.n_a = n_a\n",
    "        self.n_b = n_b\n",
    "        self.b = b\n",
    "        self.n_events = n_events\n",
    "        self.nn_xs = nn_xs\n",
    "    def create_atoms(self ) :\n",
    "        if self.b < 0 :\n",
    "            b = np.random.uniform( -np.abs( self.b ), np.abs( self.b ) )\n",
    "        else :\n",
    "            b = self.b\n",
    "        \n",
    "        if \"Au\" == n_a :\n",
    "            self.A = Atom( 6.38, 0.535, b )\n",
    "        if \"Au\" == n_b :\n",
    "            self.B = Atom( 6.38, 0.535, 0 )\n",
    "    \n",
    "    def collide_atoms( self ) :\n",
    "        print \" collide \"\n",
    "    def event(self) :\n",
    "        # create atoms\n",
    "        \n",
    "        for i_event in np.arange( 0, self.n_events ) :\n",
    "            self.create_atoms()\n",
    "            self.collide_atoms()\n",
    "        "
   ]
  },
  {
   "cell_type": "code",
   "execution_count": 25,
   "metadata": {
    "collapsed": false
   },
   "outputs": [],
   "source": [
    "class WS_PDF(object) :\n",
    "    def __init__( self, R=6.38, a=0.535, res = 0.01, x_min=0, x_max=0 ) :\n",
    "        self.R = R\n",
    "        self.a = a\n",
    "        self.res = res\n",
    "        \n",
    "        self.x_min = x_min\n",
    "        self.x_max = x_max\n",
    "        \n",
    "        if x_min == 0 and x_max == 0 :\n",
    "            self.x_min = -2 * R\n",
    "            self.x_max = 2 * R\n",
    "        \n",
    "        self.norm = 1.0\n",
    "        self.norm = self.n_integral( self.x_min, self.x_max, normed=False )\n",
    "        \n",
    "    def eval( self, r ) :\n",
    "        if ( r > 0 ) :\n",
    "            return 1.0 / ( 1 + np.exp( ( r - self.R)/self.a ) )\n",
    "        return 1.0 / ( 1 + np.exp( ( - r - self.R)/self.a ) )\n",
    "\n",
    "    def n_integral( self, x_min = -2.0, x_max = 2.0, normed=True  ) :\n",
    "        total = 0;\n",
    "        for r in np.arange( x_min, x_max, self.res ) :\n",
    "            total = total + self.eval( r ) * self.res\n",
    "        if True == normed :\n",
    "            return total / self.norm\n",
    "        return total\n",
    "    \n",
    "    def lookup( self, ii ) :\n",
    "        total = 0;\n",
    "        for r in np.arange( self.x_min, self.x_max, self.res ) :\n",
    "            total = total + self.eval( r ) * self.res\n",
    "            if total / self.norm >= ii :\n",
    "                return r\n",
    "\n",
    "        return self.x_max\n",
    "    \n",
    "    def plot( self, scale = 1.0 ) :\n",
    "        x = np.arange( self.x_min, self.x_max, self.res )\n",
    "        vws = np.vectorize( self.eval )\n",
    "        y_max = np.max( vws(x) / self.norm )\n",
    "        lines = plt.plot( x, (vws(x) / self.norm) * scale )\n",
    "        plt.setp(lines, linewidth=2.5, color='b')\n",
    "        plt.ylim( [0, 1.15 * y_max] )\n",
    "        plt.xlabel('radius [fm]', fontsize=18)\n",
    "        plt.xlabel('dN/dr', fontsize=18)\n",
    "    \n",
    "    def plot_cdf( self, scale = 1.0 ) :\n",
    "        x = np.arange( self.x_min, self.x_max, self.res )\n",
    "        y = []\n",
    "        for ix in x :\n",
    "            y.append( self.n_integral( self.x_min, ix ) )\n",
    "\n",
    "        plt.plot( x, y )\n",
    "        plt.ylim( [0, (1.05) ] )\n",
    "    \n",
    "    def sample( self, N = 100 ):\n",
    "        samples = []\n",
    "        for i in np.arange( 0, N ) :\n",
    "            r_pos = self.r_theta_phi()\n",
    "            samples.append( r_pos )\n",
    "        return samples\n",
    "    def sample_bins( self, res = 0.0 ) :\n",
    "        if 0.0 == res :\n",
    "            res = self.res\n",
    "        return np.linspace( self.x_min, self.x_max, (self.x_max - self.x_min)/res )\n",
    "    def r_theta_phi( self ) :\n",
    "        rr = self.lookup( np.random.uniform( 0, 1 ) )\n",
    "        rphi = np.random.uniform( -np.pi, np.pi )\n",
    "        rtheta = np.arccos( np.random.uniform( -1, 1 ) )\n",
    "        \n",
    "        return rr, rtheta, rphi\n",
    "    \n",
    "    def smearing( self, p, scale = 1.0 ) :\n",
    "        r = p[0]\n",
    "        theta = p[1]\n",
    "        phi = p[ 2 ]\n",
    "        \n",
    "        xs = 3.1\n",
    "        ds = np.sqrt( xs / np.pi )\n",
    "        ds = ds * scale\n",
    "        \n",
    "        #convert to cartesian\n",
    "        x = r * np.cos( theta ) * np.sin( phi )\n",
    "        y = r * np.sin( phi ) * np.sin( theta )\n",
    "        z = r * np.cos( phi )\n",
    "        \n",
    "        x = x + np.random.uniform( -ds, ds )\n",
    "        y = y + np.random.uniform( -ds, ds )\n",
    "        z = z + np.random.uniform( -ds, ds )\n",
    "        \n",
    "        rr = np.sqrt( x*x + y*y + z*z )\n",
    "        if r <= 0 :\n",
    "            rr = rr * -1\n",
    "        rtheta = np.arccos( z/rr )\n",
    "        rphi = np.arctan2( y, x )\n",
    "        \n",
    "        return (rr, rtheta, rphi)\n",
    "        \n"
   ]
  },
  {
   "cell_type": "code",
   "execution_count": 9,
   "metadata": {
    "collapsed": false,
    "scrolled": false
   },
   "outputs": [],
   "source": [
    "atom = Atom( 6.38, 0.535, 0 )\n"
   ]
  },
  {
   "cell_type": "code",
   "execution_count": 10,
   "metadata": {
    "collapsed": false
   },
   "outputs": [
    {
     "data": {
      "image/png": "[encoded data removed]",
      "text/plain": [
       "<matplotlib.figure.Figure at 0x109d40650>"
      ]
     },
     "metadata": {},
     "output_type": "display_data"
    }
   ],
   "source": [
    "atom.plot()"
   ]
  },
  {
   "cell_type": "code",
   "execution_count": 26,
   "metadata": {
    "collapsed": false
   },
   "outputs": [],
   "source": [
    "wsp = WS_PDF( 6.38, 0.535, 0.01 )"
   ]
  },
  {
   "cell_type": "markdown",
   "metadata": {},
   "source": [
    "## PDF"
   ]
  },
  {
   "cell_type": "code",
   "execution_count": 12,
   "metadata": {
    "collapsed": false
   },
   "outputs": [
    {
     "data": {
      "image/png": "[encoded data removed]",
      "text/plain": [
       "<matplotlib.figure.Figure at 0x109d2f850>"
      ]
     },
     "metadata": {},
     "output_type": "display_data"
    }
   ],
   "source": [
    "wsp.plot(  )"
   ]
  },
  {
   "cell_type": "markdown",
   "metadata": {},
   "source": [
    "## CDF"
   ]
  },
  {
   "cell_type": "code",
   "execution_count": 89,
   "metadata": {
    "collapsed": false,
    "scrolled": false
   },
   "outputs": [
    {
     "data": {
      "image/png": "[encoded data removed]",
      "text/plain": [
       "<matplotlib.figure.Figure at 0x109670ad0>"
      ]
     },
     "metadata": {},
     "output_type": "display_data"
    }
   ],
   "source": [
    "wsp.plot_cdf(  )"
   ]
  },
  {
   "cell_type": "markdown",
   "metadata": {},
   "source": [
    "##Sampling"
   ]
  },
  {
   "cell_type": "code",
   "execution_count": 30,
   "metadata": {
    "collapsed": true
   },
   "outputs": [],
   "source": [
    "N = 19700.0\n",
    "N_bins = 100\n",
    "bw = (wsp.x_max - wsp.x_min) / float(N_bins)\n",
    "bins = wsp.sample_bins( bw )"
   ]
  },
  {
   "cell_type": "code",
   "execution_count": 19,
   "metadata": {
    "collapsed": false
   },
   "outputs": [],
   "source": [
    "rs = wsp.sample( N )"
   ]
  },
  {
   "cell_type": "code",
   "execution_count": 20,
   "metadata": {
    "collapsed": false
   },
   "outputs": [],
   "source": [
    "rr = [item[0] for item in rs ]\n",
    "# rrs = [ wsp.smearing(item, 2)[0] for item in rs ]"
   ]
  },
  {
   "cell_type": "code",
   "execution_count": 31,
   "metadata": {
    "collapsed": false
   },
   "outputs": [
    {
     "data": {
      "image/png": "[encoded data removed]",
      "text/plain": [
       "<matplotlib.figure.Figure at 0x109d0ccd0>"
      ]
     },
     "metadata": {},
     "output_type": "display_data"
    }
   ],
   "source": [
    "f = plt.figure( figsize=(19, 7) )\n",
    "plt.hist( rr, bins=bins, normed=True, color=\"red\" )\n",
    "# plt.hist( rrs, bins=bins, normed=True, color=\"blue\", alpha=0.5 )\n",
    "wsp.plot()"
   ]
  },
  {
   "cell_type": "code",
   "execution_count": null,
   "metadata": {
    "collapsed": true
   },
   "outputs": [],
   "source": []
  }
 ],
 "metadata": {
  "kernelspec": {
   "display_name": "Python 2",
   "language": "python",
   "name": "python2"
  },
  "language_info": {
   "codemirror_mode": {
    "name": "ipython",
    "version": 2
   },
   "file_extension": ".py",
   "mimetype": "text/x-python",
   "name": "python",
   "nbconvert_exporter": "python",
   "pygments_lexer": "ipython2",
   "version": "2.7.6"
  }
 },
 "nbformat": 4,
 "nbformat_minor": 0
}
