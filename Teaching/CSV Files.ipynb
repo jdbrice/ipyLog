{
 "cells": [
  {
   "cell_type": "code",
   "execution_count": 6,
   "metadata": {
    "collapsed": false
   },
   "outputs": [],
   "source": [
    "import csv\n",
    "with open('eggs.csv', 'wb') as csvfile:\n",
    "    spamwriter = csv.writer(csvfile, delimiter=';',\n",
    "                            quotechar='\"', quoting=csv.QUOTE_NONE)\n",
    "    spamwriter.writerow( ['impact par'] +['n_part'] + ['n_coll'])\n",
    "    spamwriter.writerow([B, npart, 'Wonderful Spam'])"
   ]
  },
  {
   "cell_type": "code",
   "execution_count": null,
   "metadata": {
    "collapsed": true
   },
   "outputs": [],
   "source": []
  }
 ],
 "metadata": {
  "kernelspec": {
   "display_name": "Python 2",
   "language": "python",
   "name": "python2"
  },
  "language_info": {
   "codemirror_mode": {
    "name": "ipython",
    "version": 2
   },
   "file_extension": ".py",
   "mimetype": "text/x-python",
   "name": "python",
   "nbconvert_exporter": "python",
   "pygments_lexer": "ipython2",
   "version": "2.7.10"
  }
 },
 "nbformat": 4,
 "nbformat_minor": 0
}
