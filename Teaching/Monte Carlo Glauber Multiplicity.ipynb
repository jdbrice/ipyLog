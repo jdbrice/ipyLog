{
 "cells": [
  {
   "cell_type": "code",
   "execution_count": 3,
   "metadata": {
    "collapsed": false
   },
   "outputs": [],
   "source": [
    "%matplotlib inline\n",
    "import matplotlib.pyplot as plt\n",
    "import numpy as np\n",
    "import ROOT as R\n",
    "R.gROOT.SetBatch(True)\n",
    "from rootpy.plotting import Canvas, Hist, Legend"
   ]
  },
  {
   "cell_type": "markdown",
   "metadata": {},
   "source": [
    "## Monte Carlo Glauber\n",
    "### Relating Simulation to $\\frac{dN}{d\\eta}$"
   ]
  },
  {
   "cell_type": "markdown",
   "metadata": {},
   "source": [
    "#### Two Component Model\n",
    "In the two component model we assume that the number of charged particles produced per unit of pseudorapidity is proportional to Npart for soft processes and Ncoll for hard process. Soft collisions cause the participating nucleons to become excited. When these excited nucleons decay they produce particles ( mostly pions ) with small transverse momentum. However, particles created with large amounts of transverse momentum are assumed to be related to hard collisions between nucleons. Therefor the total $dN/d\\eta$ is assumed to be a combination of these to processes where we assume :\n",
    "\n",
    "##$ \\frac{dN_{ch}}{d\\eta} = N_{pp}\\left( x  N_{coll} + (1 - x) \\frac{N_{part}}{2}  \\right) $\n",
    "\n",
    "Where $x$ is the \"hardness\" scale - related to the amount of momentum carried by the quark inside the proton, and N$_{pp}$ is the average number of particle produced per particpant \n"
   ]
  },
  {
   "cell_type": "code",
   "execution_count": 5,
   "metadata": {
    "collapsed": true
   },
   "outputs": [],
   "source": [
    "def getNB( n, mK, mNpp ) :\n",
    "    c = R.TMath.Exp( R.TMath.LnGamma( n + mK ) - R.TMath.LnGamma( n+1 ) - R.TMath.LnGamma( mK ) )\n",
    "    x = n * R.TMath.Log( mNpp / mK ) - ( n+mK ) * R.TMath.Log( mNpp / mK + 1.0 )\n",
    "    return c * R.TMath.Exp( x )"
   ]
  },
  {
   "cell_type": "code",
   "execution_count": 6,
   "metadata": {
    "collapsed": false
   },
   "outputs": [
    {
     "data": {
      "text/plain": [
       "0.0014068638605474121"
      ]
     },
     "execution_count": 6,
     "metadata": {},
     "output_type": "execute_result"
    }
   ],
   "source": [
    "getNB( 5, .012, .107 )"
   ]
  },
  {
   "cell_type": "code",
   "execution_count": 26,
   "metadata": {
    "collapsed": false
   },
   "outputs": [
    {
     "name": "stderr",
     "output_type": "stream",
     "text": [
      "WARNING:ROOT.TROOT.Append:Replacing existing TH1: hnb1 (Potential memory leak).\n"
     ]
    }
   ],
   "source": [
    "hnb = R.TH1D( \"hnb1\", \"hnb\", 500, 0, 50 )"
   ]
  },
  {
   "cell_type": "code",
   "execution_count": 27,
   "metadata": {
    "collapsed": true
   },
   "outputs": [],
   "source": [
    "for ib in range( 1, 500 ) :\n",
    "    hnb.SetBinContent( ib, getNB( ib, 2.0, 1.172 ) )"
   ]
  },
  {
   "cell_type": "code",
   "execution_count": 28,
   "metadata": {
    "collapsed": false
   },
   "outputs": [
    {
     "data": {
      "image/png": "[encoded data removed]",
      "text/plain": [
       "Canvas('043df9107acf46bb88c479f81bee3656')"
      ]
     },
     "execution_count": 28,
     "metadata": {},
     "output_type": "execute_result"
    }
   ],
   "source": [
    "can = Canvas( width=900, height=700 )\n",
    "hnb.Draw()\n",
    "R.gPad.SetLogy(1)\n",
    "can"
   ]
  },
  {
   "cell_type": "markdown",
   "metadata": {},
   "source": [
    "## Two Component Model"
   ]
  }
 ],
 "metadata": {
  "kernelspec": {
   "display_name": "Python 2",
   "language": "python",
   "name": "python2"
  },
  "language_info": {
   "codemirror_mode": {
    "name": "ipython",
    "version": 2
   },
   "file_extension": ".py",
   "mimetype": "text/x-python",
   "name": "python",
   "nbconvert_exporter": "python",
   "pygments_lexer": "ipython2",
   "version": "2.7.10"
  }
 },
 "nbformat": 4,
 "nbformat_minor": 0
}
