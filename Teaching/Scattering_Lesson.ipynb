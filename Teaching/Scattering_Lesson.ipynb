{
 "cells": [
  {
   "cell_type": "markdown",
   "metadata": {
    "collapsed": true
   },
   "source": [
    "## Scattering"
   ]
  },
  {
   "cell_type": "markdown",
   "metadata": {
    "collapsed": true
   },
   "source": [
    "Scattering experiments are a fundamental tool used in many fields of physics. Scattering theory is useful for understanding fundamental physics experiments as well as applications such as medical imaging. \n",
    "\n",
    "#### Terms : \n",
    "- **Elastic Collision:**\n",
    "    A collision between particles A and B in which the amount of **kinetic energy** and the **number** of particles remains constant.   \n",
    "    For instance, A + B --> A + B : Two particles collide and two particles exit the collision with the same amount of **total** energy between the two of them.\n",
    "- **Inelastic Collision:**\n",
    "     A collision between particles in which the **kinetic energy** or **number** of particles is **not** conserved.   \n",
    "     Example 1) A + B --> A + B\\* where B absorbs some of the kinetic energy. Here Kinetic Energy is not conserved.  \n",
    "     Example 2) A + B --> A + C + D where A exits the collision but B breaks into two particles C and D. Here the number of particles is not conserved\n",
    "- **Solid Angle:**\n",
    "    The size that an object appears to an observer measured in 2D angles. For instance, when you stand close to the TV it looks big. The same TV looks small when you stand far away from it. The Solid Angle is how big the TV **looks** from where you are standing. The size of the TV never changes, but the TV looks like it changes size to you depending on where you stand.\n",
    "- **Impact Parameter:**\n",
    "    The distance between the centers of the two colliding objects. For two particles traveling in the x-direction, the y-distance between their centers is the impact parameter. Normally we use the variable *b* as the impact parameter\n",
    "     "
   ]
  },
  {
   "cell_type": "markdown",
   "metadata": {},
   "source": [
    "$\\frac{d\\sigma}{d\\Omega}$ = $\\frac{N}{j}$"
   ]
  },
  {
   "cell_type": "markdown",
   "metadata": {},
   "source": [
    "![](diff.png)"
   ]
  },
  {
   "cell_type": "markdown",
   "metadata": {},
   "source": [
    "Images taken from : http://www.tcm.phy.cam.ac.uk/~bds10/aqp/lec20-21_compressed.pdf"
   ]
  },
  {
   "cell_type": "markdown",
   "metadata": {},
   "source": [
    "### Hard Sphere Scattering"
   ]
  },
  {
   "cell_type": "markdown",
   "metadata": {},
   "source": [
    "Lets assume investigate what happens when two physical objects collide with one another. This type of collision is called **hard sphere scattering** because we are assuming that the two objects don't change shape and that bounce off of each other's surface.\n",
    "\n",
    "For scattering experiments in general, we often want to know how the impact parameter (b) and the scattering angle ($\\theta$) are related\n",
    "\n",
    "![](hard_sphere.png)"
   ]
  },
  {
   "cell_type": "markdown",
   "metadata": {},
   "source": [
    "Looking at the figure above we can use geometric arguments to relate *b* to the outgoing angle $\\theta$.   \n",
    "   \n",
    "First, we can see that the impact parameter (b) is:\n",
    "\n",
    "b = R * sin( $\\alpha$ )\n",
    "\n",
    "Now we have a relationship between the impact parameter and the angle $\\alpha$. However, we want a relationship between impact parameter and $\\theta$ - the angle at shich the particle travels away from the collision. In order to do this we need to relate $\\alpha$ and $\\theta$.\n",
    "\n",
    "Notice that 2 * $\\alpha$ + $\\theta$ = $\\pi$. Based on this:\n",
    "\n",
    "$\\alpha$ = $\\frac{\\pi - \\theta}{2}$\n",
    "\n",
    "\n",
    "Now we can plug in this relationship between $\\alpha$ and $\\theta$ into the first.\n",
    "\n",
    "b = R * sin( $\\frac{\\pi - \\theta}{2}$ )\n",
    "  \n",
    "  \n",
    "Now we have our relationship between b and $\\theta$. However, usually we know the impact parameter (b) and we want to find out the scattering angle ($\\theta$). \n",
    "\n",
    "####Assignment\n",
    "Find the inverse relationship between b and $\\theta$ so that I can give you a value of *b* and you can give me the resulting scattering angle. Express your answer as:\n",
    "\n",
    "$\\theta$( b ) = ...."
   ]
  },
  {
   "cell_type": "code",
   "execution_count": null,
   "metadata": {
    "collapsed": true
   },
   "outputs": [],
   "source": []
  }
 ],
 "metadata": {
  "kernelspec": {
   "display_name": "Python 2",
   "language": "python",
   "name": "python2"
  },
  "language_info": {
   "codemirror_mode": {
    "name": "ipython",
    "version": 2
   },
   "file_extension": ".py",
   "mimetype": "text/x-python",
   "name": "python",
   "nbconvert_exporter": "python",
   "pygments_lexer": "ipython2",
   "version": "2.7.6"
  }
 },
 "nbformat": 4,
 "nbformat_minor": 0
}
