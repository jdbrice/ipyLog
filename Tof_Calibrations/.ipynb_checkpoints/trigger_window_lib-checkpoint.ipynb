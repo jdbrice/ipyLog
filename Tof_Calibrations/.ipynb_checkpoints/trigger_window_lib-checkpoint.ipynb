{
 "cells": [
  {
   "cell_type": "code",
   "execution_count": 1,
   "metadata": {
    "collapsed": false
   },
   "outputs": [
    {
     "data": {
      "application/javascript": [
       "require(['codemirror/mode/clike/clike'], function(Clike) { console.log('ROOTaaS - C++ CodeMirror module loaded'); });"
      ]
     },
     "metadata": {},
     "output_type": "display_data"
    },
    {
     "data": {
      "application/javascript": [
       "IPython.CodeCell.config_defaults.highlight_modes['magic_text/x-c++src'] = {'reg':[/^%%cpp/]};"
      ]
     },
     "metadata": {},
     "output_type": "display_data"
    },
    {
     "name": "stdout",
     "output_type": "stream",
     "text": [
      "Welcome to ROOTaaS 6.06/02\n"
     ]
    }
   ],
   "source": [
    "# %matplotlib inline\n",
    "import ROOT as R\n",
    "R.gROOT.SetBatch(True)\n",
    "R.gStyle.SetOptFit( 111 )"
   ]
  },
  {
   "cell_type": "code",
   "execution_count": 2,
   "metadata": {
    "collapsed": true
   },
   "outputs": [],
   "source": [
    "def windowFor( h2, tId, **kwargs ) :\n",
    "\n",
    "#     ccc = R.TCanvas( \"ccc\", \"ccc\", 600, 600 )\n",
    "    R.gStyle.SetOptFit( 111 )\n",
    "    signalWidth = 85\n",
    "    #get the slice\n",
    "    hs = h2.ProjectionY( \"tray_\" + str(tId), tId, tId )\n",
    "    \n",
    "    size = 100\n",
    "    if \"size\" in kwargs :\n",
    "        size = kwargs[\"size\"]\n",
    "    \n",
    "    \n",
    "    \n",
    "    \n",
    "    # look at the peak\n",
    "    hs.GetXaxis().SetRange( hs.GetMaximumBin() - size, hs.GetMaximumBin() + size )\n",
    "    ff = R.TF1( \"ff\", \"landau\", hs.GetMaximumBin() - 50, hs.GetMaximumBin() + 50 )\n",
    "    ff.SetLineColor( R.kRed )\n",
    "    ff.SetLineWidth( 3 )\n",
    "    hs.Fit( ff, \"RQ\" )\n",
    "    \n",
    "    \n",
    "    cutLow = ff.GetParameter(1) - 25\n",
    "    cutHigh = ff.GetParameter(1) + signalWidth\n",
    "    #print \"par1=\", ff.GetParameter(1)\n",
    "    hs.Draw( );\n",
    "    \n",
    "#     print \"cutLow\", cutLow\n",
    "    hMax = hs.GetMaximum() * 2\n",
    "#     print \"max =\", hMax\n",
    "    l1 = R.TLine( 1050, 1, 1050, 200 )\n",
    "    l1.SetLineColor( R.kBlue )\n",
    "    l1.SetLineWidth( 3 )\n",
    "#     l2 = R.TLine( cutHigh, 1, cutHigh, hMax )\n",
    "#     l2.SetLineColor( R.kBlue )\n",
    "#     l2.SetLineWidth( 3 )\n",
    "    l1.Draw( )\n",
    "#     l2.Draw( )\n",
    "\n",
    "\n",
    "#     if \"title\" in kwargs :\n",
    "#         hs.SetTitle( kwargs[ \"title\"] )\n",
    "#     hs.GetXaxis().SetTitle( \"\" )\n",
    "#     hs.GetYaxis().SetTitle( \"[#]\" )\n",
    "    \n",
    "#     hs.SetAxisRange( cutLow - size, cutHigh + size, \"X\" )\n",
    "#     R.gPad.SetLogy(0)\n",
    "#     ccc.Draw()\n",
    "#     ccc.Print( hs.GetTitle() + \".pdf\" )\n",
    "    if hMax < 1 :\n",
    "        print \"tray \", tId, \" is dead\"\n",
    "        \n",
    "    return int(cutLow), int(cutHigh)"
   ]
  },
  {
   "cell_type": "code",
   "execution_count": 3,
   "metadata": {
    "collapsed": true
   },
   "outputs": [],
   "source": [
    "def writeTriggerWindows( lowEdges, highEdges ) :\n",
    "    fname =\"triggerWindows_\" + rn + \".dat\"\n",
    "    print \"Exporting trigger windows to \", fname\n",
    "    target = open( fname, \"w\" )\n",
    "    target.write( \"double cutlow[122] ={\\n\" )\n",
    "    for i in range( 1, 123 ):\n",
    "        if i != 122 :\n",
    "            target.write(\"%i,\"% lowEdges[ i-1 ])\n",
    "        else :\n",
    "            target.write(\"%i };\"% lowEdges[ i-1 ])\n",
    "        if i % 10 == 0:\n",
    "            target.write(\"\\n\")\n",
    "            \n",
    "    target.write(\"\\n\\n\")\n",
    "    target.write(\"double cuthi[122] ={\\n\")\n",
    "    for i in range( 1, 123 ):\n",
    "        if i != 122 :\n",
    "            target.write(\"%i,\"% highEdges[ i-1 ])\n",
    "        else :\n",
    "            target.write(\"%i };\"% highEdges[ i-1 ])\n",
    "        if i % 10 == 0:\n",
    "            target.write(\"\\n\")\n",
    "    target.close()"
   ]
  },
  {
   "cell_type": "code",
   "execution_count": 5,
   "metadata": {
    "collapsed": true
   },
   "outputs": [],
   "source": [
    "def makeReport( **kwarg ) :\n",
    "    \n",
    "    leTrg = data.Get(\"leTrg\")\n",
    "    trTrg = data.Get(\"TrTrg\")\n",
    "\n",
    "    can = R.TCanvas( \"c1\", \"c1\", 2000, 1200 )\n",
    "    can.Clear()\n",
    "    name = \"triggerWindows_\" + rn + \".pdf\"\n",
    "    if \"name\" in kwarg :\n",
    "        name = kwarg[ \"name\" ]\n",
    "    print \"Generating PDF report at \", name\n",
    "    can.Print( name + \"[\" )\n",
    "    ndivX = 1\n",
    "    ndivY = 1\n",
    "    ndiv = ndivX * ndivY\n",
    "    can.Divide( ndivX, ndivY )\n",
    "    lowEdges = []\n",
    "    highEdges = []\n",
    "\n",
    "    for tId in range( 1, 123 ):\n",
    "#         can.cd( (tId-1) % ndiv + 1  )\n",
    "        low, high = windowFor( leTrg, tId, size=100 )\n",
    "        lowEdges.append( low )\n",
    "        highEdges.append( high )\n",
    "        if  ((tId-1) % ndiv == ndiv-1) or (tId == 122):\n",
    "            can.Draw()\n",
    "            can.Print( name )\n",
    "            can.Clear()\n",
    "            can.Divide( ndivX, ndivY )\n",
    "    \n",
    "    can.Print( name + \"]\" )\n",
    "    \n",
    "    writeTriggerWindows(lowEdges, highEdges)"
   ]
  },
  {
   "cell_type": "code",
   "execution_count": 6,
   "metadata": {
    "collapsed": true
   },
   "outputs": [],
   "source": [
    "def reportTriggerWindowsInline( lowEdges, highEdges ) :\n",
    "    print \"double cutlow[122] ={\"\n",
    "    for i in range( 1, 123 ):\n",
    "        if i != 122 :\n",
    "            print(\"%i,\"% lowEdges[ i-1 ]),\n",
    "        else :\n",
    "            print(\"%i };\"% lowEdges[ i-1 ]),\n",
    "        if i % 10 == 0:\n",
    "            print \"\"\n",
    "\n",
    "    print \"\\n\"\n",
    "    print \"double cuthi[122] ={\"\n",
    "    for i in range( 1, 123 ):\n",
    "        if i != 122 :\n",
    "            print(\"%i,\"% highEdges[ i-1 ]),\n",
    "        else :\n",
    "            print(\"%i };\"% highEdges[ i-1 ]),\n",
    "        if i % 10 == 0:\n",
    "            print \"\""
   ]
  },
  {
   "cell_type": "code",
   "execution_count": 14,
   "metadata": {
    "collapsed": true
   },
   "outputs": [],
   "source": [
    "def makeReportInline( page ) :\n",
    "    leTrg = data.Get(\"leTrg\")\n",
    "    trTrg = data.Get(\"TrTrg\")\n",
    "\n",
    "    can = R.TCanvas( \"c1\", \"c2\", 2000, 1200)\n",
    "    can.Clear()\n",
    "    \n",
    "    can.Divide( 4, 4 )\n",
    "    lowEdges = []\n",
    "    highEdges = []\n",
    "\n",
    "    for tId in range( 1 + 16 * page, 1 + 16 * (page + 1) ):\n",
    "        can.cd( tId - 16 * page  )\n",
    "        low, high = windowFor( leTrg, tId, size=500 )\n",
    "        lowEdges.append( low )\n",
    "        highEdges.append( high )\n",
    "    \n",
    "    #if 0 == page :\n",
    "    #    reportTriggerWindowsInline(lowEdges, highEdges)\n",
    "    return can"
   ]
  },
  {
   "cell_type": "code",
   "execution_count": null,
   "metadata": {
    "collapsed": true
   },
   "outputs": [],
   "source": []
  }
 ],
 "metadata": {
  "kernelspec": {
   "display_name": "Python 2",
   "language": "python",
   "name": "python2"
  },
  "language_info": {
   "codemirror_mode": {
    "name": "ipython",
    "version": 2
   },
   "file_extension": ".py",
   "mimetype": "text/x-python",
   "name": "python",
   "nbconvert_exporter": "python",
   "pygments_lexer": "ipython2",
   "version": "2.7.10"
  }
 },
 "nbformat": 4,
 "nbformat_minor": 0
}
