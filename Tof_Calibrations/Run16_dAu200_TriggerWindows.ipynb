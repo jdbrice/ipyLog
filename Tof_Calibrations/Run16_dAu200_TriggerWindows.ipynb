{
 "cells": [
  {
   "cell_type": "markdown",
   "metadata": {},
   "source": [
    "### Calculating TOF Trigger Windows\n",
    "1. Find some useable data after the VPD gain / trigger settings are complete\n",
    "2. Run the RTS exampe code to build the tof tree\n",
    "3. run the trigger window finder here"
   ]
  },
  {
   "cell_type": "code",
   "execution_count": 1,
   "metadata": {
    "collapsed": false
   },
   "outputs": [
    {
     "name": "stdout",
     "output_type": "stream",
     "text": [
      "Hey there\n"
     ]
    }
   ],
   "source": [
    "print \"Hey there\""
   ]
  },
  {
   "cell_type": "code",
   "execution_count": 2,
   "metadata": {
    "collapsed": false
   },
   "outputs": [
    {
     "data": {
      "application/javascript": [
       "require(['codemirror/mode/clike/clike'], function(Clike) { console.log('ROOTaaS - C++ CodeMirror module loaded'); });"
      ]
     },
     "metadata": {},
     "output_type": "display_data"
    },
    {
     "data": {
      "application/javascript": [
       "IPython.CodeCell.config_defaults.highlight_modes['magic_text/x-c++src'] = {'reg':[/^%%cpp/]};"
      ]
     },
     "metadata": {},
     "output_type": "display_data"
    },
    {
     "name": "stdout",
     "output_type": "stream",
     "text": [
      "Welcome to ROOTaaS 6.06/02\n"
     ]
    }
   ],
   "source": [
    "import ROOT as R"
   ]
  },
  {
   "cell_type": "code",
   "execution_count": 3,
   "metadata": {
    "collapsed": false
   },
   "outputs": [],
   "source": [
    "# defines the path to the data\n",
    "path = \"./\"\n",
    "# the run # of the data being investigated\n",
    "# used for consistent naming throughout\n",
    "rn = \"17150011\"\n",
    "data = R.TFile( path + \"tof_\"+ rn +\".root\", \"READ\" )\n",
    "\n",
    "leTrg = data.Get(\"leTrg\")\n",
    "trTrg = data.Get(\"TrTrg\")"
   ]
  },
  {
   "cell_type": "code",
   "execution_count": 4,
   "metadata": {
    "collapsed": true
   },
   "outputs": [],
   "source": [
    "def getProj( tray ) :\n",
    "    return leTrg.ProjectionY( \"tray_\" + str(tId), tId, tId )"
   ]
  },
  {
   "cell_type": "code",
   "execution_count": 5,
   "metadata": {
    "collapsed": true
   },
   "outputs": [],
   "source": [
    "def writeTriggerWindows( lowEdges, highEdges ) :\n",
    "    fname =\"triggerWindows_\" + rn + \".dat\"\n",
    "    print \"Exporting trigger windows to \", fname\n",
    "    target = open( fname, \"w\" )\n",
    "    target.write( \"double cutlow[122] ={\\n\" )\n",
    "    for i in range( 1, 123 ):\n",
    "        if i != 122 :\n",
    "            target.write(\"%i,\"% lowEdges[ i-1 ])\n",
    "        else :\n",
    "            target.write(\"%i };\"% lowEdges[ i-1 ])\n",
    "        if i % 10 == 0:\n",
    "            target.write(\"\\n\")\n",
    "            \n",
    "    target.write(\"\\n\\n\")\n",
    "    target.write(\"double cuthi[122] ={\\n\")\n",
    "    for i in range( 1, 123 ):\n",
    "        if i != 122 :\n",
    "            target.write(\"%i,\"% highEdges[ i-1 ])\n",
    "        else :\n",
    "            target.write(\"%i };\"% highEdges[ i-1 ])\n",
    "        if i % 10 == 0:\n",
    "            target.write(\"\\n\")\n",
    "    target.close()"
   ]
  },
  {
   "cell_type": "code",
   "execution_count": 6,
   "metadata": {
    "collapsed": false
   },
   "outputs": [
    {
     "name": "stderr",
     "output_type": "stream",
     "text": [
      "Fit:0: RuntimeWarning: Fit data is empty \n",
      "Fit:0: RuntimeWarning: Fit data is empty \n"
     ]
    },
    {
     "name": "stdout",
     "output_type": "stream",
     "text": [
      "Exporting trigger windows to  triggerWindows_17150011.dat\n"
     ]
    },
    {
     "name": "stderr",
     "output_type": "stream",
     "text": [
      "Info in <TCanvas::Print>: pdf file tof_triggerWindows_17150011.pdf has been created\r\n",
      "Info in <TCanvas::Print>: Current canvas added to pdf file tof_triggerWindows_17150011.pdf\r\n",
      "Info in <TCanvas::Print>: Current canvas added to pdf file tof_triggerWindows_17150011.pdf\r\n",
      "Info in <TCanvas::Print>: Current canvas added to pdf file tof_triggerWindows_17150011.pdf\r\n",
      "Info in <TCanvas::Print>: Current canvas added to pdf file tof_triggerWindows_17150011.pdf\r\n",
      "Info in <TCanvas::Print>: Current canvas added to pdf file tof_triggerWindows_17150011.pdf\r\n",
      "Info in <TCanvas::Print>: Current canvas added to pdf file tof_triggerWindows_17150011.pdf\r\n",
      "Info in <TCanvas::Print>: Current canvas added to pdf file tof_triggerWindows_17150011.pdf\r\n",
      "Info in <TCanvas::Print>: Current canvas added to pdf file tof_triggerWindows_17150011.pdf\r\n",
      "Info in <TCanvas::Print>: Current canvas added to pdf file tof_triggerWindows_17150011.pdf\r\n",
      "Info in <TCanvas::Print>: Current canvas added to pdf file tof_triggerWindows_17150011.pdf\r\n",
      "Info in <TCanvas::Print>: Current canvas added to pdf file tof_triggerWindows_17150011.pdf\r\n",
      "Info in <TCanvas::Print>: Current canvas added to pdf file tof_triggerWindows_17150011.pdf\r\n",
      "Info in <TCanvas::Print>: Current canvas added to pdf file tof_triggerWindows_17150011.pdf\r\n",
      "Info in <TCanvas::Print>: Current canvas added to pdf file tof_triggerWindows_17150011.pdf\r\n",
      "Info in <TCanvas::Print>: Current canvas added to pdf file tof_triggerWindows_17150011.pdf\r\n",
      "Info in <TCanvas::Print>: Current canvas added to pdf file tof_triggerWindows_17150011.pdf\r\n",
      "Info in <TCanvas::Print>: Current canvas added to pdf file tof_triggerWindows_17150011.pdf\r\n",
      "Info in <TCanvas::Print>: Current canvas added to pdf file tof_triggerWindows_17150011.pdf\r\n",
      "Info in <TCanvas::Print>: Current canvas added to pdf file tof_triggerWindows_17150011.pdf\r\n",
      "Info in <TCanvas::Print>: Current canvas added to pdf file tof_triggerWindows_17150011.pdf\r\n",
      "Info in <TCanvas::Print>: Current canvas added to pdf file tof_triggerWindows_17150011.pdf\r\n",
      "Info in <TCanvas::Print>: Current canvas added to pdf file tof_triggerWindows_17150011.pdf\r\n",
      "Info in <TCanvas::Print>: Current canvas added to pdf file tof_triggerWindows_17150011.pdf\r\n",
      "Info in <TCanvas::Print>: Current canvas added to pdf file tof_triggerWindows_17150011.pdf\r\n",
      "Info in <TCanvas::Print>: Current canvas added to pdf file tof_triggerWindows_17150011.pdf\r\n",
      "Info in <TCanvas::Print>: Current canvas added to pdf file tof_triggerWindows_17150011.pdf\r\n",
      "Info in <TCanvas::Print>: Current canvas added to pdf file tof_triggerWindows_17150011.pdf\r\n",
      "Info in <TCanvas::Print>: Current canvas added to pdf file tof_triggerWindows_17150011.pdf\r\n",
      "Info in <TCanvas::Print>: Current canvas added to pdf file tof_triggerWindows_17150011.pdf\r\n",
      "Info in <TCanvas::Print>: Current canvas added to pdf file tof_triggerWindows_17150011.pdf\r\n",
      "Info in <TCanvas::Print>: Current canvas added to pdf file tof_triggerWindows_17150011.pdf\r\n",
      "Info in <TCanvas::Print>: Current canvas added to pdf file tof_triggerWindows_17150011.pdf\r\n",
      "Info in <TCanvas::Print>: Current canvas added to pdf file tof_triggerWindows_17150011.pdf\r\n",
      "Info in <TCanvas::Print>: Current canvas added to pdf file tof_triggerWindows_17150011.pdf\r\n",
      "Info in <TCanvas::Print>: Current canvas added to pdf file tof_triggerWindows_17150011.pdf\r\n",
      "Info in <TCanvas::Print>: Current canvas added to pdf file tof_triggerWindows_17150011.pdf\r\n",
      "Info in <TCanvas::Print>: Current canvas added to pdf file tof_triggerWindows_17150011.pdf\r\n",
      "Info in <TCanvas::Print>: Current canvas added to pdf file tof_triggerWindows_17150011.pdf\r\n",
      "Info in <TCanvas::Print>: Current canvas added to pdf file tof_triggerWindows_17150011.pdf\r\n",
      "Info in <TCanvas::Print>: Current canvas added to pdf file tof_triggerWindows_17150011.pdf\r\n",
      "Info in <TCanvas::Print>: Current canvas added to pdf file tof_triggerWindows_17150011.pdf\r\n",
      "Info in <TCanvas::Print>: Current canvas added to pdf file tof_triggerWindows_17150011.pdf\r\n",
      "Info in <TCanvas::Print>: Current canvas added to pdf file tof_triggerWindows_17150011.pdf\r\n",
      "Info in <TCanvas::Print>: Current canvas added to pdf file tof_triggerWindows_17150011.pdf\r\n",
      "Info in <TCanvas::Print>: Current canvas added to pdf file tof_triggerWindows_17150011.pdf\r\n",
      "Info in <TCanvas::Print>: Current canvas added to pdf file tof_triggerWindows_17150011.pdf\r\n",
      "Info in <TCanvas::Print>: Current canvas added to pdf file tof_triggerWindows_17150011.pdf\r\n",
      "Info in <TCanvas::Print>: Current canvas added to pdf file tof_triggerWindows_17150011.pdf\r\n",
      "Info in <TCanvas::Print>: Current canvas added to pdf file tof_triggerWindows_17150011.pdf\r\n",
      "Info in <TCanvas::Print>: Current canvas added to pdf file tof_triggerWindows_17150011.pdf\r\n",
      "Info in <TCanvas::Print>: Current canvas added to pdf file tof_triggerWindows_17150011.pdf\r\n",
      "Info in <TCanvas::Print>: Current canvas added to pdf file tof_triggerWindows_17150011.pdf\r\n",
      "Info in <TCanvas::Print>: Current canvas added to pdf file tof_triggerWindows_17150011.pdf\r\n",
      "Info in <TCanvas::Print>: Current canvas added to pdf file tof_triggerWindows_17150011.pdf\r\n",
      "Info in <TCanvas::Print>: Current canvas added to pdf file tof_triggerWindows_17150011.pdf\r\n",
      "Info in <TCanvas::Print>: Current canvas added to pdf file tof_triggerWindows_17150011.pdf\r\n",
      "Info in <TCanvas::Print>: Current canvas added to pdf file tof_triggerWindows_17150011.pdf\r\n",
      "Info in <TCanvas::Print>: Current canvas added to pdf file tof_triggerWindows_17150011.pdf\r\n",
      "Info in <TCanvas::Print>: Current canvas added to pdf file tof_triggerWindows_17150011.pdf\r\n",
      "Info in <TCanvas::Print>: Current canvas added to pdf file tof_triggerWindows_17150011.pdf\r\n",
      "Info in <TCanvas::Print>: Current canvas added to pdf file tof_triggerWindows_17150011.pdf\r\n",
      "Info in <TCanvas::Print>: Current canvas added to pdf file tof_triggerWindows_17150011.pdf\r\n",
      "Info in <TCanvas::Print>: Current canvas added to pdf file tof_triggerWindows_17150011.pdf\r\n",
      "Info in <TCanvas::Print>: Current canvas added to pdf file tof_triggerWindows_17150011.pdf\r\n",
      "Info in <TCanvas::Print>: Current canvas added to pdf file tof_triggerWindows_17150011.pdf\r\n",
      "Info in <TCanvas::Print>: Current canvas added to pdf file tof_triggerWindows_17150011.pdf\r\n",
      "Info in <TCanvas::Print>: Current canvas added to pdf file tof_triggerWindows_17150011.pdf\r\n",
      "Info in <TCanvas::Print>: Current canvas added to pdf file tof_triggerWindows_17150011.pdf\r\n",
      "Info in <TCanvas::Print>: Current canvas added to pdf file tof_triggerWindows_17150011.pdf\r\n",
      "Info in <TCanvas::Print>: Current canvas added to pdf file tof_triggerWindows_17150011.pdf\r\n",
      "Info in <TCanvas::Print>: Current canvas added to pdf file tof_triggerWindows_17150011.pdf\r\n",
      "Info in <TCanvas::Print>: Current canvas added to pdf file tof_triggerWindows_17150011.pdf\r\n",
      "Info in <TCanvas::Print>: Current canvas added to pdf file tof_triggerWindows_17150011.pdf\r\n",
      "Info in <TCanvas::Print>: Current canvas added to pdf file tof_triggerWindows_17150011.pdf\r\n",
      "Info in <TCanvas::Print>: Current canvas added to pdf file tof_triggerWindows_17150011.pdf\r\n",
      "Info in <TCanvas::Print>: Current canvas added to pdf file tof_triggerWindows_17150011.pdf\r\n",
      "Info in <TCanvas::Print>: Current canvas added to pdf file tof_triggerWindows_17150011.pdf\r\n",
      "Info in <TCanvas::Print>: Current canvas added to pdf file tof_triggerWindows_17150011.pdf\r\n",
      "Info in <TCanvas::Print>: Current canvas added to pdf file tof_triggerWindows_17150011.pdf\r\n",
      "Info in <TCanvas::Print>: Current canvas added to pdf file tof_triggerWindows_17150011.pdf\r\n",
      "Info in <TCanvas::Print>: Current canvas added to pdf file tof_triggerWindows_17150011.pdf\r\n",
      "Info in <TCanvas::Print>: Current canvas added to pdf file tof_triggerWindows_17150011.pdf\r\n",
      "Info in <TCanvas::Print>: Current canvas added to pdf file tof_triggerWindows_17150011.pdf\r\n",
      "Info in <TCanvas::Print>: Current canvas added to pdf file tof_triggerWindows_17150011.pdf\r\n",
      "Info in <TCanvas::Print>: Current canvas added to pdf file tof_triggerWindows_17150011.pdf\r\n",
      "Info in <TCanvas::Print>: Current canvas added to pdf file tof_triggerWindows_17150011.pdf\r\n",
      "Info in <TCanvas::Print>: Current canvas added to pdf file tof_triggerWindows_17150011.pdf\r\n",
      "Info in <TCanvas::Print>: Current canvas added to pdf file tof_triggerWindows_17150011.pdf\r\n",
      "Info in <TCanvas::Print>: Current canvas added to pdf file tof_triggerWindows_17150011.pdf\r\n",
      "Info in <TCanvas::Print>: Current canvas added to pdf file tof_triggerWindows_17150011.pdf\r\n",
      "Info in <TCanvas::Print>: Current canvas added to pdf file tof_triggerWindows_17150011.pdf\r\n",
      "Info in <TCanvas::Print>: Current canvas added to pdf file tof_triggerWindows_17150011.pdf\r\n",
      "Info in <TCanvas::Print>: Current canvas added to pdf file tof_triggerWindows_17150011.pdf\r\n",
      "Info in <TCanvas::Print>: Current canvas added to pdf file tof_triggerWindows_17150011.pdf\r\n",
      "Info in <TCanvas::Print>: Current canvas added to pdf file tof_triggerWindows_17150011.pdf\r\n",
      "Info in <TCanvas::Print>: Current canvas added to pdf file tof_triggerWindows_17150011.pdf\r\n",
      "Info in <TCanvas::Print>: Current canvas added to pdf file tof_triggerWindows_17150011.pdf\r\n",
      "Info in <TCanvas::Print>: Current canvas added to pdf file tof_triggerWindows_17150011.pdf\r\n",
      "Info in <TCanvas::Print>: Current canvas added to pdf file tof_triggerWindows_17150011.pdf\r\n",
      "Info in <TCanvas::Print>: Current canvas added to pdf file tof_triggerWindows_17150011.pdf\r\n",
      "Info in <TCanvas::Print>: Current canvas added to pdf file tof_triggerWindows_17150011.pdf\r\n",
      "Info in <TCanvas::Print>: Current canvas added to pdf file tof_triggerWindows_17150011.pdf\r\n",
      "Info in <TCanvas::Print>: Current canvas added to pdf file tof_triggerWindows_17150011.pdf\r\n",
      "Info in <TCanvas::Print>: Current canvas added to pdf file tof_triggerWindows_17150011.pdf\r\n",
      "Info in <TCanvas::Print>: Current canvas added to pdf file tof_triggerWindows_17150011.pdf\r\n",
      "Info in <TCanvas::Print>: Current canvas added to pdf file tof_triggerWindows_17150011.pdf\r\n",
      "Info in <TCanvas::Print>: Current canvas added to pdf file tof_triggerWindows_17150011.pdf\r\n",
      "Info in <TCanvas::Print>: Current canvas added to pdf file tof_triggerWindows_17150011.pdf\r\n",
      "Info in <TCanvas::Print>: Current canvas added to pdf file tof_triggerWindows_17150011.pdf\r\n",
      "Info in <TCanvas::Print>: Current canvas added to pdf file tof_triggerWindows_17150011.pdf\r\n",
      "Info in <TCanvas::Print>: Current canvas added to pdf file tof_triggerWindows_17150011.pdf\r\n",
      "Info in <TCanvas::Print>: Current canvas added to pdf file tof_triggerWindows_17150011.pdf\r\n",
      "Info in <TCanvas::Print>: Current canvas added to pdf file tof_triggerWindows_17150011.pdf\r\n",
      "Info in <TCanvas::Print>: Current canvas added to pdf file tof_triggerWindows_17150011.pdf\r\n",
      "Info in <TCanvas::Print>: Current canvas added to pdf file tof_triggerWindows_17150011.pdf\r\n",
      "Info in <TCanvas::Print>: Current canvas added to pdf file tof_triggerWindows_17150011.pdf\r\n",
      "Info in <TCanvas::Print>: Current canvas added to pdf file tof_triggerWindows_17150011.pdf\r\n",
      "Info in <TCanvas::Print>: Current canvas added to pdf file tof_triggerWindows_17150011.pdf\r\n",
      "Info in <TCanvas::Print>: Current canvas added to pdf file tof_triggerWindows_17150011.pdf\r\n",
      "Info in <TCanvas::Print>: Current canvas added to pdf file tof_triggerWindows_17150011.pdf\r\n",
      "Info in <TCanvas::Print>: Current canvas added to pdf file tof_triggerWindows_17150011.pdf\r\n",
      "Info in <TCanvas::Print>: Current canvas added to pdf file tof_triggerWindows_17150011.pdf\r\n",
      "Info in <TCanvas::Print>: Current canvas added to pdf file tof_triggerWindows_17150011.pdf\r\n"
     ]
    }
   ],
   "source": [
    "name = \"tof_triggerWindows_\" + rn + \".pdf\"\n",
    "c = R.TCanvas( \"can\", \"can\" )\n",
    "c.Print( name + \"[\" ) \n",
    "\n",
    "size = 300\n",
    "signalWidth = 85\n",
    "\n",
    "lowEdges = []\n",
    "highEdges = []\n",
    "\n",
    "for tId in range( 1, 123 ) :\n",
    "    hs = getProj( tId )\n",
    "    \n",
    "    hs.GetXaxis().SetRange( hs.GetMaximumBin() - size, hs.GetMaximumBin() + size )\n",
    "    ff = R.TF1( \"ff\", \"landau\", hs.GetMaximumBin() - 50, hs.GetMaximumBin() + 50 )\n",
    "    ff.SetLineColor( R.kRed )\n",
    "    ff.SetLineWidth( 3 )\n",
    "    hs.Fit( ff, \"RQ\" )\n",
    "    \n",
    "    cutLow = ff.GetParameter(1) - 25\n",
    "    cutHigh = ff.GetParameter(1) + signalWidth\n",
    "    \n",
    "    l1 = R.TLine( cutLow, 0, cutLow, hs.GetMaximum() )\n",
    "    l1.SetLineWidth( 3 )\n",
    "    l1.SetLineColor( R.kRed )\n",
    "    l1.Draw()\n",
    "    \n",
    "    l2 = R.TLine( cutHigh, 0, cutHigh, hs.GetMaximum() )\n",
    "    l2.SetLineWidth( 3 )\n",
    "    l2.SetLineColor( R.kRed )\n",
    "    l2.Draw()\n",
    "    \n",
    "    lowEdges.append( cutLow )\n",
    "    highEdges.append( cutHigh )\n",
    "    \n",
    "    c.SetLogy(1)\n",
    "    \n",
    "    c.Print( name )\n",
    "c.Print( name + \"]\" )\n",
    "writeTriggerWindows( lowEdges, highEdges )\n"
   ]
  },
  {
   "cell_type": "code",
   "execution_count": null,
   "metadata": {
    "collapsed": false,
    "scrolled": false
   },
   "outputs": [],
   "source": [
    "R.gStyle.SetOptFit( 1111 )\n",
    "makeReport()"
   ]
  },
  {
   "cell_type": "code",
   "execution_count": null,
   "metadata": {
    "collapsed": false,
    "scrolled": false
   },
   "outputs": [],
   "source": [
    "makeReportInline(0).Draw()"
   ]
  },
  {
   "cell_type": "code",
   "execution_count": null,
   "metadata": {
    "collapsed": false
   },
   "outputs": [],
   "source": [
    "makeReportInline(1).Draw()"
   ]
  },
  {
   "cell_type": "code",
   "execution_count": null,
   "metadata": {
    "collapsed": false
   },
   "outputs": [],
   "source": [
    "makeReportInline(2).Draw()"
   ]
  },
  {
   "cell_type": "code",
   "execution_count": null,
   "metadata": {
    "collapsed": false
   },
   "outputs": [],
   "source": [
    "makeReportInline(3).Draw()"
   ]
  },
  {
   "cell_type": "code",
   "execution_count": null,
   "metadata": {
    "collapsed": false
   },
   "outputs": [],
   "source": [
    "makeReportInline(4)"
   ]
  },
  {
   "cell_type": "code",
   "execution_count": null,
   "metadata": {
    "collapsed": false
   },
   "outputs": [],
   "source": [
    "makeReportInline(5)"
   ]
  },
  {
   "cell_type": "code",
   "execution_count": null,
   "metadata": {
    "collapsed": false
   },
   "outputs": [],
   "source": [
    "makeReportInline(6)"
   ]
  },
  {
   "cell_type": "code",
   "execution_count": null,
   "metadata": {
    "collapsed": false
   },
   "outputs": [],
   "source": [
    "makeReportInline(7)"
   ]
  },
  {
   "cell_type": "code",
   "execution_count": null,
   "metadata": {
    "collapsed": false
   },
   "outputs": [],
   "source": [
    "leTrg = data.Get(\"leTrg\")\n",
    "trTrg = data.Get(\"TrTrg\")\n",
    "can = Canvas( width=1200, height=400 )\n",
    "R.gStyle.SetOptStat(0)\n",
    "can.Divide( 2, 1 )\n",
    "can.cd(1)\n",
    "windowFor( leTrg, 121, title=\"VPD East\" )\n",
    "can.cd(2)\n",
    "windowFor( leTrg, 122, title=\"VPD West\" )\n",
    "can.Print( \"Run15_VPD_Trigger_Windows.eps\" )\n",
    "can\n"
   ]
  },
  {
   "cell_type": "code",
   "execution_count": null,
   "metadata": {
    "collapsed": false
   },
   "outputs": [],
   "source": [
    "cc = R.TCanvas( \"cc1\", \"cc1\", 300, 300 )\n",
    "h = R.TH1D( \"h\", \"h\", 100, -10, 10 )\n",
    "h.FillRandom( \"gaus\" )\n",
    "h.Draw()\n",
    "l1 = R.TLine( 0, 0, 0, 500)\n",
    "l1.Draw()\n",
    "cc.Draw()"
   ]
  },
  {
   "cell_type": "code",
   "execution_count": null,
   "metadata": {
    "collapsed": true
   },
   "outputs": [],
   "source": []
  }
 ],
 "metadata": {
  "kernelspec": {
   "display_name": "Python 2",
   "language": "python",
   "name": "python2"
  },
  "language_info": {
   "codemirror_mode": {
    "name": "ipython",
    "version": 2
   },
   "file_extension": ".py",
   "mimetype": "text/x-python",
   "name": "python",
   "nbconvert_exporter": "python",
   "pygments_lexer": "ipython2",
   "version": "2.7.10"
  }
 },
 "nbformat": 4,
 "nbformat_minor": 0
}
