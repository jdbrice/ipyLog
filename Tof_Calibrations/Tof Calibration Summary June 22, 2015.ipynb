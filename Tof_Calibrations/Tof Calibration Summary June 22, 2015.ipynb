{
 "cells": [
  {
   "cell_type": "markdown",
   "metadata": {},
   "source": [
    "##Tof Calibration Summary:\n",
    "\n",
    "#### Run12 CuAu 200 GeV:\n",
    "VPD average single detector start time resolution: 92ps  \n",
    "VPD Z vertex Resolution: 1.4 cm  \n",
    "Total TOF timing Resolution (start) : ~78ps  \n",
    "BTOF Stop Time Resolution (startless resolution) : 75ps  \n",
    "\n",
    "#### Run13 PP 500 GeV:\n",
    "VPD average single detector start time resolution: 133ps  \n",
    "VPD Z vertex Resolution: 2.2 cm  \n",
    "Total TOF timing Resolution (start) : ~155ps  \n",
    "BTOF Stop Time Resolution (startless resolution) : 80ps  \n",
    " \n",
    "#### Run14 AuAu 14.5 GeV:\n",
    "VPD average single detector start time resolution: 170ps  \n",
    "VPD Z vertex Resolution: 3.24 cm  \n",
    "Total TOF timing Resolution (vpd start) : ~146ps (not used)  \n",
    "BTOF Stop Time Resolution (startless resolution) : 84ps  \n",
    "\n",
    "\n",
    "#### Run14 AuHe3 200 GeV:\n",
    "VPD average single detector start time resolution: 96ps  \n",
    "VPD Z vertex Resolution: 1.6 cm  \n",
    "Total TOF timing Resolution (vpd start) : ~125ps ( not used )  \n",
    "BTOF Stop Time Resolution (startless resolution) : 79ps  \n",
    "\n",
    "\n",
    "#### Run14 AuAu 200 GeV:\n",
    "- For this calibration all 23K cells in BTOF were calibrated to correct for zLocal and ToT effects.  \n",
    "\n",
    "VPD average single detector start time resolution: 68ps  \n",
    "VPD Z vertex Resolution: 0.8 cm  \n",
    "Total TOF timing Resolution (vpd start) : ~73ps  \n",
    "BTOF Stop Time Resolution (startless resolution) : 70ps  \n",
    "\n",
    "#### Run15 PP 200 GeV (fast offline data only):\n",
    "VPD average single detector start time resolution: 122ps  \n",
    "VPD Z vertex Resolution: 3.6 cm  \n",
    "\n",
    "#### Run15 PAu 200 GeV (fast offline data only):\n",
    "VPD average single detector start time resolution: 122ps  \n",
    "VPD Z vertex Resolution: 3.5 cm  \n",
    "\n"
   ]
  },
  {
   "cell_type": "code",
   "execution_count": null,
   "metadata": {
    "collapsed": true
   },
   "outputs": [],
   "source": []
  }
 ],
 "metadata": {
  "kernelspec": {
   "display_name": "Python 2",
   "language": "python",
   "name": "python2"
  },
  "language_info": {
   "codemirror_mode": {
    "name": "ipython",
    "version": 2
   },
   "file_extension": ".py",
   "mimetype": "text/x-python",
   "name": "python",
   "nbconvert_exporter": "python",
   "pygments_lexer": "ipython2",
   "version": "2.7.9"
  }
 },
 "nbformat": 4,
 "nbformat_minor": 0
}
