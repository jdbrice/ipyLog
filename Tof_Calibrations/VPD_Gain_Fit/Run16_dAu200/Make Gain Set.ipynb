{
 "cells": [
  {
   "cell_type": "markdown",
   "metadata": {},
   "source": [
    "## Makes VPD Gain File A or C from B\n",
    "- Put 'SetB.save' in the directory"
   ]
  },
  {
   "cell_type": "code",
   "execution_count": 2,
   "metadata": {
    "collapsed": false
   },
   "outputs": [
    {
     "name": "stdout",
     "output_type": "stream",
     "text": [
      "set : C\n"
     ]
    }
   ],
   "source": [
    "\n",
    "setName = raw_input( \"set : \")\n",
    "\n",
    "if \"A\" == setName :\n",
    "    v = -150\n",
    "elif \"B\" == setName:\n",
    "    v = 0\n",
    "else :\n",
    "    setNAme = \"C\"\n",
    "    v = 150\n",
    "\n",
    "with open( 'setB.save' ) as f:\n",
    "    lines = f.readlines( )\n",
    "    \n",
    "    with  open( 'set' + setName + '.save', 'w' ) as fo :\n",
    "        for l in lines :\n",
    "\n",
    "            if 0 == float( l ) :\n",
    "                nv = 0.0\n",
    "            else :\n",
    "                nv = float(l) + v\n",
    "\n",
    "            # I hope it does not matter but just want to match exactly what is already used\n",
    "            if 0 == nv :\n",
    "                fo.write( \"\" + str(nv) + \"\\n\" )\n",
    "            else :\n",
    "                fo.write( \"\" + str(int(nv)) + \"\\n\" )\n",
    "    "
   ]
  },
  {
   "cell_type": "code",
   "execution_count": null,
   "metadata": {
    "collapsed": true
   },
   "outputs": [],
   "source": []
  }
 ],
 "metadata": {
  "kernelspec": {
   "display_name": "Python 2",
   "language": "python",
   "name": "python2"
  },
  "language_info": {
   "codemirror_mode": {
    "name": "ipython",
    "version": 2
   },
   "file_extension": ".py",
   "mimetype": "text/x-python",
   "name": "python",
   "nbconvert_exporter": "python",
   "pygments_lexer": "ipython2",
   "version": "2.7.10"
  }
 },
 "nbformat": 4,
 "nbformat_minor": 0
}
