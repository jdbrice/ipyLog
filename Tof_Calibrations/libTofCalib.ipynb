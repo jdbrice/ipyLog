{
 "cells": [
  {
   "cell_type": "code",
   "execution_count": 1,
   "metadata": {
    "collapsed": true
   },
   "outputs": [],
   "source": [
    "import rootpy.ROOT as ROOT\n",
    "\n",
    "def reportVPD( dFile ) : \n",
    "    c.Clear()\n",
    "    c.Divide( 2, 1 )\n",
    "    c.cd(1)\n",
    "    ROOT.gStyle.SetOptStat( 1110 )\n",
    "    hVpd = dFile.zvertexVPD\n",
    "    hTpc = dFile.zvertex\n",
    "    hVpd.SetLineWidth( 2 )\n",
    "    hVpd.SetTitle( \"VPD (Black), TPC (Red)\" )\n",
    "    hVpd.Draw()\n",
    "    hTpc.SetLineColor( 'red' )\n",
    "    hTpc.SetLineWidth( 2 )\n",
    "    hTpc.Draw( \"same\" )\n",
    "\n",
    "    c.cd(2)\n",
    "    # Draw the difference between VPD and TPC\n",
    "    hDelta = f.zvertexDelta\n",
    "    hDelta.GetXaxis().SetRangeUser( -5, 5 )\n",
    "    fit = hDelta.Fit( \"gaus\", \"S\", \"\", -1, 1 )\n",
    "    hDelta.Draw()\n",
    "    hDelta.GetXaxis().SetTitle( \"Z_{TPC} - Z_{VPD} [cm]\" )\n",
    "    ROOT.gStyle.SetOptStat( 0 )\n",
    "    ROOT.gStyle.SetOptFit( 111 )\n",
    "    return c"
   ]
  },
  {
   "cell_type": "code",
   "execution_count": null,
   "metadata": {
    "collapsed": true
   },
   "outputs": [],
   "source": []
  }
 ],
 "metadata": {
  "kernelspec": {
   "display_name": "Python 2",
   "language": "python",
   "name": "python2"
  },
  "language_info": {
   "codemirror_mode": {
    "name": "ipython",
    "version": 2
   },
   "file_extension": ".py",
   "mimetype": "text/x-python",
   "name": "python",
   "nbconvert_exporter": "python",
   "pygments_lexer": "ipython2",
   "version": "2.7.9"
  }
 },
 "nbformat": 4,
 "nbformat_minor": 0
}
