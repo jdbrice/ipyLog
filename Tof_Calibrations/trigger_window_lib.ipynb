{
 "cells": [
  {
   "cell_type": "code",
   "execution_count": 1,
   "metadata": {
    "collapsed": true
   },
   "outputs": [],
   "source": [
    "%matplotlib inline\n",
    "import rootpy.ROOT as R\n",
    "R.gROOT.SetBatch(True)\n",
    "from rootpy.plotting import root2matplotlib as rplt\n",
    "from matplotlib import pyplot as plt\n",
    "from rootpy.io import root_open, DoesNotExist\n",
    "from rootpy.plotting import Canvas, Hist, Legend"
   ]
  },
  {
   "cell_type": "code",
   "execution_count": 1,
   "metadata": {
    "collapsed": true
   },
   "outputs": [],
   "source": [
    "def windowFor( h2, tId, **kwargs ) :\n",
    "    \n",
    "    signalWidth = 85\n",
    "    #get the slice\n",
    "    hs = h2.ProjectionY( \"tray_\" + str(tId), tId, tId )\n",
    "    \n",
    "    size = 100\n",
    "    if \"size\" in kwargs :\n",
    "        size = kwargs[\"size\"]\n",
    "    \n",
    "    # look at the peak\n",
    "    hs.GetXaxis().SetRange( hs.GetMaximumBin() - size, hs.GetMaximumBin() + size )\n",
    "    ff = R.TF1( \"bob\", \"landau\", hs.GetMaximumBin() - 50, hs.GetMaximumBin() + 50 )\n",
    "    ff.SetLineColor( R.kRed )\n",
    "    ff.SetLineWidth( 3 )\n",
    "    hs.Fit( \"bob\", \"RQN\" )\n",
    "    \n",
    "    cutLow = ff.GetParameter(1) - 25\n",
    "    cutHigh = ff.GetParameter(1) + signalWidth\n",
    "    #print \"par1=\", ff.GetParameter(1)\n",
    "    hs.Draw( \"h\" );\n",
    "    \n",
    "    hMax = hs.GetMaximum() * 2\n",
    "    l1 = R.TLine( cutLow, 0, cutLow, hMax )\n",
    "    l1.SetLineColor( R.kBlue )\n",
    "    l1.SetLineWidth( 3 )\n",
    "    l2 = R.TLine( cutHigh, 0, cutHigh, hMax )\n",
    "    l2.SetLineColor( R.kBlue )\n",
    "    l2.SetLineWidth( 3 )\n",
    "    l1.Draw()\n",
    "    l2.Draw()\n",
    "    \n",
    "    if \"title\" in kwargs :\n",
    "        hs.SetTitle( kwargs[ \"title\"] )\n",
    "    hs.GetXaxis().SetTitle( \"\" )\n",
    "    hs.GetYaxis().SetTitle( \"[#]\" )\n",
    "    \n",
    "    hs.SetAxisRange( cutLow - size, cutHigh + size, \"X\" )\n",
    "    R.gPad.SetLogy(1)\n",
    "    \n",
    "    if hMax < 1 :\n",
    "        print \"tray \", tId, \" is dead\"\n",
    "        \n",
    "    return int(cutLow), int(cutHigh)"
   ]
  },
  {
   "cell_type": "code",
   "execution_count": 9,
   "metadata": {
    "collapsed": true
   },
   "outputs": [],
   "source": [
    "def writeTriggerWindows( lowEdges, highEdges ) :\n",
    "    fname =\"triggerWindows_\" + rn + \".dat\"\n",
    "    print \"Exporting trigger windows to \", fname\n",
    "    target = open( fname, \"w\" )\n",
    "    target.write( \"double cutlow[122] ={\\n\" )\n",
    "    for i in range( 1, 123 ):\n",
    "        if i != 122 :\n",
    "            target.write(\"%i,\"% lowEdges[ i-1 ])\n",
    "        else :\n",
    "            target.write(\"%i };\"% lowEdges[ i-1 ])\n",
    "        if i % 10 == 0:\n",
    "            target.write(\"\\n\")\n",
    "            \n",
    "    target.write(\"\\n\\n\")\n",
    "    target.write(\"double cuthi[122] ={\\n\")\n",
    "    for i in range( 1, 123 ):\n",
    "        if i != 122 :\n",
    "            target.write(\"%i,\"% highEdges[ i-1 ])\n",
    "        else :\n",
    "            target.write(\"%i };\"% highEdges[ i-1 ])\n",
    "        if i % 10 == 0:\n",
    "            target.write(\"\\n\")\n",
    "    target.close()"
   ]
  },
  {
   "cell_type": "code",
   "execution_count": 11,
   "metadata": {
    "collapsed": true
   },
   "outputs": [],
   "source": [
    "def makeReport( **kwarg ) :\n",
    "    \n",
    "    leTrg = data.Get(\"leTrg\")\n",
    "    trTrg = data.Get(\"TrTrg\")\n",
    "\n",
    "    can = Canvas( width=2000, height=1200 )\n",
    "    can.Clear()\n",
    "    name = \"triggerWindows_\" + rn + \".pdf\"\n",
    "    if \"name\" in kwarg :\n",
    "        name = kwarg[ \"name\" ]\n",
    "    print \"Generating PDF report at \", name\n",
    "    can.Print( name + \"[\" )\n",
    "    ndivX = 1\n",
    "    ndivY = 2\n",
    "    ndiv = ndivX * ndivY\n",
    "    can.Divide( ndivX, ndivY )\n",
    "    lowEdges = []\n",
    "    highEdges = []\n",
    "\n",
    "    for tId in range( 1, 123 ):\n",
    "        can.cd( (tId-1) % ndiv + 1  )\n",
    "        low, high = windowFor( leTrg, tId, size=300 )\n",
    "        lowEdges.append( low )\n",
    "        highEdges.append( high )\n",
    "        if  ((tId-1) % ndiv == ndiv-1) or (tId == 122):\n",
    "            can.Print( name )\n",
    "            can.Clear()\n",
    "            can.Divide( ndivX, ndivY )\n",
    "    \n",
    "    can.Print( name + \"]\" )\n",
    "    \n",
    "    writeTriggerWindows(lowEdges, highEdges)"
   ]
  },
  {
   "cell_type": "code",
   "execution_count": 12,
   "metadata": {
    "collapsed": true
   },
   "outputs": [],
   "source": [
    "def reportTriggerWindowsInline( lowEdges, highEdges ) :\n",
    "    print \"double cutlow[122] ={\"\n",
    "    for i in range( 1, 123 ):\n",
    "        if i != 122 :\n",
    "            print(\"%i,\"% lowEdges[ i-1 ]),\n",
    "        else :\n",
    "            print(\"%i };\"% lowEdges[ i-1 ]),\n",
    "        if i % 10 == 0:\n",
    "            print \"\"\n",
    "\n",
    "    print \"\\n\"\n",
    "    print \"double cuthi[122] ={\"\n",
    "    for i in range( 1, 123 ):\n",
    "        if i != 122 :\n",
    "            print(\"%i,\"% highEdges[ i-1 ]),\n",
    "        else :\n",
    "            print(\"%i };\"% highEdges[ i-1 ]),\n",
    "        if i % 10 == 0:\n",
    "            print \"\""
   ]
  },
  {
   "cell_type": "code",
   "execution_count": 14,
   "metadata": {
    "collapsed": true
   },
   "outputs": [],
   "source": [
    "def makeReportInline( page ) :\n",
    "    leTrg = data.Get(\"leTrg\")\n",
    "    trTrg = data.Get(\"TrTrg\")\n",
    "\n",
    "    can = Canvas( width=2000, height=1200 )\n",
    "    can.Clear()\n",
    "    \n",
    "    can.Divide( 4, 4 )\n",
    "    lowEdges = []\n",
    "    highEdges = []\n",
    "\n",
    "    for tId in range( 1 + 16 * page, 1 + 16 * (page + 1) ):\n",
    "        can.cd( tId - 16 * page  )\n",
    "        low, high = windowFor( leTrg, tId, size=500 )\n",
    "        lowEdges.append( low )\n",
    "        highEdges.append( high )\n",
    "    \n",
    "    #if 0 == page :\n",
    "    #    reportTriggerWindowsInline(lowEdges, highEdges)\n",
    "    return can"
   ]
  },
  {
   "cell_type": "code",
   "execution_count": null,
   "metadata": {
    "collapsed": true
   },
   "outputs": [],
   "source": []
  }
 ],
 "metadata": {
  "kernelspec": {
   "display_name": "Python 2",
   "language": "python",
   "name": "python2"
  },
  "language_info": {
   "codemirror_mode": {
    "name": "ipython",
    "version": 2
   },
   "file_extension": ".py",
   "mimetype": "text/x-python",
   "name": "python",
   "nbconvert_exporter": "python",
   "pygments_lexer": "ipython2",
   "version": "2.7.11"
  }
 },
 "nbformat": 4,
 "nbformat_minor": 0
}
