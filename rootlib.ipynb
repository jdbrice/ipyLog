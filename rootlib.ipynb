{
 "cells": [
  {
   "cell_type": "code",
   "execution_count": null,
   "metadata": {
    "collapsed": true
   },
   "outputs": [],
   "source": [
    "%matplotlib inline\n",
    "import rootpy.ROOT as R\n",
    "R.gROOT.SetBatch(True)\n",
    "from rootpy.io import root_open, DoesNotExist\n",
    "from rootpy.plotting import Canvas, Hist, Legend\n",
    "import rootpy.plotting.root2matplotlib as rplt\n",
    "import matplotlib.pyplot as plt"
   ]
  },
  {
   "cell_type": "code",
   "execution_count": null,
   "metadata": {
    "collapsed": false
   },
   "outputs": [],
   "source": [
    "c1 = Canvas( width=1000, height=500 )"
   ]
  },
  {
   "cell_type": "code",
   "execution_count": null,
   "metadata": {
    "collapsed": true
   },
   "outputs": [],
   "source": [
    "def statBoxLeft():\n",
    "    stats = R.gPad.GetPrimitive(\"stats\")\n",
    "    stats.SetX1NDC(0.15)\n",
    "    stats.SetX2NDC(0.35)"
   ]
  },
  {
   "cell_type": "code",
   "execution_count": 2,
   "metadata": {
    "collapsed": true
   },
   "outputs": [],
   "source": [
    "def rget( name ) :\n",
    "    return R.gDirectory.Get( name )"
   ]
  },
  {
   "cell_type": "code",
   "execution_count": 6,
   "metadata": {
    "collapsed": true
   },
   "outputs": [],
   "source": [
    "def fillHist( hist, vals, errors, firstBin = 0 ) :\n",
    "    iBin = 1 + firstBin\n",
    "    for v, e in zip( vals, errors ) :\n",
    "        hist.SetBinContent( iBin, v )\n",
    "        hist.SetBinError( iBin, e )\n",
    "        iBin = iBin+1"
   ]
  },
  {
   "cell_type": "code",
   "execution_count": null,
   "metadata": {
    "collapsed": true
   },
   "outputs": [],
   "source": []
  }
 ],
 "metadata": {
  "kernelspec": {
   "display_name": "Python 2",
   "language": "python",
   "name": "python2"
  },
  "language_info": {
   "codemirror_mode": {
    "name": "ipython",
    "version": 2
   },
   "file_extension": ".py",
   "mimetype": "text/x-python",
   "name": "python",
   "nbconvert_exporter": "python",
   "pygments_lexer": "ipython2",
   "version": "2.7.11"
  }
 },
 "nbformat": 4,
 "nbformat_minor": 0
}
